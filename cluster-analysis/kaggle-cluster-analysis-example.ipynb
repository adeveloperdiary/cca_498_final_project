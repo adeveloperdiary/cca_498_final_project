{
 "cells": [
  {
   "cell_type": "markdown",
   "metadata": {
    "_cell_guid": "527f8013-12fd-1810-0fb3-b9786b824131",
    "_uuid": "4fa53f2c0384586eee8fad4c5cf55c5c3cb2295b"
   },
   "source": [
    "Use LSA to identify related questions"
   ]
  },
  {
   "cell_type": "code",
   "execution_count": 1,
   "metadata": {
    "_cell_guid": "7475d44f-5f80-f377-a244-f893f525f36e",
    "_uuid": "07e2398cb2c22167f77be8bc3652fd7b173273e7"
   },
   "outputs": [],
   "source": [
    "import numpy as np\n",
    "import pandas as pd\n",
    "import matplotlib.pyplot as plt\n",
    "%matplotlib inline\n",
    "import nltk\n",
    "from multiprocessing import Pool\n",
    "from nltk.tokenize import word_tokenize\n",
    "from nltk.corpus import stopwords\n",
    "from nltk.stem import WordNetLemmatizer\n",
    "from sklearn.feature_extraction.text import TfidfVectorizer, CountVectorizer\n",
    "import re\n",
    "from itertools import chain\n",
    "from collections import Counter\n",
    "import pickle\n",
    "import scipy.io as scio\n",
    "from sklearn.decomposition import TruncatedSVD\n",
    "import scipy.spatial.distance as distance\n",
    "import scipy.cluster.hierarchy as hierarchy\n",
    "from scipy.stats import pearsonr"
   ]
  },
  {
   "cell_type": "markdown",
   "metadata": {
    "_cell_guid": "98803c67-0c76-723c-2b88-1671625f3564",
    "_uuid": "5651a50b360ee68c4806a3b16edf58276f5e3f56"
   },
   "source": []
  },
  {
   "cell_type": "code",
   "execution_count": 2,
   "metadata": {
    "_cell_guid": "bc53c232-7d90-b512-68e2-b252020d0c39",
    "_uuid": "386c13f52dbcaa96ed75c7092f2f9f583f75311e"
   },
   "outputs": [],
   "source": [
    "dat = pd.read_csv(\"../raw_data/local-dev/Questions.csv\", encoding='latin1')\n",
    "dat['Title'].fillna(\"None\", inplace=True)\n",
    "dat['Score'].fillna(0, inplace=True)"
   ]
  },
  {
   "cell_type": "markdown",
   "metadata": {
    "_cell_guid": "8efb7f69-23ae-129f-dbf0-82d01e8fc915",
    "_uuid": "ebc2f7353be1197ac2fbcf33cf0118d5061d0418"
   },
   "source": []
  },
  {
   "cell_type": "code",
   "execution_count": 3,
   "metadata": {
    "_cell_guid": "3d94a6c6-e705-2b34-2bc3-170a9913f433",
    "_uuid": "720985e8fb922674cc73d76568ebc28b4a37e666"
   },
   "outputs": [
    {
     "data": {
      "text/html": [
       "<div>\n",
       "<style scoped>\n",
       "    .dataframe tbody tr th:only-of-type {\n",
       "        vertical-align: middle;\n",
       "    }\n",
       "\n",
       "    .dataframe tbody tr th {\n",
       "        vertical-align: top;\n",
       "    }\n",
       "\n",
       "    .dataframe thead th {\n",
       "        text-align: right;\n",
       "    }\n",
       "</style>\n",
       "<table border=\"1\" class=\"dataframe\">\n",
       "  <thead>\n",
       "    <tr style=\"text-align: right;\">\n",
       "      <th></th>\n",
       "      <th>Id</th>\n",
       "      <th>OwnerUserId</th>\n",
       "      <th>CreationDate</th>\n",
       "      <th>Score</th>\n",
       "      <th>Title</th>\n",
       "      <th>Body</th>\n",
       "    </tr>\n",
       "  </thead>\n",
       "  <tbody>\n",
       "    <tr>\n",
       "      <th>0</th>\n",
       "      <td>17532666</td>\n",
       "      <td>2556416.0</td>\n",
       "      <td>2013-07-08T17:33:15Z</td>\n",
       "      <td>0</td>\n",
       "      <td>Migrating to Twitter API version 1.1 (?) [dupl...</td>\n",
       "      <td>&lt;p&gt;I am quite new to Twitter API. I have updat...</td>\n",
       "    </tr>\n",
       "    <tr>\n",
       "      <th>1</th>\n",
       "      <td>10540999</td>\n",
       "      <td>161085.0</td>\n",
       "      <td>2012-05-10T19:37:09Z</td>\n",
       "      <td>4</td>\n",
       "      <td>How to configure a Clojure library at runtime?</td>\n",
       "      <td>&lt;p&gt;As a Clojure learning exercise, I am portin...</td>\n",
       "    </tr>\n",
       "    <tr>\n",
       "      <th>2</th>\n",
       "      <td>34126234</td>\n",
       "      <td>3769629.0</td>\n",
       "      <td>2015-12-07T04:02:48Z</td>\n",
       "      <td>0</td>\n",
       "      <td>Handling JSON file with python</td>\n",
       "      <td>&lt;p&gt;I'm developing a plugin for sublime text an...</td>\n",
       "    </tr>\n",
       "    <tr>\n",
       "      <th>3</th>\n",
       "      <td>23721800</td>\n",
       "      <td>2474015.0</td>\n",
       "      <td>2014-05-18T12:19:40Z</td>\n",
       "      <td>0</td>\n",
       "      <td>Getting a MemoryError because list/array is to...</td>\n",
       "      <td>&lt;h2&gt;Problem&lt;/h2&gt;\\n\\n&lt;p&gt;I have to download &lt;cod...</td>\n",
       "    </tr>\n",
       "    <tr>\n",
       "      <th>4</th>\n",
       "      <td>10126239</td>\n",
       "      <td>891306.0</td>\n",
       "      <td>2012-04-12T14:59:27Z</td>\n",
       "      <td>3</td>\n",
       "      <td>Reading output with telnetlib in realtime</td>\n",
       "      <td>&lt;p&gt;I'm using Python's telnetlib to telnet to s...</td>\n",
       "    </tr>\n",
       "  </tbody>\n",
       "</table>\n",
       "</div>"
      ],
      "text/plain": [
       "         Id  OwnerUserId          CreationDate  Score  \\\n",
       "0  17532666    2556416.0  2013-07-08T17:33:15Z      0   \n",
       "1  10540999     161085.0  2012-05-10T19:37:09Z      4   \n",
       "2  34126234    3769629.0  2015-12-07T04:02:48Z      0   \n",
       "3  23721800    2474015.0  2014-05-18T12:19:40Z      0   \n",
       "4  10126239     891306.0  2012-04-12T14:59:27Z      3   \n",
       "\n",
       "                                               Title  \\\n",
       "0  Migrating to Twitter API version 1.1 (?) [dupl...   \n",
       "1     How to configure a Clojure library at runtime?   \n",
       "2                     Handling JSON file with python   \n",
       "3  Getting a MemoryError because list/array is to...   \n",
       "4          Reading output with telnetlib in realtime   \n",
       "\n",
       "                                                Body  \n",
       "0  <p>I am quite new to Twitter API. I have updat...  \n",
       "1  <p>As a Clojure learning exercise, I am portin...  \n",
       "2  <p>I'm developing a plugin for sublime text an...  \n",
       "3  <h2>Problem</h2>\\n\\n<p>I have to download <cod...  \n",
       "4  <p>I'm using Python's telnetlib to telnet to s...  "
      ]
     },
     "execution_count": 3,
     "metadata": {},
     "output_type": "execute_result"
    }
   ],
   "source": [
    "dat.head()"
   ]
  },
  {
   "cell_type": "code",
   "execution_count": 4,
   "metadata": {
    "_cell_guid": "44c5675a-af0c-c90b-27e1-cca6724378a4",
    "_uuid": "6ccbeb2b936dd81a4088c4c235e254702a788d1e"
   },
   "outputs": [
    {
     "data": {
      "text/plain": [
       "(10000, 6)"
      ]
     },
     "execution_count": 4,
     "metadata": {},
     "output_type": "execute_result"
    }
   ],
   "source": [
    "# select a sample - results will improve without sampling in tf-idf caluculations, but due to\n",
    "# Kaggle kernel memory limit we have to make a compromise here.\n",
    "selected_ids = np.random.choice(range(dat.shape[0]), 10000, replace=False)\n",
    "sample = dat.loc[selected_ids, :]\n",
    "sample.shape"
   ]
  },
  {
   "cell_type": "markdown",
   "metadata": {
    "_cell_guid": "3c04453b-3a7d-22b9-0506-eaf3825caae3",
    "_uuid": "54e1a822cd33422b03255d31e85fdf25929b31ae"
   },
   "source": []
  },
  {
   "cell_type": "code",
   "execution_count": 5,
   "metadata": {
    "_cell_guid": "2cd93cf7-f747-2d5e-288e-bfa95015e310",
    "_uuid": "e6c2b3bcb07c1a621bb39c02a35245057219a442"
   },
   "outputs": [],
   "source": [
    "def purify_string(html):\n",
    "    return re.sub('(\\r\\n)+|\\r+|\\n+', \" \", re.sub('<[^<]+?>', '', html))"
   ]
  },
  {
   "cell_type": "code",
   "execution_count": 6,
   "metadata": {
    "_cell_guid": "b8d5dc1d-542d-e727-35c0-02644611bf16",
    "_uuid": "662f96b1cfabea77562782773d3f6f980b020f70"
   },
   "outputs": [
    {
     "name": "stderr",
     "output_type": "stream",
     "text": [
      "/Users/adantonison/.virtualenvs/cca-project/lib/python3.6/site-packages/ipykernel_launcher.py:1: DeprecationWarning: \n",
      ".ix is deprecated. Please use\n",
      ".loc for label based indexing or\n",
      ".iloc for positional indexing\n",
      "\n",
      "See the documentation here:\n",
      "http://pandas.pydata.org/pandas-docs/stable/indexing.html#ix-indexer-is-deprecated\n",
      "  \"\"\"Entry point for launching an IPython kernel.\n"
     ]
    }
   ],
   "source": [
    "corpus = sample.ix[:, 'Body'].apply(purify_string)"
   ]
  },
  {
   "cell_type": "code",
   "execution_count": 7,
   "metadata": {
    "_cell_guid": "8d993582-63f1-ebf8-963f-c7f006578fcc",
    "_uuid": "cc3b25289560a595d97d7d8f33cc1fb60e3cbcdf"
   },
   "outputs": [],
   "source": [
    "def combine_title_body(tnb):\n",
    "    return tnb[0] + \" \" + tnb[1]"
   ]
  },
  {
   "cell_type": "code",
   "execution_count": 8,
   "metadata": {
    "_cell_guid": "9cb4859e-eed7-c7fd-e29c-edbef8d897ee",
    "_uuid": "5a19d62f237c3c076cd891df4d9af3ae7be6336a"
   },
   "outputs": [],
   "source": [
    "p = Pool(8)\n",
    "combined_corpus = p.map(combine_title_body, zip(dat['Title'], corpus))\n",
    "p.close()"
   ]
  },
  {
   "cell_type": "code",
   "execution_count": 9,
   "metadata": {
    "_cell_guid": "bc632662-b7c2-eed4-9e12-aad1c3321c38",
    "_uuid": "48c9b383ec6f75275eaff19ee048e02e172a772d"
   },
   "outputs": [
    {
     "data": {
      "text/plain": [
       "['Migrating to Twitter API version 1.1 (?) [duplicated] I\\'m trying to setup my django administration page with HighCharts so I can allow admins to visualize some of the data easily.  I can currently get the total number of riders for all objects within the PeopleCount model (totalPeople), but when I try filtering by a StopID (totalPeopleByStop), it breaks.  Here is my models.py, along with the aforementioned methods in the PeopleCount class: from django.db import models from django.template.loader import render_to_string class Vehicle(models.Model):     VehID = models.AutoField(primary_key=True)     Title = models.CharField(max_length=40)     Driver = models.CharField(max_length=25) def __unicode__(self):     return self.Title class Location(models.Model):     LocID = models.AutoField(primary_key=True)     VehID = models.ForeignKey(\\'Vehicle\\')     Latitude = models.DecimalField(max_digits=10, decimal_places=6)     Longitude = models.DecimalField(max_digits=10, decimal_places=6)     Speed = models.DecimalField(max_digits=4, decimal_places=1)     def __unicode__(self):        #VehID + LocID Identifier        return str(self.LocID) class PeopleCount(models.Model):     CountID = models.AutoField(primary_key=True)     StopID = models.ForeignKey(\\'StopLocation\\')     VehID = models.ForeignKey(\\'Vehicle\\')     LocID = models.ForeignKey(\\'Location\\')     Date = models.DateField(auto_now_add=True, blank=False)     Time = models.TimeField(auto_now_add=True)     Count = models.IntegerField()     Date.editable = True     Time.editable = True     def totalPeople(self):         totPeople = 0         for model in PeopleCount.objects.all():             totPeople += model.Count         return totPeople     def totalPeopleByStop(self, stopname):         totPeople = 0         name = stopname         for model in PeopleCount.objects.filter(StopID=stopname).all():             totPeople += model.Count         return totPeople     def __unicode__(self):         return str(self.CountID)     def peoplecount_chart(self):        totalPeople = self.totalPeople()        totalRamsey = self.totalPeopleByStop(\"Ramsey\")        lu = { \\'categories\\' : [self.StopID],\\\\            \\'tot_riders\\' : [self.Count],\\\\            \\'tot_riders_at_stop\\' : [totalPeople]}        return render_to_string(\\'admin/tracker/peoplecount/peoplecount_chart.html\\', lu )      peoplecount_chart.allow_tags = True class StopLocation(models.Model):     StopID = models.AutoField(primary_key=True)     StopName = models.CharField(max_length=40)     Latitude = models.DecimalField(max_digits=10, decimal_places=6)     Longitude = models.DecimalField(max_digits=10, decimal_places=6)     def __unicode__(self):         #VehID + LocID Identifier         return str(self.StopName) There aren\\'t any errors that occur through django or in any logs, so I\\'m not entirely sure how to get totalPeopleByStop() working correctly. ',\n",
       " \"How to configure a Clojure library at runtime? I have no idea why this happens and then it doesn't come up with any typing cursor even when I click so I can't edit anything. I'm running Windows 10, and Python 3.4.4. Anyone know why this is happening?   Cannon update File menu Recent Files list. Your operating system says:      [Errno 13] Permission denied:      'C:\\\\Users\\\\Aaron\\\\.idlerc\\\\recent-files.lst' Solved, my .idlerc folder was hidden, after making it visible everything worked fine. \"]"
      ]
     },
     "execution_count": 9,
     "metadata": {},
     "output_type": "execute_result"
    }
   ],
   "source": [
    "combined_corpus[:2]"
   ]
  },
  {
   "cell_type": "markdown",
   "metadata": {
    "_cell_guid": "23532fbf-508e-be9f-ed49-2d85d08fa7fc",
    "_uuid": "91c77bc93faf744a67df0a5a31b7d9831f9ad788"
   },
   "source": []
  },
  {
   "cell_type": "code",
   "execution_count": 10,
   "metadata": {},
   "outputs": [
    {
     "name": "stdout",
     "output_type": "stream",
     "text": [
      "[nltk_data] Downloading package punkt to\n",
      "[nltk_data]     /Users/adantonison/nltk_data...\n",
      "[nltk_data]   Package punkt is already up-to-date!\n"
     ]
    },
    {
     "data": {
      "text/plain": [
       "True"
      ]
     },
     "execution_count": 10,
     "metadata": {},
     "output_type": "execute_result"
    }
   ],
   "source": [
    "nltk.download('punkt')"
   ]
  },
  {
   "cell_type": "code",
   "execution_count": 11,
   "metadata": {},
   "outputs": [
    {
     "name": "stdout",
     "output_type": "stream",
     "text": [
      "[nltk_data] Downloading package wordnet to\n",
      "[nltk_data]     /Users/adantonison/nltk_data...\n",
      "[nltk_data]   Package wordnet is already up-to-date!\n"
     ]
    },
    {
     "data": {
      "text/plain": [
       "True"
      ]
     },
     "execution_count": 11,
     "metadata": {},
     "output_type": "execute_result"
    }
   ],
   "source": [
    "nltk.download('wordnet')"
   ]
  },
  {
   "cell_type": "code",
   "execution_count": 12,
   "metadata": {
    "_cell_guid": "ecbb0904-c13c-846b-eedb-0db264a1e163",
    "_uuid": "2a2085b81b9db7dd3e9520d426f97097948e7edf"
   },
   "outputs": [],
   "source": [
    "lem = WordNetLemmatizer()\n",
    "def cond_tokenize(t):\n",
    "    if t is None:\n",
    "        return []\n",
    "    else:\n",
    "        return [lem.lemmatize(w.lower()) for w in word_tokenize(t)]\n",
    "\n",
    "p = Pool(8)\n",
    "tokens = list(p.imap(cond_tokenize, combined_corpus))\n",
    "p.close()"
   ]
  },
  {
   "cell_type": "markdown",
   "metadata": {
    "_cell_guid": "bb0ff317-a30b-9492-ad81-4e2050814ba8",
    "_uuid": "85d7cfccf5f466cde3efd8e8c8652bef3c658bf3"
   },
   "source": []
  },
  {
   "cell_type": "code",
   "execution_count": 13,
   "metadata": {
    "_cell_guid": "a34eccce-f045-bdc5-62fc-8f46f3178837",
    "_uuid": "98df3feeb6373a945a274297b7f0ffddd564a98f"
   },
   "outputs": [],
   "source": [
    "# stops = stopwords.words('english')\n",
    "pure_tokens = [\" \".join(sent) for sent in tokens]"
   ]
  },
  {
   "cell_type": "markdown",
   "metadata": {
    "_cell_guid": "09442586-b7e0-1932-5a09-38cbfddaaab3",
    "_uuid": "c7756400944e29167364d8223580d807f36006e9"
   },
   "source": []
  },
  {
   "cell_type": "code",
   "execution_count": 14,
   "metadata": {
    "_cell_guid": "2c958ef8-b773-a294-a93c-7270a3aad586",
    "_uuid": "e4a10051dc8ec371275bedb3f0354091d14ed697"
   },
   "outputs": [],
   "source": [
    "vectorizer = TfidfVectorizer(min_df=1, max_features=2000, stop_words='english', ngram_range=[1, 1], sublinear_tf=True)\n",
    "tfidf = vectorizer.fit_transform(pure_tokens)"
   ]
  },
  {
   "cell_type": "markdown",
   "metadata": {
    "_cell_guid": "0c68e869-4b3e-54a0-c4da-894733d0e623",
    "_uuid": "afa01390bbe2d5195b52ca7dfd7717e92537b156"
   },
   "source": []
  },
  {
   "cell_type": "code",
   "execution_count": 15,
   "metadata": {
    "_cell_guid": "44bc1be1-05c9-dd10-171d-a9ceb56cf2d6",
    "_uuid": "e6ae3bb1ed7387752c65fb8c4d12d8d238269152"
   },
   "outputs": [
    {
     "data": {
      "text/html": [
       "<div>\n",
       "<style scoped>\n",
       "    .dataframe tbody tr th:only-of-type {\n",
       "        vertical-align: middle;\n",
       "    }\n",
       "\n",
       "    .dataframe tbody tr th {\n",
       "        vertical-align: top;\n",
       "    }\n",
       "\n",
       "    .dataframe thead th {\n",
       "        text-align: right;\n",
       "    }\n",
       "</style>\n",
       "<table border=\"1\" class=\"dataframe\">\n",
       "  <thead>\n",
       "    <tr style=\"text-align: right;\">\n",
       "      <th></th>\n",
       "      <th>id</th>\n",
       "      <th>word</th>\n",
       "      <th>idf</th>\n",
       "    </tr>\n",
       "  </thead>\n",
       "  <tbody>\n",
       "    <tr>\n",
       "      <th>72</th>\n",
       "      <td>1407</td>\n",
       "      <td>python</td>\n",
       "      <td>1.388561</td>\n",
       "    </tr>\n",
       "    <tr>\n",
       "      <th>104</th>\n",
       "      <td>1874</td>\n",
       "      <td>using</td>\n",
       "      <td>1.938636</td>\n",
       "    </tr>\n",
       "    <tr>\n",
       "      <th>146</th>\n",
       "      <td>406</td>\n",
       "      <td>code</td>\n",
       "      <td>1.942478</td>\n",
       "    </tr>\n",
       "    <tr>\n",
       "      <th>76</th>\n",
       "      <td>738</td>\n",
       "      <td>file</td>\n",
       "      <td>2.042805</td>\n",
       "    </tr>\n",
       "    <tr>\n",
       "      <th>118</th>\n",
       "      <td>1032</td>\n",
       "      <td>like</td>\n",
       "      <td>2.055365</td>\n",
       "    </tr>\n",
       "    <tr>\n",
       "      <th>22</th>\n",
       "      <td>910</td>\n",
       "      <td>import</td>\n",
       "      <td>2.143919</td>\n",
       "    </tr>\n",
       "    <tr>\n",
       "      <th>33</th>\n",
       "      <td>540</td>\n",
       "      <td>def</td>\n",
       "      <td>2.240391</td>\n",
       "    </tr>\n",
       "    <tr>\n",
       "      <th>114</th>\n",
       "      <td>1918</td>\n",
       "      <td>want</td>\n",
       "      <td>2.246980</td>\n",
       "    </tr>\n",
       "    <tr>\n",
       "      <th>338</th>\n",
       "      <td>1355</td>\n",
       "      <td>print</td>\n",
       "      <td>2.253263</td>\n",
       "    </tr>\n",
       "    <tr>\n",
       "      <th>54</th>\n",
       "      <td>675</td>\n",
       "      <td>error</td>\n",
       "      <td>2.264885</td>\n",
       "    </tr>\n",
       "  </tbody>\n",
       "</table>\n",
       "</div>"
      ],
      "text/plain": [
       "       id    word       idf\n",
       "72   1407  python  1.388561\n",
       "104  1874   using  1.938636\n",
       "146   406    code  1.942478\n",
       "76    738    file  2.042805\n",
       "118  1032    like  2.055365\n",
       "22    910  import  2.143919\n",
       "33    540     def  2.240391\n",
       "114  1918    want  2.246980\n",
       "338  1355   print  2.253263\n",
       "54    675   error  2.264885"
      ]
     },
     "execution_count": 15,
     "metadata": {},
     "output_type": "execute_result"
    }
   ],
   "source": [
    "idfs = pd.DataFrame([[v, k] for k, v in vectorizer.vocabulary_.items()], columns=['id', 'word']).sort_values('id')\n",
    "idfs['idf'] = vectorizer.idf_\n",
    "idfs.sort_values('idf').head(10)"
   ]
  },
  {
   "cell_type": "markdown",
   "metadata": {
    "_cell_guid": "2ef01b61-878b-ad4b-e73a-898be872398f",
    "_uuid": "ca4d042cfe005eeeaf1940bf3315c85bef0a44fc"
   },
   "source": [
    "### Compress using SVD"
   ]
  },
  {
   "cell_type": "code",
   "execution_count": 16,
   "metadata": {
    "_cell_guid": "e4891e6b-f2a9-5e26-cd26-11fbdeda2efb",
    "_uuid": "ed3a550f7f9701ee15b9aff8c634882f291c27c0"
   },
   "outputs": [],
   "source": [
    "tsvd = TruncatedSVD(n_components=500)\n",
    "transformed = tsvd.fit_transform(tfidf)"
   ]
  },
  {
   "cell_type": "code",
   "execution_count": 17,
   "metadata": {
    "_cell_guid": "1ed499c0-49a1-70b2-42bc-a725b211e41e",
    "_uuid": "b003efff4bac609789859f253e6010c34ae9f3af"
   },
   "outputs": [
    {
     "data": {
      "text/plain": [
       "0.6080938894680588"
      ]
     },
     "execution_count": 17,
     "metadata": {},
     "output_type": "execute_result"
    }
   ],
   "source": [
    "np.sum(tsvd.explained_variance_ratio_)"
   ]
  },
  {
   "cell_type": "code",
   "execution_count": 18,
   "metadata": {
    "_cell_guid": "2c447624-1c1a-c23a-298d-95c51afcf2c9",
    "_uuid": "3dcdbc02a12b3dd25e420f71e51c9e7a97d6b17f"
   },
   "outputs": [
    {
     "data": {
      "text/plain": [
       "(10000, 500)"
      ]
     },
     "execution_count": 18,
     "metadata": {},
     "output_type": "execute_result"
    }
   ],
   "source": [
    "transformed.shape"
   ]
  },
  {
   "cell_type": "markdown",
   "metadata": {
    "_cell_guid": "e7973e1a-fecb-4e0e-9b39-c74cd50d6aeb",
    "_uuid": "d8ddde5ff0d36084d00fad57ac404c4461c9eb9f"
   },
   "source": []
  },
  {
   "cell_type": "code",
   "execution_count": 19,
   "metadata": {
    "_cell_guid": "c1b4fa41-d954-b6ce-1066-710bbd4bf358",
    "_uuid": "59c525c52b69e7381bf5489442e8d313c654b7b6"
   },
   "outputs": [],
   "source": [
    "# calculate pairwise cosine distance\n",
    "D = distance.pdist(transformed, 'cosine')"
   ]
  },
  {
   "cell_type": "code",
   "execution_count": 20,
   "metadata": {
    "_cell_guid": "80f03f54-ed8c-b6d1-1995-62814b56cba9",
    "_uuid": "926cd97d4a372bab37f7035986dd3c436286a94a"
   },
   "outputs": [],
   "source": [
    "# hierarchical clustering - tree calculation\n",
    "L = hierarchy.linkage(D)"
   ]
  },
  {
   "cell_type": "code",
   "execution_count": 21,
   "metadata": {
    "_cell_guid": "e3a593e8-4a4e-3cc5-610c-b21009173774",
    "_uuid": "8717b04c82544271440611ffa6bec1b12014b5c6"
   },
   "outputs": [
    {
     "data": {
      "text/plain": [
       "0.9309584208549853"
      ]
     },
     "execution_count": 21,
     "metadata": {},
     "output_type": "execute_result"
    }
   ],
   "source": [
    "# mean distance between clusters\n",
    "np.mean(D)"
   ]
  },
  {
   "cell_type": "code",
   "execution_count": 22,
   "metadata": {
    "_cell_guid": "def97dcc-d535-95d9-90ca-18b6776de25d",
    "_uuid": "8cdf6155ba1febf341671eee9042c30a8446fcf7"
   },
   "outputs": [],
   "source": [
    "# split clusters by criterion. Here 0.71 is used as the inconsistency criterion. Adjust the\n",
    "# number to change cluster sizes\n",
    "cls = hierarchy.fcluster(L, 0.71, criterion='inconsistent')"
   ]
  },
  {
   "cell_type": "code",
   "execution_count": 23,
   "metadata": {
    "_cell_guid": "3ece1c02-6629-83b6-22c8-854b76a66f87",
    "_uuid": "aad2ba40855db47a6fc25520a250b60527327bbf"
   },
   "outputs": [
    {
     "data": {
      "text/plain": [
       "Cluster\n",
       "1087    30\n",
       "1541    27\n",
       "1093    22\n",
       "1091    20\n",
       "1416    18\n",
       "dtype: int64"
      ]
     },
     "execution_count": 23,
     "metadata": {},
     "output_type": "execute_result"
    }
   ],
   "source": [
    "df_cls = pd.DataFrame({'Pos': selected_ids, 'Cluster': cls})\n",
    "cnts = df_cls.groupby('Cluster').size().sort_values(ascending=False)\n",
    "cnts.sort_values(ascending=False).head()"
   ]
  },
  {
   "cell_type": "code",
   "execution_count": 24,
   "metadata": {
    "_cell_guid": "f63a37cb-f753-8127-734d-edb0570d464d",
    "_uuid": "6a5eb4a65ab03dc284d36a80374f881bd098351b"
   },
   "outputs": [
    {
     "data": {
      "text/html": [
       "<div>\n",
       "<style scoped>\n",
       "    .dataframe tbody tr th:only-of-type {\n",
       "        vertical-align: middle;\n",
       "    }\n",
       "\n",
       "    .dataframe tbody tr th {\n",
       "        vertical-align: top;\n",
       "    }\n",
       "\n",
       "    .dataframe thead th {\n",
       "        text-align: right;\n",
       "    }\n",
       "</style>\n",
       "<table border=\"1\" class=\"dataframe\">\n",
       "  <thead>\n",
       "    <tr style=\"text-align: right;\">\n",
       "      <th></th>\n",
       "      <th>Id</th>\n",
       "      <th>OwnerUserId</th>\n",
       "      <th>CreationDate</th>\n",
       "      <th>Score</th>\n",
       "      <th>Title</th>\n",
       "      <th>Body</th>\n",
       "      <th>Cluster</th>\n",
       "    </tr>\n",
       "    <tr>\n",
       "      <th>Pos</th>\n",
       "      <th></th>\n",
       "      <th></th>\n",
       "      <th></th>\n",
       "      <th></th>\n",
       "      <th></th>\n",
       "      <th></th>\n",
       "      <th></th>\n",
       "    </tr>\n",
       "  </thead>\n",
       "  <tbody>\n",
       "    <tr>\n",
       "      <th>6016</th>\n",
       "      <td>22374013</td>\n",
       "      <td>1028796.0</td>\n",
       "      <td>2014-03-13T09:20:28Z</td>\n",
       "      <td>0</td>\n",
       "      <td>Django filter from within models</td>\n",
       "      <td>&lt;p&gt;I'm trying to setup my django administratio...</td>\n",
       "      <td>1832</td>\n",
       "    </tr>\n",
       "    <tr>\n",
       "      <th>830</th>\n",
       "      <td>34662353</td>\n",
       "      <td>5719358.0</td>\n",
       "      <td>2016-01-07T18:19:46Z</td>\n",
       "      <td>0</td>\n",
       "      <td>\"Cannot update File menu Recent Files list [Er...</td>\n",
       "      <td>&lt;p&gt;I have no idea why this happens and then it...</td>\n",
       "      <td>6428</td>\n",
       "    </tr>\n",
       "    <tr>\n",
       "      <th>4194</th>\n",
       "      <td>32382791</td>\n",
       "      <td>5197617.0</td>\n",
       "      <td>2015-09-03T18:17:29Z</td>\n",
       "      <td>1</td>\n",
       "      <td>How to get list of class instances from file u...</td>\n",
       "      <td>&lt;p&gt;I have 2 classes: Group and student. I crea...</td>\n",
       "      <td>758</td>\n",
       "    </tr>\n",
       "    <tr>\n",
       "      <th>7952</th>\n",
       "      <td>34951089</td>\n",
       "      <td>4759209.0</td>\n",
       "      <td>2016-01-22T16:11:56Z</td>\n",
       "      <td>1</td>\n",
       "      <td>Send a list to django within an ajax GET request</td>\n",
       "      <td>&lt;p&gt;I found a lot of posts here and outside tal...</td>\n",
       "      <td>3184</td>\n",
       "    </tr>\n",
       "    <tr>\n",
       "      <th>202</th>\n",
       "      <td>25957249</td>\n",
       "      <td>916780.0</td>\n",
       "      <td>2014-09-21T08:18:05Z</td>\n",
       "      <td>1</td>\n",
       "      <td>Python: Implementing concurrent DNS requests (...</td>\n",
       "      <td>&lt;p&gt;I'm trying to write a python script that se...</td>\n",
       "      <td>4930</td>\n",
       "    </tr>\n",
       "  </tbody>\n",
       "</table>\n",
       "</div>"
      ],
      "text/plain": [
       "            Id  OwnerUserId          CreationDate  Score  \\\n",
       "Pos                                                        \n",
       "6016  22374013    1028796.0  2014-03-13T09:20:28Z      0   \n",
       "830   34662353    5719358.0  2016-01-07T18:19:46Z      0   \n",
       "4194  32382791    5197617.0  2015-09-03T18:17:29Z      1   \n",
       "7952  34951089    4759209.0  2016-01-22T16:11:56Z      1   \n",
       "202   25957249     916780.0  2014-09-21T08:18:05Z      1   \n",
       "\n",
       "                                                  Title  \\\n",
       "Pos                                                       \n",
       "6016                   Django filter from within models   \n",
       "830   \"Cannot update File menu Recent Files list [Er...   \n",
       "4194  How to get list of class instances from file u...   \n",
       "7952   Send a list to django within an ajax GET request   \n",
       "202   Python: Implementing concurrent DNS requests (...   \n",
       "\n",
       "                                                   Body  Cluster  \n",
       "Pos                                                               \n",
       "6016  <p>I'm trying to setup my django administratio...     1832  \n",
       "830   <p>I have no idea why this happens and then it...     6428  \n",
       "4194  <p>I have 2 classes: Group and student. I crea...      758  \n",
       "7952  <p>I found a lot of posts here and outside tal...     3184  \n",
       "202   <p>I'm trying to write a python script that se...     4930  "
      ]
     },
     "execution_count": 24,
     "metadata": {},
     "output_type": "execute_result"
    }
   ],
   "source": [
    "# add clusters to question data\n",
    "bc = pd.concat([sample, df_cls.set_index('Pos')], axis=1)\n",
    "bc.head()"
   ]
  },
  {
   "cell_type": "code",
   "execution_count": 25,
   "metadata": {
    "_cell_guid": "777e9ddf-648c-6e5b-7cc3-46607489ea84",
    "_uuid": "45f11a2011f75298431323275dd23bc05d7ee6ff"
   },
   "outputs": [],
   "source": [
    "# calculate cluster stats\n",
    "stats = bc.groupby('Cluster')['Score'].describe().unstack()"
   ]
  },
  {
   "cell_type": "code",
   "execution_count": 34,
   "metadata": {},
   "outputs": [
    {
     "data": {
      "text/plain": [
       "Cluster\n",
       "1087    30.0\n",
       "1541    27.0\n",
       "1093    22.0\n",
       "1091    20.0\n",
       "1416    18.0\n",
       "dtype: float64"
      ]
     },
     "execution_count": 34,
     "metadata": {},
     "output_type": "execute_result"
    }
   ],
   "source": [
    "stats['count'].sort_values(ascending=False).head()"
   ]
  },
  {
   "cell_type": "code",
   "execution_count": 35,
   "metadata": {
    "_cell_guid": "e4f202ad-aa79-914b-98fb-e8b2719ba0c0",
    "_uuid": "738cec1c38b12772c32779d7ae0e17c9225370ee"
   },
   "outputs": [
    {
     "name": "stderr",
     "output_type": "stream",
     "text": [
      "/Users/adantonison/.virtualenvs/cca-project/lib/python3.6/site-packages/matplotlib/font_manager.py:278: UserWarning: Matplotlib is building the font cache using fc-list. This may take a moment.\n",
      "  'Matplotlib is building the font cache using fc-list. '\n"
     ]
    },
    {
     "data": {
      "image/png": "[encoded data removed]",
      "text/plain": [
       "<Figure size 864x576 with 1 Axes>"
      ]
     },
     "metadata": {},
     "output_type": "display_data"
    }
   ],
   "source": [
    "plt.figure(figsize=(12, 8))\n",
    "plt.hlines([0], xmin=0, xmax=np.max(stats['count']) + 5, alpha=0.5)\n",
    "plt.vlines([1], ymin=0, ymax=np.max(stats['mean']) + 50, alpha=0.5)\n",
    "plt.scatter(stats['count'], stats['mean'], alpha=0.3)\n",
    "plt.title(\"cluster mean score vs cluster size\")\n",
    "plt.xlabel(\"cluster size\")\n",
    "plt.ylabel(\"mean score\")\n",
    "plt.show()"
   ]
  },
  {
   "cell_type": "markdown",
   "metadata": {
    "_cell_guid": "5c762587-d933-2be2-5c81-7943347d9e27",
    "_uuid": "09f0d5000b9d8e66dc733a54a19b3db270756796"
   },
   "source": [
    "### Check if clusters make sense"
   ]
  },
  {
   "cell_type": "code",
   "execution_count": 36,
   "metadata": {
    "_cell_guid": "e8c6f75e-1337-1d87-337f-cb2ec17e69b7",
    "_uuid": "e886a1dad0fc933ab87f55c41e2c7c364bd33118"
   },
   "outputs": [
    {
     "data": {
      "text/html": [
       "<div>\n",
       "<style scoped>\n",
       "    .dataframe tbody tr th:only-of-type {\n",
       "        vertical-align: middle;\n",
       "    }\n",
       "\n",
       "    .dataframe tbody tr th {\n",
       "        vertical-align: top;\n",
       "    }\n",
       "\n",
       "    .dataframe thead th {\n",
       "        text-align: right;\n",
       "    }\n",
       "</style>\n",
       "<table border=\"1\" class=\"dataframe\">\n",
       "  <thead>\n",
       "    <tr style=\"text-align: right;\">\n",
       "      <th></th>\n",
       "      <th>Score</th>\n",
       "      <th>Title</th>\n",
       "      <th>Body</th>\n",
       "    </tr>\n",
       "    <tr>\n",
       "      <th>Pos</th>\n",
       "      <th></th>\n",
       "      <th></th>\n",
       "      <th></th>\n",
       "    </tr>\n",
       "  </thead>\n",
       "  <tbody>\n",
       "    <tr>\n",
       "      <th>9600</th>\n",
       "      <td>3</td>\n",
       "      <td>Appending to a Python list without making list...</td>\n",
       "      <td>&lt;p&gt;I start out with an empty list and prompt t...</td>\n",
       "    </tr>\n",
       "    <tr>\n",
       "      <th>1202</th>\n",
       "      <td>0</td>\n",
       "      <td>Iterable error in word count Python 3.3 program</td>\n",
       "      <td>&lt;p&gt;I'm trying to complete a simple word-count ...</td>\n",
       "    </tr>\n",
       "    <tr>\n",
       "      <th>1350</th>\n",
       "      <td>-1</td>\n",
       "      <td>How to use for loop in the write method?</td>\n",
       "      <td>&lt;p&gt;The program is supposed to read a given fil...</td>\n",
       "    </tr>\n",
       "    <tr>\n",
       "      <th>8115</th>\n",
       "      <td>-1</td>\n",
       "      <td>Converting a Text File to a String in Python</td>\n",
       "      <td>&lt;p&gt;I am new to python and am trying to find th...</td>\n",
       "    </tr>\n",
       "    <tr>\n",
       "      <th>5482</th>\n",
       "      <td>6</td>\n",
       "      <td>checking if a string is in alphabetical order ...</td>\n",
       "      <td>&lt;p&gt;I've put together the following code to che...</td>\n",
       "    </tr>\n",
       "    <tr>\n",
       "      <th>3368</th>\n",
       "      <td>2</td>\n",
       "      <td>Print horizontal with for in Python 2.7</td>\n",
       "      <td>&lt;p&gt;I have issues with python that i cant figur...</td>\n",
       "    </tr>\n",
       "    <tr>\n",
       "      <th>1897</th>\n",
       "      <td>0</td>\n",
       "      <td>I'm creating a function to search for \" unique...</td>\n",
       "      <td>&lt;p&gt;I'm creating a function to search for &lt;stro...</td>\n",
       "    </tr>\n",
       "    <tr>\n",
       "      <th>9175</th>\n",
       "      <td>3</td>\n",
       "      <td>What part of speech does \"s\" stand for in NLTK...</td>\n",
       "      <td>&lt;p&gt;I have a list of GRE words which I am getti...</td>\n",
       "    </tr>\n",
       "    <tr>\n",
       "      <th>6336</th>\n",
       "      <td>1</td>\n",
       "      <td>how to count the total number of items for the...</td>\n",
       "      <td>&lt;p&gt;I want to get count the total items for the...</td>\n",
       "    </tr>\n",
       "    <tr>\n",
       "      <th>6525</th>\n",
       "      <td>2</td>\n",
       "      <td>Python - print value to new file?</td>\n",
       "      <td>&lt;pre&gt;&lt;code&gt;import sys\\nimport pickle\\nimport s...</td>\n",
       "    </tr>\n",
       "    <tr>\n",
       "      <th>9271</th>\n",
       "      <td>0</td>\n",
       "      <td>Python Urllib keyerror</td>\n",
       "      <td>&lt;p&gt;I want to count all the words from a partic...</td>\n",
       "    </tr>\n",
       "    <tr>\n",
       "      <th>8818</th>\n",
       "      <td>11</td>\n",
       "      <td>How to connect python to db2</td>\n",
       "      <td>&lt;p&gt;Is there a way &lt;code&gt;to connect python to D...</td>\n",
       "    </tr>\n",
       "    <tr>\n",
       "      <th>3703</th>\n",
       "      <td>0</td>\n",
       "      <td>Write a function to take a text file and print...</td>\n",
       "      <td>&lt;p&gt;I am currently struggling with a question r...</td>\n",
       "    </tr>\n",
       "    <tr>\n",
       "      <th>3342</th>\n",
       "      <td>0</td>\n",
       "      <td>Python in Set Checking Bag of Words</td>\n",
       "      <td>&lt;p&gt;I have a text processing script that needs ...</td>\n",
       "    </tr>\n",
       "    <tr>\n",
       "      <th>8503</th>\n",
       "      <td>0</td>\n",
       "      <td>How do I remove a character once from a string...</td>\n",
       "      <td>&lt;p&gt;Is there a better way than what I am doing?...</td>\n",
       "    </tr>\n",
       "    <tr>\n",
       "      <th>7153</th>\n",
       "      <td>0</td>\n",
       "      <td>Python - How many words are there in the .txt ...</td>\n",
       "      <td>&lt;p&gt;Count how many words there are in the .txt ...</td>\n",
       "    </tr>\n",
       "    <tr>\n",
       "      <th>4446</th>\n",
       "      <td>0</td>\n",
       "      <td>returning two lists that correspond with each ...</td>\n",
       "      <td>&lt;p&gt;I'm writing a program that takes two functi...</td>\n",
       "    </tr>\n",
       "    <tr>\n",
       "      <th>1873</th>\n",
       "      <td>0</td>\n",
       "      <td>Prompts the user for a word and prints all wor...</td>\n",
       "      <td>&lt;p&gt;For example, I have a list of words from in...</td>\n",
       "    </tr>\n",
       "    <tr>\n",
       "      <th>4704</th>\n",
       "      <td>-1</td>\n",
       "      <td>Find word in list created by xlrd and print se...</td>\n",
       "      <td>&lt;p&gt;I have Excel files with data that I need to...</td>\n",
       "    </tr>\n",
       "    <tr>\n",
       "      <th>1977</th>\n",
       "      <td>-2</td>\n",
       "      <td>Python Word Count of Text File</td>\n",
       "      <td>&lt;p&gt;I'm trying to get a count of the frequency ...</td>\n",
       "    </tr>\n",
       "    <tr>\n",
       "      <th>2143</th>\n",
       "      <td>3</td>\n",
       "      <td>Spell check algorithm outputs everything inste...</td>\n",
       "      <td>&lt;p&gt;I'm basically trying to code a simple spell...</td>\n",
       "    </tr>\n",
       "    <tr>\n",
       "      <th>4878</th>\n",
       "      <td>1</td>\n",
       "      <td>Searching a text file and printing line numbers</td>\n",
       "      <td>&lt;p&gt;How do you get your function to find the li...</td>\n",
       "    </tr>\n",
       "    <tr>\n",
       "      <th>2363</th>\n",
       "      <td>0</td>\n",
       "      <td>Python Sort List</td>\n",
       "      <td>&lt;p&gt;I'm currently python and quite new to this ...</td>\n",
       "    </tr>\n",
       "    <tr>\n",
       "      <th>9940</th>\n",
       "      <td>1</td>\n",
       "      <td>Extra trailing line in grok learning</td>\n",
       "      <td>&lt;p&gt;So, I've been going through the GYM of grok...</td>\n",
       "    </tr>\n",
       "    <tr>\n",
       "      <th>1876</th>\n",
       "      <td>0</td>\n",
       "      <td>How to read a text file in Python</td>\n",
       "      <td>&lt;p&gt;I have an assignment that reads:&lt;/p&gt;\\n\\n&lt;bl...</td>\n",
       "    </tr>\n",
       "    <tr>\n",
       "      <th>5296</th>\n",
       "      <td>-2</td>\n",
       "      <td>TypeError: Can't convert 'int' object to str i...</td>\n",
       "      <td>&lt;p&gt;I am having trouble with my code, otherwise...</td>\n",
       "    </tr>\n",
       "    <tr>\n",
       "      <th>1135</th>\n",
       "      <td>0</td>\n",
       "      <td>Deleting a specific word from a file in python</td>\n",
       "      <td>&lt;p&gt;I am quite new to python and have just star...</td>\n",
       "    </tr>\n",
       "    <tr>\n",
       "      <th>5651</th>\n",
       "      <td>0</td>\n",
       "      <td>What is proper Tokenization algorithm? &amp; Error...</td>\n",
       "      <td>&lt;p&gt;I'm doing an Information Retrieval Task. As...</td>\n",
       "    </tr>\n",
       "    <tr>\n",
       "      <th>232</th>\n",
       "      <td>0</td>\n",
       "      <td>Checking if letters in a line can make up a word</td>\n",
       "      <td>&lt;p&gt;I want to check if each line in an example ...</td>\n",
       "    </tr>\n",
       "    <tr>\n",
       "      <th>4636</th>\n",
       "      <td>-5</td>\n",
       "      <td>How can I get list of pairs words with their l...</td>\n",
       "      <td>&lt;p&gt;I have a list:&lt;/p&gt;\\n\\n&lt;pre&gt;&lt;code&gt;items = [\"...</td>\n",
       "    </tr>\n",
       "  </tbody>\n",
       "</table>\n",
       "</div>"
      ],
      "text/plain": [
       "      Score                                              Title  \\\n",
       "Pos                                                              \n",
       "9600      3  Appending to a Python list without making list...   \n",
       "1202      0    Iterable error in word count Python 3.3 program   \n",
       "1350     -1           How to use for loop in the write method?   \n",
       "8115     -1       Converting a Text File to a String in Python   \n",
       "5482      6  checking if a string is in alphabetical order ...   \n",
       "3368      2            Print horizontal with for in Python 2.7   \n",
       "1897      0  I'm creating a function to search for \" unique...   \n",
       "9175      3  What part of speech does \"s\" stand for in NLTK...   \n",
       "6336      1  how to count the total number of items for the...   \n",
       "6525      2                  Python - print value to new file?   \n",
       "9271      0                             Python Urllib keyerror   \n",
       "8818     11                       How to connect python to db2   \n",
       "3703      0  Write a function to take a text file and print...   \n",
       "3342      0                Python in Set Checking Bag of Words   \n",
       "8503      0  How do I remove a character once from a string...   \n",
       "7153      0  Python - How many words are there in the .txt ...   \n",
       "4446      0  returning two lists that correspond with each ...   \n",
       "1873      0  Prompts the user for a word and prints all wor...   \n",
       "4704     -1  Find word in list created by xlrd and print se...   \n",
       "1977     -2                     Python Word Count of Text File   \n",
       "2143      3  Spell check algorithm outputs everything inste...   \n",
       "4878      1    Searching a text file and printing line numbers   \n",
       "2363      0                                   Python Sort List   \n",
       "9940      1               Extra trailing line in grok learning   \n",
       "1876      0                  How to read a text file in Python   \n",
       "5296     -2  TypeError: Can't convert 'int' object to str i...   \n",
       "1135      0     Deleting a specific word from a file in python   \n",
       "5651      0  What is proper Tokenization algorithm? & Error...   \n",
       "232       0   Checking if letters in a line can make up a word   \n",
       "4636     -5  How can I get list of pairs words with their l...   \n",
       "\n",
       "                                                   Body  \n",
       "Pos                                                      \n",
       "9600  <p>I start out with an empty list and prompt t...  \n",
       "1202  <p>I'm trying to complete a simple word-count ...  \n",
       "1350  <p>The program is supposed to read a given fil...  \n",
       "8115  <p>I am new to python and am trying to find th...  \n",
       "5482  <p>I've put together the following code to che...  \n",
       "3368  <p>I have issues with python that i cant figur...  \n",
       "1897  <p>I'm creating a function to search for <stro...  \n",
       "9175  <p>I have a list of GRE words which I am getti...  \n",
       "6336  <p>I want to get count the total items for the...  \n",
       "6525  <pre><code>import sys\\nimport pickle\\nimport s...  \n",
       "9271  <p>I want to count all the words from a partic...  \n",
       "8818  <p>Is there a way <code>to connect python to D...  \n",
       "3703  <p>I am currently struggling with a question r...  \n",
       "3342  <p>I have a text processing script that needs ...  \n",
       "8503  <p>Is there a better way than what I am doing?...  \n",
       "7153  <p>Count how many words there are in the .txt ...  \n",
       "4446  <p>I'm writing a program that takes two functi...  \n",
       "1873  <p>For example, I have a list of words from in...  \n",
       "4704  <p>I have Excel files with data that I need to...  \n",
       "1977  <p>I'm trying to get a count of the frequency ...  \n",
       "2143  <p>I'm basically trying to code a simple spell...  \n",
       "4878  <p>How do you get your function to find the li...  \n",
       "2363  <p>I'm currently python and quite new to this ...  \n",
       "9940  <p>So, I've been going through the GYM of grok...  \n",
       "1876  <p>I have an assignment that reads:</p>\\n\\n<bl...  \n",
       "5296  <p>I am having trouble with my code, otherwise...  \n",
       "1135  <p>I am quite new to python and have just star...  \n",
       "5651  <p>I'm doing an Information Retrieval Task. As...  \n",
       "232   <p>I want to check if each line in an example ...  \n",
       "4636  <p>I have a list:</p>\\n\\n<pre><code>items = [\"...  "
      ]
     },
     "execution_count": 36,
     "metadata": {},
     "output_type": "execute_result"
    }
   ],
   "source": [
    "bc.loc[bc['Cluster'] == cnts.index[0]][['Score', 'Title', 'Body']]"
   ]
  },
  {
   "cell_type": "code",
   "execution_count": 37,
   "metadata": {
    "_cell_guid": "3a868a0e-88e8-33d5-ba7c-336516a87364",
    "_uuid": "53df2b73d71949e826cb215ff0407b878de40df8"
   },
   "outputs": [
    {
     "data": {
      "text/html": [
       "<div>\n",
       "<style scoped>\n",
       "    .dataframe tbody tr th:only-of-type {\n",
       "        vertical-align: middle;\n",
       "    }\n",
       "\n",
       "    .dataframe tbody tr th {\n",
       "        vertical-align: top;\n",
       "    }\n",
       "\n",
       "    .dataframe thead th {\n",
       "        text-align: right;\n",
       "    }\n",
       "</style>\n",
       "<table border=\"1\" class=\"dataframe\">\n",
       "  <thead>\n",
       "    <tr style=\"text-align: right;\">\n",
       "      <th></th>\n",
       "      <th>Score</th>\n",
       "      <th>Title</th>\n",
       "      <th>Body</th>\n",
       "    </tr>\n",
       "    <tr>\n",
       "      <th>Pos</th>\n",
       "      <th></th>\n",
       "      <th></th>\n",
       "      <th></th>\n",
       "    </tr>\n",
       "  </thead>\n",
       "  <tbody>\n",
       "    <tr>\n",
       "      <th>7661</th>\n",
       "      <td>3</td>\n",
       "      <td>retrieve series of slices of column headers ba...</td>\n",
       "      <td>&lt;p&gt;consider the dataframe &lt;code&gt;df&lt;/code&gt;&lt;/p&gt;\\...</td>\n",
       "    </tr>\n",
       "    <tr>\n",
       "      <th>5779</th>\n",
       "      <td>34</td>\n",
       "      <td>Strings in a DataFrame, but dtype is object</td>\n",
       "      <td>&lt;p&gt;Why does Pandas tell me that I have objects...</td>\n",
       "    </tr>\n",
       "    <tr>\n",
       "      <th>8036</th>\n",
       "      <td>2</td>\n",
       "      <td>Dropping multilevel columns from lists of dict...</td>\n",
       "      <td>&lt;p&gt;I have a dataframe with multilevel columns,...</td>\n",
       "    </tr>\n",
       "    <tr>\n",
       "      <th>573</th>\n",
       "      <td>1</td>\n",
       "      <td>pandas Dataframe set value fails</td>\n",
       "      <td>&lt;p&gt;I been following the documentation but it k...</td>\n",
       "    </tr>\n",
       "    <tr>\n",
       "      <th>7257</th>\n",
       "      <td>1</td>\n",
       "      <td>Grouping entries in pandas dataframe</td>\n",
       "      <td>&lt;p&gt;Hello I have a dataframe like this&lt;/p&gt;\\n\\n&lt;...</td>\n",
       "    </tr>\n",
       "    <tr>\n",
       "      <th>6626</th>\n",
       "      <td>1</td>\n",
       "      <td>Using 'or' in a Dataframe</td>\n",
       "      <td>&lt;p&gt;I can find where my DataFrame has &lt;code&gt;ALE...</td>\n",
       "    </tr>\n",
       "    <tr>\n",
       "      <th>6440</th>\n",
       "      <td>1</td>\n",
       "      <td>Filling in missing data in pandas dataframe</td>\n",
       "      <td>&lt;p&gt;I have a Pandas dataframe with two indexes&lt;...</td>\n",
       "    </tr>\n",
       "    <tr>\n",
       "      <th>753</th>\n",
       "      <td>42</td>\n",
       "      <td>how do I insert a column at a specific column ...</td>\n",
       "      <td>&lt;p&gt;Can I insert a column at a specific column ...</td>\n",
       "    </tr>\n",
       "    <tr>\n",
       "      <th>1252</th>\n",
       "      <td>0</td>\n",
       "      <td>pandas data frame transform INT64 columns to b...</td>\n",
       "      <td>&lt;p&gt;Some column in dataframe df, df.column, is ...</td>\n",
       "    </tr>\n",
       "    <tr>\n",
       "      <th>3600</th>\n",
       "      <td>1</td>\n",
       "      <td>Converting some columns from pandas dataframe ...</td>\n",
       "      <td>&lt;p&gt;I have a &lt;code&gt;dataframe&lt;/code&gt;. I would li...</td>\n",
       "    </tr>\n",
       "    <tr>\n",
       "      <th>8429</th>\n",
       "      <td>-1</td>\n",
       "      <td>iterate over list of dicts to create different...</td>\n",
       "      <td>&lt;p&gt;I have a pandas file with 3 different colum...</td>\n",
       "    </tr>\n",
       "    <tr>\n",
       "      <th>4881</th>\n",
       "      <td>3</td>\n",
       "      <td>How to use applymap , lamda and dataframe toge...</td>\n",
       "      <td>&lt;p&gt;So I 'm trying to figure it out how to repl...</td>\n",
       "    </tr>\n",
       "    <tr>\n",
       "      <th>2527</th>\n",
       "      <td>0</td>\n",
       "      <td>how to add columns label on a Pandas DataFrame</td>\n",
       "      <td>&lt;p&gt;I can't understand how can I add column nam...</td>\n",
       "    </tr>\n",
       "    <tr>\n",
       "      <th>9075</th>\n",
       "      <td>1</td>\n",
       "      <td>Pandas: groupby quantile with agg values</td>\n",
       "      <td>&lt;p&gt;I'm trying to group numerical values by qua...</td>\n",
       "    </tr>\n",
       "    <tr>\n",
       "      <th>7895</th>\n",
       "      <td>9</td>\n",
       "      <td>python pandas groupby() result</td>\n",
       "      <td>&lt;p&gt;I have the following python pandas data fra...</td>\n",
       "    </tr>\n",
       "    <tr>\n",
       "      <th>9223</th>\n",
       "      <td>8</td>\n",
       "      <td>How do I read a fix width format text file in ...</td>\n",
       "      <td>&lt;p&gt;I just got my hands on pandas and am figuri...</td>\n",
       "    </tr>\n",
       "    <tr>\n",
       "      <th>6014</th>\n",
       "      <td>4</td>\n",
       "      <td>How to do 'lateral view explode()' in pandas</td>\n",
       "      <td>&lt;p&gt;I want to do this :&lt;/p&gt;\\n\\n&lt;pre&gt;&lt;code&gt;# inp...</td>\n",
       "    </tr>\n",
       "    <tr>\n",
       "      <th>1278</th>\n",
       "      <td>2</td>\n",
       "      <td>How to iterate over MultiIndex levels in Pandas?</td>\n",
       "      <td>&lt;p&gt;I often have MultiIndex indices and I'd lik...</td>\n",
       "    </tr>\n",
       "    <tr>\n",
       "      <th>7811</th>\n",
       "      <td>1</td>\n",
       "      <td>Is there a more efficient way to write a dataf...</td>\n",
       "      <td>&lt;p&gt;I haven't found a function to write a dataf...</td>\n",
       "    </tr>\n",
       "    <tr>\n",
       "      <th>1005</th>\n",
       "      <td>1</td>\n",
       "      <td>merge two dataframes pandas</td>\n",
       "      <td>&lt;p&gt;I am reading 2 dfs using:&lt;/p&gt;\\n\\n&lt;pre&gt;&lt;code...</td>\n",
       "    </tr>\n",
       "    <tr>\n",
       "      <th>1322</th>\n",
       "      <td>2</td>\n",
       "      <td>Using boolean masks in Pandas</td>\n",
       "      <td>&lt;p&gt;This is probably a trivial query but I can'...</td>\n",
       "    </tr>\n",
       "    <tr>\n",
       "      <th>7949</th>\n",
       "      <td>1</td>\n",
       "      <td>Selecting specific rows from a python datafram...</td>\n",
       "      <td>&lt;p&gt;How do I select specific rows from a python...</td>\n",
       "    </tr>\n",
       "    <tr>\n",
       "      <th>3636</th>\n",
       "      <td>2</td>\n",
       "      <td>Pandas applymap on multilevel dataframe</td>\n",
       "      <td>&lt;p&gt;I have a square matrix as a dataframe in pa...</td>\n",
       "    </tr>\n",
       "    <tr>\n",
       "      <th>7854</th>\n",
       "      <td>2</td>\n",
       "      <td>pyspark,spark: how to select last row and also...</td>\n",
       "      <td>&lt;p&gt;from a pyspark sql dataframe like &lt;/p&gt;\\n\\n&lt;...</td>\n",
       "    </tr>\n",
       "    <tr>\n",
       "      <th>58</th>\n",
       "      <td>1</td>\n",
       "      <td>Pandas does not recognise a column of floats w...</td>\n",
       "      <td>&lt;p&gt;I am trying to read the IMF statistics into...</td>\n",
       "    </tr>\n",
       "    <tr>\n",
       "      <th>4847</th>\n",
       "      <td>1</td>\n",
       "      <td>Pandas: Use apply to sum row and column on dat...</td>\n",
       "      <td>&lt;pre&gt;&lt;code&gt;import datetime\\nimport pandas as p...</td>\n",
       "    </tr>\n",
       "    <tr>\n",
       "      <th>2898</th>\n",
       "      <td>3</td>\n",
       "      <td>Pandas - Create a new column with apply for fl...</td>\n",
       "      <td>&lt;p&gt;I'm using pandas 13.0 and I'm trying to cre...</td>\n",
       "    </tr>\n",
       "  </tbody>\n",
       "</table>\n",
       "</div>"
      ],
      "text/plain": [
       "      Score                                              Title  \\\n",
       "Pos                                                              \n",
       "7661      3  retrieve series of slices of column headers ba...   \n",
       "5779     34        Strings in a DataFrame, but dtype is object   \n",
       "8036      2  Dropping multilevel columns from lists of dict...   \n",
       "573       1                   pandas Dataframe set value fails   \n",
       "7257      1               Grouping entries in pandas dataframe   \n",
       "6626      1                          Using 'or' in a Dataframe   \n",
       "6440      1        Filling in missing data in pandas dataframe   \n",
       "753      42  how do I insert a column at a specific column ...   \n",
       "1252      0  pandas data frame transform INT64 columns to b...   \n",
       "3600      1  Converting some columns from pandas dataframe ...   \n",
       "8429     -1  iterate over list of dicts to create different...   \n",
       "4881      3  How to use applymap , lamda and dataframe toge...   \n",
       "2527      0     how to add columns label on a Pandas DataFrame   \n",
       "9075      1           Pandas: groupby quantile with agg values   \n",
       "7895      9                     python pandas groupby() result   \n",
       "9223      8  How do I read a fix width format text file in ...   \n",
       "6014      4       How to do 'lateral view explode()' in pandas   \n",
       "1278      2   How to iterate over MultiIndex levels in Pandas?   \n",
       "7811      1  Is there a more efficient way to write a dataf...   \n",
       "1005      1                        merge two dataframes pandas   \n",
       "1322      2                      Using boolean masks in Pandas   \n",
       "7949      1  Selecting specific rows from a python datafram...   \n",
       "3636      2            Pandas applymap on multilevel dataframe   \n",
       "7854      2  pyspark,spark: how to select last row and also...   \n",
       "58        1  Pandas does not recognise a column of floats w...   \n",
       "4847      1  Pandas: Use apply to sum row and column on dat...   \n",
       "2898      3  Pandas - Create a new column with apply for fl...   \n",
       "\n",
       "                                                   Body  \n",
       "Pos                                                      \n",
       "7661  <p>consider the dataframe <code>df</code></p>\\...  \n",
       "5779  <p>Why does Pandas tell me that I have objects...  \n",
       "8036  <p>I have a dataframe with multilevel columns,...  \n",
       "573   <p>I been following the documentation but it k...  \n",
       "7257  <p>Hello I have a dataframe like this</p>\\n\\n<...  \n",
       "6626  <p>I can find where my DataFrame has <code>ALE...  \n",
       "6440  <p>I have a Pandas dataframe with two indexes<...  \n",
       "753   <p>Can I insert a column at a specific column ...  \n",
       "1252  <p>Some column in dataframe df, df.column, is ...  \n",
       "3600  <p>I have a <code>dataframe</code>. I would li...  \n",
       "8429  <p>I have a pandas file with 3 different colum...  \n",
       "4881  <p>So I 'm trying to figure it out how to repl...  \n",
       "2527  <p>I can't understand how can I add column nam...  \n",
       "9075  <p>I'm trying to group numerical values by qua...  \n",
       "7895  <p>I have the following python pandas data fra...  \n",
       "9223  <p>I just got my hands on pandas and am figuri...  \n",
       "6014  <p>I want to do this :</p>\\n\\n<pre><code># inp...  \n",
       "1278  <p>I often have MultiIndex indices and I'd lik...  \n",
       "7811  <p>I haven't found a function to write a dataf...  \n",
       "1005  <p>I am reading 2 dfs using:</p>\\n\\n<pre><code...  \n",
       "1322  <p>This is probably a trivial query but I can'...  \n",
       "7949  <p>How do I select specific rows from a python...  \n",
       "3636  <p>I have a square matrix as a dataframe in pa...  \n",
       "7854  <p>from a pyspark sql dataframe like </p>\\n\\n<...  \n",
       "58    <p>I am trying to read the IMF statistics into...  \n",
       "4847  <pre><code>import datetime\\nimport pandas as p...  \n",
       "2898  <p>I'm using pandas 13.0 and I'm trying to cre...  "
      ]
     },
     "execution_count": 37,
     "metadata": {},
     "output_type": "execute_result"
    }
   ],
   "source": [
    "bc.loc[bc['Cluster'] == cnts.index[1]][['Score', 'Title', 'Body']]"
   ]
  },
  {
   "cell_type": "code",
   "execution_count": 38,
   "metadata": {
    "_cell_guid": "b4cdab38-6cd8-d4bc-ca30-63de7f74e29f",
    "_uuid": "790757bbec7fc6db4d97c2fba27df01fee04743c"
   },
   "outputs": [
    {
     "data": {
      "text/html": [
       "<div>\n",
       "<style scoped>\n",
       "    .dataframe tbody tr th:only-of-type {\n",
       "        vertical-align: middle;\n",
       "    }\n",
       "\n",
       "    .dataframe tbody tr th {\n",
       "        vertical-align: top;\n",
       "    }\n",
       "\n",
       "    .dataframe thead th {\n",
       "        text-align: right;\n",
       "    }\n",
       "</style>\n",
       "<table border=\"1\" class=\"dataframe\">\n",
       "  <thead>\n",
       "    <tr style=\"text-align: right;\">\n",
       "      <th></th>\n",
       "      <th>Score</th>\n",
       "      <th>Title</th>\n",
       "      <th>Body</th>\n",
       "    </tr>\n",
       "    <tr>\n",
       "      <th>Pos</th>\n",
       "      <th></th>\n",
       "      <th></th>\n",
       "      <th></th>\n",
       "    </tr>\n",
       "  </thead>\n",
       "  <tbody>\n",
       "    <tr>\n",
       "      <th>5350</th>\n",
       "      <td>0</td>\n",
       "      <td>argparse : ValueError whe using --help or -h o...</td>\n",
       "      <td>&lt;p&gt;Whe using argparse I get this weird ValueEr...</td>\n",
       "    </tr>\n",
       "    <tr>\n",
       "      <th>8668</th>\n",
       "      <td>0</td>\n",
       "      <td>Python argcomplete: can't see second level sub...</td>\n",
       "      <td>&lt;p&gt;I use &lt;a href=\"https://pypi.python.org/pypi...</td>\n",
       "    </tr>\n",
       "    <tr>\n",
       "      <th>5042</th>\n",
       "      <td>1</td>\n",
       "      <td>Python Specify date format with optparse</td>\n",
       "      <td>&lt;p&gt;I'm new using Python 2.6 &lt;/p&gt;\\n\\n&lt;p&gt;I'm try...</td>\n",
       "    </tr>\n",
       "    <tr>\n",
       "      <th>4016</th>\n",
       "      <td>1</td>\n",
       "      <td>python-gssapi Credential error</td>\n",
       "      <td>&lt;p&gt;I am writing a small python application tha...</td>\n",
       "    </tr>\n",
       "    <tr>\n",
       "      <th>4620</th>\n",
       "      <td>0</td>\n",
       "      <td>Python argaprse optional arguments handling</td>\n",
       "      <td>&lt;p&gt;So, I have a python script for parsing and ...</td>\n",
       "    </tr>\n",
       "    <tr>\n",
       "      <th>2550</th>\n",
       "      <td>1</td>\n",
       "      <td>Argparse with two values for one argument</td>\n",
       "      <td>&lt;p&gt;Now my script calls via:&lt;/p&gt;\\n\\n&lt;pre&gt;&lt;code&gt;...</td>\n",
       "    </tr>\n",
       "    <tr>\n",
       "      <th>9300</th>\n",
       "      <td>2</td>\n",
       "      <td>Python argparse --toggle --no-toggle flag</td>\n",
       "      <td>&lt;p&gt;Is there a straightforward way to use &lt;code...</td>\n",
       "    </tr>\n",
       "    <tr>\n",
       "      <th>6496</th>\n",
       "      <td>2</td>\n",
       "      <td>Python: how to have mutually exclusive groups ...</td>\n",
       "      <td>&lt;p&gt;I am writing a program like:&lt;/p&gt;\\n\\n&lt;pre&gt;&lt;c...</td>\n",
       "    </tr>\n",
       "    <tr>\n",
       "      <th>4426</th>\n",
       "      <td>1</td>\n",
       "      <td>Argparse: Making required flags</td>\n",
       "      <td>&lt;p&gt;I am attempting to create a required flag \"...</td>\n",
       "    </tr>\n",
       "    <tr>\n",
       "      <th>4259</th>\n",
       "      <td>5</td>\n",
       "      <td>argparse augment sub-command defaults via glob...</td>\n",
       "      <td>&lt;p&gt;I would like to be able to use the global o...</td>\n",
       "    </tr>\n",
       "    <tr>\n",
       "      <th>8678</th>\n",
       "      <td>4</td>\n",
       "      <td>Treat optional arguments just like -h</td>\n",
       "      <td>&lt;p&gt;How can I tell &lt;code&gt;argparse&lt;/code&gt; to tre...</td>\n",
       "    </tr>\n",
       "    <tr>\n",
       "      <th>392</th>\n",
       "      <td>0</td>\n",
       "      <td>Python Read from Stdin with Arguments</td>\n",
       "      <td>&lt;p&gt;I want to read from python stdin but also t...</td>\n",
       "    </tr>\n",
       "    <tr>\n",
       "      <th>6729</th>\n",
       "      <td>1</td>\n",
       "      <td>WindowsError: [Error 123] The filename, direct...</td>\n",
       "      <td>&lt;p&gt;I am trying to copy *.patch files from kern...</td>\n",
       "    </tr>\n",
       "    <tr>\n",
       "      <th>5969</th>\n",
       "      <td>0</td>\n",
       "      <td>How to parse optional arguments using python a...</td>\n",
       "      <td>&lt;p&gt;I am trying to parse a command line like th...</td>\n",
       "    </tr>\n",
       "    <tr>\n",
       "      <th>5384</th>\n",
       "      <td>5</td>\n",
       "      <td>Python optparse defaults vs function defaults</td>\n",
       "      <td>&lt;p&gt;I'm writing a python script which I would l...</td>\n",
       "    </tr>\n",
       "    <tr>\n",
       "      <th>5936</th>\n",
       "      <td>1</td>\n",
       "      <td>Python argparse conditional arguments</td>\n",
       "      <td>&lt;p&gt;I am creating a program that requires condi...</td>\n",
       "    </tr>\n",
       "    <tr>\n",
       "      <th>3337</th>\n",
       "      <td>8</td>\n",
       "      <td>Argparse\"ArgumentError: argument -h/--help: co...</td>\n",
       "      <td>&lt;p&gt;Recently, I am learning argparse module, Ar...</td>\n",
       "    </tr>\n",
       "    <tr>\n",
       "      <th>6519</th>\n",
       "      <td>7</td>\n",
       "      <td>Set the default to false if another mutually e...</td>\n",
       "      <td>&lt;p&gt;I realise this is a lot like &lt;a href=\"http:...</td>\n",
       "    </tr>\n",
       "    <tr>\n",
       "      <th>2268</th>\n",
       "      <td>46</td>\n",
       "      <td>Python argparse: Make at least one argument re...</td>\n",
       "      <td>&lt;p&gt;I've been using &lt;code&gt;argparse&lt;/code&gt; for a...</td>\n",
       "    </tr>\n",
       "    <tr>\n",
       "      <th>3360</th>\n",
       "      <td>2</td>\n",
       "      <td>Python argparse with nargs behaviour incorrect</td>\n",
       "      <td>&lt;p&gt;Here is my argparse sample say sample.py&lt;/p...</td>\n",
       "    </tr>\n",
       "    <tr>\n",
       "      <th>4922</th>\n",
       "      <td>0</td>\n",
       "      <td>Dynamicly assign argparse version number python</td>\n",
       "      <td>&lt;p&gt;I want to add a dynamic version to my code....</td>\n",
       "    </tr>\n",
       "    <tr>\n",
       "      <th>7219</th>\n",
       "      <td>1</td>\n",
       "      <td>How to specify multiple instances of same type...</td>\n",
       "      <td>&lt;p&gt;Some apps I am converting from Perl to Pyth...</td>\n",
       "    </tr>\n",
       "  </tbody>\n",
       "</table>\n",
       "</div>"
      ],
      "text/plain": [
       "      Score                                              Title  \\\n",
       "Pos                                                              \n",
       "5350      0  argparse : ValueError whe using --help or -h o...   \n",
       "8668      0  Python argcomplete: can't see second level sub...   \n",
       "5042      1           Python Specify date format with optparse   \n",
       "4016      1                     python-gssapi Credential error   \n",
       "4620      0        Python argaprse optional arguments handling   \n",
       "2550      1          Argparse with two values for one argument   \n",
       "9300      2          Python argparse --toggle --no-toggle flag   \n",
       "6496      2  Python: how to have mutually exclusive groups ...   \n",
       "4426      1                    Argparse: Making required flags   \n",
       "4259      5  argparse augment sub-command defaults via glob...   \n",
       "8678      4              Treat optional arguments just like -h   \n",
       "392       0              Python Read from Stdin with Arguments   \n",
       "6729      1  WindowsError: [Error 123] The filename, direct...   \n",
       "5969      0  How to parse optional arguments using python a...   \n",
       "5384      5      Python optparse defaults vs function defaults   \n",
       "5936      1              Python argparse conditional arguments   \n",
       "3337      8  Argparse\"ArgumentError: argument -h/--help: co...   \n",
       "6519      7  Set the default to false if another mutually e...   \n",
       "2268     46  Python argparse: Make at least one argument re...   \n",
       "3360      2     Python argparse with nargs behaviour incorrect   \n",
       "4922      0    Dynamicly assign argparse version number python   \n",
       "7219      1  How to specify multiple instances of same type...   \n",
       "\n",
       "                                                   Body  \n",
       "Pos                                                      \n",
       "5350  <p>Whe using argparse I get this weird ValueEr...  \n",
       "8668  <p>I use <a href=\"https://pypi.python.org/pypi...  \n",
       "5042  <p>I'm new using Python 2.6 </p>\\n\\n<p>I'm try...  \n",
       "4016  <p>I am writing a small python application tha...  \n",
       "4620  <p>So, I have a python script for parsing and ...  \n",
       "2550  <p>Now my script calls via:</p>\\n\\n<pre><code>...  \n",
       "9300  <p>Is there a straightforward way to use <code...  \n",
       "6496  <p>I am writing a program like:</p>\\n\\n<pre><c...  \n",
       "4426  <p>I am attempting to create a required flag \"...  \n",
       "4259  <p>I would like to be able to use the global o...  \n",
       "8678  <p>How can I tell <code>argparse</code> to tre...  \n",
       "392   <p>I want to read from python stdin but also t...  \n",
       "6729  <p>I am trying to copy *.patch files from kern...  \n",
       "5969  <p>I am trying to parse a command line like th...  \n",
       "5384  <p>I'm writing a python script which I would l...  \n",
       "5936  <p>I am creating a program that requires condi...  \n",
       "3337  <p>Recently, I am learning argparse module, Ar...  \n",
       "6519  <p>I realise this is a lot like <a href=\"http:...  \n",
       "2268  <p>I've been using <code>argparse</code> for a...  \n",
       "3360  <p>Here is my argparse sample say sample.py</p...  \n",
       "4922  <p>I want to add a dynamic version to my code....  \n",
       "7219  <p>Some apps I am converting from Perl to Pyth...  "
      ]
     },
     "execution_count": 38,
     "metadata": {},
     "output_type": "execute_result"
    }
   ],
   "source": [
    "bc.loc[bc['Cluster'] == cnts.index[2]][['Score', 'Title', 'Body']]"
   ]
  },
  {
   "cell_type": "markdown",
   "metadata": {
    "_cell_guid": "5187ea92-68d2-f747-e9c1-bd16953f4c4e",
    "_uuid": "9b60e46295e09645ea1824f394bd42dd61c8409c"
   },
   "source": [
    "We can improve our clusters by increasing sample size, using entire dataset to calculate tf-idf, adjusting cluster splitting criterion, using non-exclusive clustering techniques etc.\n",
    "\n",
    "Next steps:\n",
    "\n",
    " 1. Use clusters and most significant words in questions to generate question tags automatically\n",
    " 2. Use an autoencoder to perform semantical hashing for better estimates of question relatedness"
   ]
  }
 ],
 "metadata": {
  "_change_revision": 0,
  "_is_fork": false,
  "kernelspec": {
   "display_name": "Python 3",
   "language": "python",
   "name": "python3"
  },
  "language_info": {
   "codemirror_mode": {
    "name": "ipython",
    "version": 3
   },
   "file_extension": ".py",
   "mimetype": "text/x-python",
   "name": "python",
   "nbconvert_exporter": "python",
   "pygments_lexer": "ipython3",
   "version": "3.6.4"
  }
 },
 "nbformat": 4,
 "nbformat_minor": 1
}
