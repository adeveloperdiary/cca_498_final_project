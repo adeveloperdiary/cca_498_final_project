{
 "cells": [
  {
   "cell_type": "markdown",
   "metadata": {
    "_cell_guid": "527f8013-12fd-1810-0fb3-b9786b824131",
    "_uuid": "4fa53f2c0384586eee8fad4c5cf55c5c3cb2295b"
   },
   "source": [
    "Use LSA to identify related questions"
   ]
  },
  {
   "cell_type": "code",
   "execution_count": 1,
   "metadata": {
    "_cell_guid": "7475d44f-5f80-f377-a244-f893f525f36e",
    "_uuid": "07e2398cb2c22167f77be8bc3652fd7b173273e7"
   },
   "outputs": [],
   "source": [
    "import numpy as np\n",
    "import pandas as pd\n",
    "import matplotlib.pyplot as plt\n",
    "%matplotlib inline\n",
    "import nltk\n",
    "from multiprocessing import Pool\n",
    "from nltk.tokenize import word_tokenize\n",
    "from nltk.corpus import stopwords\n",
    "from nltk.stem import WordNetLemmatizer\n",
    "from sklearn.feature_extraction.text import TfidfVectorizer, CountVectorizer\n",
    "import re\n",
    "from itertools import chain\n",
    "from collections import Counter\n",
    "import pickle\n",
    "import scipy.io as scio\n",
    "from sklearn.decomposition import TruncatedSVD\n",
    "import scipy.spatial.distance as distance\n",
    "import scipy.cluster.hierarchy as hierarchy\n",
    "from scipy.stats import pearsonr"
   ]
  },
  {
   "cell_type": "markdown",
   "metadata": {
    "_cell_guid": "98803c67-0c76-723c-2b88-1671625f3564",
    "_uuid": "5651a50b360ee68c4806a3b16edf58276f5e3f56"
   },
   "source": []
  },
  {
   "cell_type": "code",
   "execution_count": 2,
   "metadata": {
    "_cell_guid": "bc53c232-7d90-b512-68e2-b252020d0c39",
    "_uuid": "386c13f52dbcaa96ed75c7092f2f9f583f75311e"
   },
   "outputs": [],
   "source": [
    "dat = pd.read_csv(\"../raw_data/local-dev/Questions.csv\", encoding='latin1')\n",
    "dat['Title'].fillna(\"None\", inplace=True)\n",
    "dat['Score'].fillna(0, inplace=True)"
   ]
  },
  {
   "cell_type": "markdown",
   "metadata": {
    "_cell_guid": "8efb7f69-23ae-129f-dbf0-82d01e8fc915",
    "_uuid": "ebc2f7353be1197ac2fbcf33cf0118d5061d0418"
   },
   "source": []
  },
  {
   "cell_type": "code",
   "execution_count": 3,
   "metadata": {
    "_cell_guid": "3d94a6c6-e705-2b34-2bc3-170a9913f433",
    "_uuid": "720985e8fb922674cc73d76568ebc28b4a37e666"
   },
   "outputs": [
    {
     "data": {
      "text/html": [
       "<div>\n",
       "<style scoped>\n",
       "    .dataframe tbody tr th:only-of-type {\n",
       "        vertical-align: middle;\n",
       "    }\n",
       "\n",
       "    .dataframe tbody tr th {\n",
       "        vertical-align: top;\n",
       "    }\n",
       "\n",
       "    .dataframe thead th {\n",
       "        text-align: right;\n",
       "    }\n",
       "</style>\n",
       "<table border=\"1\" class=\"dataframe\">\n",
       "  <thead>\n",
       "    <tr style=\"text-align: right;\">\n",
       "      <th></th>\n",
       "      <th>Id</th>\n",
       "      <th>OwnerUserId</th>\n",
       "      <th>CreationDate</th>\n",
       "      <th>Score</th>\n",
       "      <th>Title</th>\n",
       "      <th>Body</th>\n",
       "    </tr>\n",
       "  </thead>\n",
       "  <tbody>\n",
       "    <tr>\n",
       "      <th>0</th>\n",
       "      <td>17532666</td>\n",
       "      <td>2556416.0</td>\n",
       "      <td>2013-07-08T17:33:15Z</td>\n",
       "      <td>0</td>\n",
       "      <td>Migrating to Twitter API version 1.1 (?) [dupl...</td>\n",
       "      <td>&lt;p&gt;I am quite new to Twitter API. I have updat...</td>\n",
       "    </tr>\n",
       "    <tr>\n",
       "      <th>1</th>\n",
       "      <td>10540999</td>\n",
       "      <td>161085.0</td>\n",
       "      <td>2012-05-10T19:37:09Z</td>\n",
       "      <td>4</td>\n",
       "      <td>How to configure a Clojure library at runtime?</td>\n",
       "      <td>&lt;p&gt;As a Clojure learning exercise, I am portin...</td>\n",
       "    </tr>\n",
       "    <tr>\n",
       "      <th>2</th>\n",
       "      <td>34126234</td>\n",
       "      <td>3769629.0</td>\n",
       "      <td>2015-12-07T04:02:48Z</td>\n",
       "      <td>0</td>\n",
       "      <td>Handling JSON file with python</td>\n",
       "      <td>&lt;p&gt;I'm developing a plugin for sublime text an...</td>\n",
       "    </tr>\n",
       "    <tr>\n",
       "      <th>3</th>\n",
       "      <td>23721800</td>\n",
       "      <td>2474015.0</td>\n",
       "      <td>2014-05-18T12:19:40Z</td>\n",
       "      <td>0</td>\n",
       "      <td>Getting a MemoryError because list/array is to...</td>\n",
       "      <td>&lt;h2&gt;Problem&lt;/h2&gt;\\n\\n&lt;p&gt;I have to download &lt;cod...</td>\n",
       "    </tr>\n",
       "    <tr>\n",
       "      <th>4</th>\n",
       "      <td>10126239</td>\n",
       "      <td>891306.0</td>\n",
       "      <td>2012-04-12T14:59:27Z</td>\n",
       "      <td>3</td>\n",
       "      <td>Reading output with telnetlib in realtime</td>\n",
       "      <td>&lt;p&gt;I'm using Python's telnetlib to telnet to s...</td>\n",
       "    </tr>\n",
       "  </tbody>\n",
       "</table>\n",
       "</div>"
      ],
      "text/plain": [
       "         Id  OwnerUserId          CreationDate  Score  \\\n",
       "0  17532666    2556416.0  2013-07-08T17:33:15Z      0   \n",
       "1  10540999     161085.0  2012-05-10T19:37:09Z      4   \n",
       "2  34126234    3769629.0  2015-12-07T04:02:48Z      0   \n",
       "3  23721800    2474015.0  2014-05-18T12:19:40Z      0   \n",
       "4  10126239     891306.0  2012-04-12T14:59:27Z      3   \n",
       "\n",
       "                                               Title  \\\n",
       "0  Migrating to Twitter API version 1.1 (?) [dupl...   \n",
       "1     How to configure a Clojure library at runtime?   \n",
       "2                     Handling JSON file with python   \n",
       "3  Getting a MemoryError because list/array is to...   \n",
       "4          Reading output with telnetlib in realtime   \n",
       "\n",
       "                                                Body  \n",
       "0  <p>I am quite new to Twitter API. I have updat...  \n",
       "1  <p>As a Clojure learning exercise, I am portin...  \n",
       "2  <p>I'm developing a plugin for sublime text an...  \n",
       "3  <h2>Problem</h2>\\n\\n<p>I have to download <cod...  \n",
       "4  <p>I'm using Python's telnetlib to telnet to s...  "
      ]
     },
     "execution_count": 3,
     "metadata": {},
     "output_type": "execute_result"
    }
   ],
   "source": [
    "dat.head()"
   ]
  },
  {
   "cell_type": "code",
   "execution_count": 4,
   "metadata": {
    "_cell_guid": "44c5675a-af0c-c90b-27e1-cca6724378a4",
    "_uuid": "6ccbeb2b936dd81a4088c4c235e254702a788d1e"
   },
   "outputs": [
    {
     "data": {
      "text/plain": [
       "(10000, 6)"
      ]
     },
     "execution_count": 4,
     "metadata": {},
     "output_type": "execute_result"
    }
   ],
   "source": [
    "# select a sample - results will improve without sampling in tf-idf caluculations, but due to\n",
    "# Kaggle kernel memory limit we have to make a compromise here.\n",
    "selected_ids = np.random.choice(range(dat.shape[0]), 10000, replace=False)\n",
    "sample = dat.loc[selected_ids, :]\n",
    "sample.shape"
   ]
  },
  {
   "cell_type": "markdown",
   "metadata": {
    "_cell_guid": "3c04453b-3a7d-22b9-0506-eaf3825caae3",
    "_uuid": "54e1a822cd33422b03255d31e85fdf25929b31ae"
   },
   "source": []
  },
  {
   "cell_type": "code",
   "execution_count": 6,
   "metadata": {
    "_cell_guid": "2cd93cf7-f747-2d5e-288e-bfa95015e310",
    "_uuid": "e6c2b3bcb07c1a621bb39c02a35245057219a442"
   },
   "outputs": [],
   "source": [
    "def purify_string(html):\n",
    "    return re.sub('(\\r\\n)+|\\r+|\\n+', \" \", re.sub('<[^<]+?>', '', html))"
   ]
  },
  {
   "cell_type": "code",
   "execution_count": 7,
   "metadata": {
    "_cell_guid": "b8d5dc1d-542d-e727-35c0-02644611bf16",
    "_uuid": "662f96b1cfabea77562782773d3f6f980b020f70"
   },
   "outputs": [
    {
     "name": "stderr",
     "output_type": "stream",
     "text": [
      "/Users/adantonison/.virtualenvs/cca-project/lib/python3.6/site-packages/ipykernel_launcher.py:1: DeprecationWarning: \n",
      ".ix is deprecated. Please use\n",
      ".loc for label based indexing or\n",
      ".iloc for positional indexing\n",
      "\n",
      "See the documentation here:\n",
      "http://pandas.pydata.org/pandas-docs/stable/indexing.html#ix-indexer-is-deprecated\n",
      "  \"\"\"Entry point for launching an IPython kernel.\n"
     ]
    }
   ],
   "source": [
    "corpus = sample.ix[:, 'Body'].apply(purify_string)"
   ]
  },
  {
   "cell_type": "code",
   "execution_count": 8,
   "metadata": {
    "_cell_guid": "8d993582-63f1-ebf8-963f-c7f006578fcc",
    "_uuid": "cc3b25289560a595d97d7d8f33cc1fb60e3cbcdf"
   },
   "outputs": [],
   "source": [
    "def combine_title_body(tnb):\n",
    "    return tnb[0] + \" \" + tnb[1]"
   ]
  },
  {
   "cell_type": "code",
   "execution_count": 9,
   "metadata": {
    "_cell_guid": "9cb4859e-eed7-c7fd-e29c-edbef8d897ee",
    "_uuid": "5a19d62f237c3c076cd891df4d9af3ae7be6336a"
   },
   "outputs": [],
   "source": [
    "p = Pool(8)\n",
    "combined_corpus = p.map(combine_title_body, zip(dat['Title'], corpus))\n",
    "p.close()"
   ]
  },
  {
   "cell_type": "code",
   "execution_count": 10,
   "metadata": {
    "_cell_guid": "bc632662-b7c2-eed4-9e12-aad1c3321c38",
    "_uuid": "48c9b383ec6f75275eaff19ee048e02e172a772d"
   },
   "outputs": [
    {
     "data": {
      "text/plain": [
       "['Migrating to Twitter API version 1.1 (?) [duplicated] From the django default admin panel, I need to store all pin-codes that uploaded from an excel file for that I developed two models Pincodes and UploadPinFile. I am trying to save all pincodes to Pincode Model from UploadPinFile\\'s save method but it returns me an error given bellow coercing to Unicode: need string or buffer, FieldFile found The two model defanitions are given below class UploadPincode(models.Model):     added_on = models.DateField(auto_now_add=True)     pincode_file = models.FileField(         upload_to=\"Pincodes/\", verbose_name=\"Pincode Excel file (.xls,xlsx)\", blank=False, null=False)     def save(self):         book = open_workbook(self.pincode_file)         for j in range(0, book.nsheets - 1):             sheet = book.sheet_by_index(j)             for i in range(sheet.nrows):                 if i != 0:                     a = sheet.row_values(i)                     int_pin = int(a[0])                     Pincode(pincode=str(int_pin)).save()     def __unicode__(self):         return str(self.added_on) class Pincode(models.Model):     pincode = models.CharField(         max_length=100, verbose_name=u\\'available pincode\\', null=True, blank=True)     def __unicode__(self):         return self.pincode Example Pincode file contains 712409  YES 713101  YES 713102  YES 713103  YES 713201  YES 713202  YES 713203  YES ',\n",
       " \"How to configure a Clojure library at runtime? There seems to be 2 ways to use unittest.mock.patch: is one way better? Using a context manager and with statement: class MyTest(TestCase):     def test_something(self):         with patch('package.module.Class'):             assert package.module.Class is self.MockClass Or calling start and stop from setup and tearDown/cleanup: class MyTest(TestCase):     def setUp(self):         patcher = patch('package.module.Class')         self.MockClass = patcher.start()         self.addCleanup(patcher.stop)     def test_something(self):         assert package.module.Class is self.MockClass The context manager version is less code, and so arguable easier to read. I there any reason why I should prefer to use the TestCase setUp/tearDown infrastructure? \"]"
      ]
     },
     "execution_count": 10,
     "metadata": {},
     "output_type": "execute_result"
    }
   ],
   "source": [
    "combined_corpus[:2]"
   ]
  },
  {
   "cell_type": "markdown",
   "metadata": {
    "_cell_guid": "23532fbf-508e-be9f-ed49-2d85d08fa7fc",
    "_uuid": "91c77bc93faf744a67df0a5a31b7d9831f9ad788"
   },
   "source": []
  },
  {
   "cell_type": "code",
   "execution_count": 12,
   "metadata": {},
   "outputs": [
    {
     "name": "stdout",
     "output_type": "stream",
     "text": [
      "[nltk_data] Downloading package punkt to\n",
      "[nltk_data]     /Users/adantonison/nltk_data...\n",
      "[nltk_data]   Unzipping tokenizers/punkt.zip.\n"
     ]
    },
    {
     "data": {
      "text/plain": [
       "True"
      ]
     },
     "execution_count": 12,
     "metadata": {},
     "output_type": "execute_result"
    }
   ],
   "source": [
    "nltk.download('punkt')"
   ]
  },
  {
   "cell_type": "code",
   "execution_count": 14,
   "metadata": {},
   "outputs": [
    {
     "name": "stdout",
     "output_type": "stream",
     "text": [
      "[nltk_data] Downloading package wordnet to\n",
      "[nltk_data]     /Users/adantonison/nltk_data...\n",
      "[nltk_data]   Unzipping corpora/wordnet.zip.\n"
     ]
    },
    {
     "data": {
      "text/plain": [
       "True"
      ]
     },
     "execution_count": 14,
     "metadata": {},
     "output_type": "execute_result"
    }
   ],
   "source": [
    "nltk.download('wordnet')"
   ]
  },
  {
   "cell_type": "code",
   "execution_count": 15,
   "metadata": {
    "_cell_guid": "ecbb0904-c13c-846b-eedb-0db264a1e163",
    "_uuid": "2a2085b81b9db7dd3e9520d426f97097948e7edf"
   },
   "outputs": [],
   "source": [
    "lem = WordNetLemmatizer()\n",
    "def cond_tokenize(t):\n",
    "    if t is None:\n",
    "        return []\n",
    "    else:\n",
    "        return [lem.lemmatize(w.lower()) for w in word_tokenize(t)]\n",
    "\n",
    "p = Pool(8)\n",
    "tokens = list(p.imap(cond_tokenize, combined_corpus))\n",
    "p.close()"
   ]
  },
  {
   "cell_type": "markdown",
   "metadata": {
    "_cell_guid": "bb0ff317-a30b-9492-ad81-4e2050814ba8",
    "_uuid": "85d7cfccf5f466cde3efd8e8c8652bef3c658bf3"
   },
   "source": []
  },
  {
   "cell_type": "code",
   "execution_count": 16,
   "metadata": {
    "_cell_guid": "a34eccce-f045-bdc5-62fc-8f46f3178837",
    "_uuid": "98df3feeb6373a945a274297b7f0ffddd564a98f"
   },
   "outputs": [],
   "source": [
    "# stops = stopwords.words('english')\n",
    "pure_tokens = [\" \".join(sent) for sent in tokens]"
   ]
  },
  {
   "cell_type": "markdown",
   "metadata": {
    "_cell_guid": "09442586-b7e0-1932-5a09-38cbfddaaab3",
    "_uuid": "c7756400944e29167364d8223580d807f36006e9"
   },
   "source": []
  },
  {
   "cell_type": "code",
   "execution_count": 17,
   "metadata": {
    "_cell_guid": "2c958ef8-b773-a294-a93c-7270a3aad586",
    "_uuid": "e4a10051dc8ec371275bedb3f0354091d14ed697"
   },
   "outputs": [],
   "source": [
    "vectorizer = TfidfVectorizer(min_df=1, max_features=2000, stop_words='english', ngram_range=[1, 1], sublinear_tf=True)\n",
    "tfidf = vectorizer.fit_transform(pure_tokens)"
   ]
  },
  {
   "cell_type": "markdown",
   "metadata": {
    "_cell_guid": "0c68e869-4b3e-54a0-c4da-894733d0e623",
    "_uuid": "afa01390bbe2d5195b52ca7dfd7717e92537b156"
   },
   "source": []
  },
  {
   "cell_type": "code",
   "execution_count": 18,
   "metadata": {
    "_cell_guid": "44bc1be1-05c9-dd10-171d-a9ceb56cf2d6",
    "_uuid": "e6ae3bb1ed7387752c65fb8c4d12d8d238269152"
   },
   "outputs": [
    {
     "data": {
      "text/html": [
       "<div>\n",
       "<style scoped>\n",
       "    .dataframe tbody tr th:only-of-type {\n",
       "        vertical-align: middle;\n",
       "    }\n",
       "\n",
       "    .dataframe tbody tr th {\n",
       "        vertical-align: top;\n",
       "    }\n",
       "\n",
       "    .dataframe thead th {\n",
       "        text-align: right;\n",
       "    }\n",
       "</style>\n",
       "<table border=\"1\" class=\"dataframe\">\n",
       "  <thead>\n",
       "    <tr style=\"text-align: right;\">\n",
       "      <th></th>\n",
       "      <th>id</th>\n",
       "      <th>word</th>\n",
       "      <th>idf</th>\n",
       "    </tr>\n",
       "  </thead>\n",
       "  <tbody>\n",
       "    <tr>\n",
       "      <th>71</th>\n",
       "      <td>1407</td>\n",
       "      <td>python</td>\n",
       "      <td>1.382679</td>\n",
       "    </tr>\n",
       "    <tr>\n",
       "      <th>51</th>\n",
       "      <td>1874</td>\n",
       "      <td>using</td>\n",
       "      <td>1.938125</td>\n",
       "    </tr>\n",
       "    <tr>\n",
       "      <th>64</th>\n",
       "      <td>406</td>\n",
       "      <td>code</td>\n",
       "      <td>1.943248</td>\n",
       "    </tr>\n",
       "    <tr>\n",
       "      <th>11</th>\n",
       "      <td>738</td>\n",
       "      <td>file</td>\n",
       "      <td>2.037147</td>\n",
       "    </tr>\n",
       "    <tr>\n",
       "      <th>78</th>\n",
       "      <td>1032</td>\n",
       "      <td>like</td>\n",
       "      <td>2.056228</td>\n",
       "    </tr>\n",
       "    <tr>\n",
       "      <th>103</th>\n",
       "      <td>910</td>\n",
       "      <td>import</td>\n",
       "      <td>2.140159</td>\n",
       "    </tr>\n",
       "    <tr>\n",
       "      <th>28</th>\n",
       "      <td>540</td>\n",
       "      <td>def</td>\n",
       "      <td>2.240391</td>\n",
       "    </tr>\n",
       "    <tr>\n",
       "      <th>154</th>\n",
       "      <td>1918</td>\n",
       "      <td>want</td>\n",
       "      <td>2.247328</td>\n",
       "    </tr>\n",
       "    <tr>\n",
       "      <th>115</th>\n",
       "      <td>1355</td>\n",
       "      <td>print</td>\n",
       "      <td>2.255366</td>\n",
       "    </tr>\n",
       "    <tr>\n",
       "      <th>17</th>\n",
       "      <td>675</td>\n",
       "      <td>error</td>\n",
       "      <td>2.263469</td>\n",
       "    </tr>\n",
       "  </tbody>\n",
       "</table>\n",
       "</div>"
      ],
      "text/plain": [
       "       id    word       idf\n",
       "71   1407  python  1.382679\n",
       "51   1874   using  1.938125\n",
       "64    406    code  1.943248\n",
       "11    738    file  2.037147\n",
       "78   1032    like  2.056228\n",
       "103   910  import  2.140159\n",
       "28    540     def  2.240391\n",
       "154  1918    want  2.247328\n",
       "115  1355   print  2.255366\n",
       "17    675   error  2.263469"
      ]
     },
     "execution_count": 18,
     "metadata": {},
     "output_type": "execute_result"
    }
   ],
   "source": [
    "idfs = pd.DataFrame([[v, k] for k, v in vectorizer.vocabulary_.items()], columns=['id', 'word']).sort_values('id')\n",
    "idfs['idf'] = vectorizer.idf_\n",
    "idfs.sort_values('idf').head(10)"
   ]
  },
  {
   "cell_type": "markdown",
   "metadata": {
    "_cell_guid": "2ef01b61-878b-ad4b-e73a-898be872398f",
    "_uuid": "ca4d042cfe005eeeaf1940bf3315c85bef0a44fc"
   },
   "source": [
    "### Compress using SVD"
   ]
  },
  {
   "cell_type": "code",
   "execution_count": 19,
   "metadata": {
    "_cell_guid": "e4891e6b-f2a9-5e26-cd26-11fbdeda2efb",
    "_uuid": "ed3a550f7f9701ee15b9aff8c634882f291c27c0"
   },
   "outputs": [],
   "source": [
    "tsvd = TruncatedSVD(n_components=500)\n",
    "transformed = tsvd.fit_transform(tfidf)"
   ]
  },
  {
   "cell_type": "code",
   "execution_count": 20,
   "metadata": {
    "_cell_guid": "1ed499c0-49a1-70b2-42bc-a725b211e41e",
    "_uuid": "b003efff4bac609789859f253e6010c34ae9f3af"
   },
   "outputs": [
    {
     "data": {
      "text/plain": [
       "0.607752559791084"
      ]
     },
     "execution_count": 20,
     "metadata": {},
     "output_type": "execute_result"
    }
   ],
   "source": [
    "np.sum(tsvd.explained_variance_ratio_)"
   ]
  },
  {
   "cell_type": "code",
   "execution_count": 21,
   "metadata": {
    "_cell_guid": "2c447624-1c1a-c23a-298d-95c51afcf2c9",
    "_uuid": "3dcdbc02a12b3dd25e420f71e51c9e7a97d6b17f"
   },
   "outputs": [
    {
     "data": {
      "text/plain": [
       "(10000, 500)"
      ]
     },
     "execution_count": 21,
     "metadata": {},
     "output_type": "execute_result"
    }
   ],
   "source": [
    "transformed.shape"
   ]
  },
  {
   "cell_type": "markdown",
   "metadata": {
    "_cell_guid": "e7973e1a-fecb-4e0e-9b39-c74cd50d6aeb",
    "_uuid": "d8ddde5ff0d36084d00fad57ac404c4461c9eb9f"
   },
   "source": []
  },
  {
   "cell_type": "code",
   "execution_count": 22,
   "metadata": {
    "_cell_guid": "c1b4fa41-d954-b6ce-1066-710bbd4bf358",
    "_uuid": "59c525c52b69e7381bf5489442e8d313c654b7b6"
   },
   "outputs": [],
   "source": [
    "# calculate pairwise cosine distance\n",
    "D = distance.pdist(transformed, 'cosine')"
   ]
  },
  {
   "cell_type": "code",
   "execution_count": 23,
   "metadata": {
    "_cell_guid": "80f03f54-ed8c-b6d1-1995-62814b56cba9",
    "_uuid": "926cd97d4a372bab37f7035986dd3c436286a94a"
   },
   "outputs": [],
   "source": [
    "# hierarchical clustering - tree calculation\n",
    "L = hierarchy.linkage(D)"
   ]
  },
  {
   "cell_type": "code",
   "execution_count": 24,
   "metadata": {
    "_cell_guid": "e3a593e8-4a4e-3cc5-610c-b21009173774",
    "_uuid": "8717b04c82544271440611ffa6bec1b12014b5c6"
   },
   "outputs": [
    {
     "data": {
      "text/plain": [
       "0.9309327680889984"
      ]
     },
     "execution_count": 24,
     "metadata": {},
     "output_type": "execute_result"
    }
   ],
   "source": [
    "# mean distance between clusters\n",
    "np.mean(D)"
   ]
  },
  {
   "cell_type": "code",
   "execution_count": 25,
   "metadata": {
    "_cell_guid": "def97dcc-d535-95d9-90ca-18b6776de25d",
    "_uuid": "8cdf6155ba1febf341671eee9042c30a8446fcf7"
   },
   "outputs": [],
   "source": [
    "# split clusters by criterion. Here 0.71 is used as the inconsistency criterion. Adjust the\n",
    "# number to change cluster sizes\n",
    "cls = hierarchy.fcluster(L, 0.71, criterion='inconsistent')"
   ]
  },
  {
   "cell_type": "code",
   "execution_count": 26,
   "metadata": {
    "_cell_guid": "3ece1c02-6629-83b6-22c8-854b76a66f87",
    "_uuid": "aad2ba40855db47a6fc25520a250b60527327bbf"
   },
   "outputs": [
    {
     "data": {
      "text/plain": [
       "Cluster\n",
       "919     25\n",
       "704     24\n",
       "1245    21\n",
       "1183    19\n",
       "1396    17\n",
       "dtype: int64"
      ]
     },
     "execution_count": 26,
     "metadata": {},
     "output_type": "execute_result"
    }
   ],
   "source": [
    "df_cls = pd.DataFrame({'Pos': selected_ids, 'Cluster': cls})\n",
    "cnts = df_cls.groupby('Cluster').size().sort_values(ascending=False)\n",
    "cnts.sort_values(ascending=False).head()"
   ]
  },
  {
   "cell_type": "code",
   "execution_count": 27,
   "metadata": {
    "_cell_guid": "f63a37cb-f753-8127-734d-edb0570d464d",
    "_uuid": "6a5eb4a65ab03dc284d36a80374f881bd098351b"
   },
   "outputs": [
    {
     "data": {
      "text/html": [
       "<div>\n",
       "<style scoped>\n",
       "    .dataframe tbody tr th:only-of-type {\n",
       "        vertical-align: middle;\n",
       "    }\n",
       "\n",
       "    .dataframe tbody tr th {\n",
       "        vertical-align: top;\n",
       "    }\n",
       "\n",
       "    .dataframe thead th {\n",
       "        text-align: right;\n",
       "    }\n",
       "</style>\n",
       "<table border=\"1\" class=\"dataframe\">\n",
       "  <thead>\n",
       "    <tr style=\"text-align: right;\">\n",
       "      <th></th>\n",
       "      <th>Id</th>\n",
       "      <th>OwnerUserId</th>\n",
       "      <th>CreationDate</th>\n",
       "      <th>Score</th>\n",
       "      <th>Title</th>\n",
       "      <th>Body</th>\n",
       "      <th>Cluster</th>\n",
       "    </tr>\n",
       "    <tr>\n",
       "      <th>Pos</th>\n",
       "      <th></th>\n",
       "      <th></th>\n",
       "      <th></th>\n",
       "      <th></th>\n",
       "      <th></th>\n",
       "      <th></th>\n",
       "      <th></th>\n",
       "    </tr>\n",
       "  </thead>\n",
       "  <tbody>\n",
       "    <tr>\n",
       "      <th>4851</th>\n",
       "      <td>27034153</td>\n",
       "      <td>3916946.0</td>\n",
       "      <td>2014-11-20T07:34:15Z</td>\n",
       "      <td>0</td>\n",
       "      <td>How to Process Uploaded file in Django Model s...</td>\n",
       "      <td>&lt;p&gt;From the django default admin panel, I need...</td>\n",
       "      <td>2014</td>\n",
       "    </tr>\n",
       "    <tr>\n",
       "      <th>264</th>\n",
       "      <td>26100005</td>\n",
       "      <td>72911.0</td>\n",
       "      <td>2014-09-29T12:31:57Z</td>\n",
       "      <td>1</td>\n",
       "      <td>unittest.mock.patch: Context manager vs setUp/...</td>\n",
       "      <td>&lt;p&gt;There seems to be 2 ways to use &lt;a href=\"ht...</td>\n",
       "      <td>2665</td>\n",
       "    </tr>\n",
       "    <tr>\n",
       "      <th>2837</th>\n",
       "      <td>14233996</td>\n",
       "      <td>429423.0</td>\n",
       "      <td>2013-01-09T11:14:46Z</td>\n",
       "      <td>1</td>\n",
       "      <td>Add new item to Dictionary dynamically using a...</td>\n",
       "      <td>&lt;p&gt;I'm currently reading values from file and ...</td>\n",
       "      <td>357</td>\n",
       "    </tr>\n",
       "    <tr>\n",
       "      <th>1657</th>\n",
       "      <td>8608341</td>\n",
       "      <td>814354.0</td>\n",
       "      <td>2011-12-22T18:38:05Z</td>\n",
       "      <td>4</td>\n",
       "      <td>Documenting files with \"from x import *\"</td>\n",
       "      <td>&lt;p&gt;Can sphinx's .. automodule:: and other auto...</td>\n",
       "      <td>156</td>\n",
       "    </tr>\n",
       "    <tr>\n",
       "      <th>468</th>\n",
       "      <td>37648213</td>\n",
       "      <td>945039.0</td>\n",
       "      <td>2016-06-06T00:48:10Z</td>\n",
       "      <td>0</td>\n",
       "      <td>How do I associate python with py files in bash</td>\n",
       "      <td>&lt;p&gt;A common question is \"how do I make &lt;em&gt;my&lt;...</td>\n",
       "      <td>6655</td>\n",
       "    </tr>\n",
       "  </tbody>\n",
       "</table>\n",
       "</div>"
      ],
      "text/plain": [
       "            Id  OwnerUserId          CreationDate  Score  \\\n",
       "Pos                                                        \n",
       "4851  27034153    3916946.0  2014-11-20T07:34:15Z      0   \n",
       "264   26100005      72911.0  2014-09-29T12:31:57Z      1   \n",
       "2837  14233996     429423.0  2013-01-09T11:14:46Z      1   \n",
       "1657   8608341     814354.0  2011-12-22T18:38:05Z      4   \n",
       "468   37648213     945039.0  2016-06-06T00:48:10Z      0   \n",
       "\n",
       "                                                  Title  \\\n",
       "Pos                                                       \n",
       "4851  How to Process Uploaded file in Django Model s...   \n",
       "264   unittest.mock.patch: Context manager vs setUp/...   \n",
       "2837  Add new item to Dictionary dynamically using a...   \n",
       "1657           Documenting files with \"from x import *\"   \n",
       "468     How do I associate python with py files in bash   \n",
       "\n",
       "                                                   Body  Cluster  \n",
       "Pos                                                               \n",
       "4851  <p>From the django default admin panel, I need...     2014  \n",
       "264   <p>There seems to be 2 ways to use <a href=\"ht...     2665  \n",
       "2837  <p>I'm currently reading values from file and ...      357  \n",
       "1657  <p>Can sphinx's .. automodule:: and other auto...      156  \n",
       "468   <p>A common question is \"how do I make <em>my<...     6655  "
      ]
     },
     "execution_count": 27,
     "metadata": {},
     "output_type": "execute_result"
    }
   ],
   "source": [
    "# add clusters to question data\n",
    "bc = pd.concat([sample, df_cls.set_index('Pos')], axis=1)\n",
    "bc.head()"
   ]
  },
  {
   "cell_type": "code",
   "execution_count": 65,
   "metadata": {
    "_cell_guid": "777e9ddf-648c-6e5b-7cc3-46607489ea84",
    "_uuid": "45f11a2011f75298431323275dd23bc05d7ee6ff"
   },
   "outputs": [],
   "source": [
    "# calculate cluster stats\n",
    "stats = bc.groupby('Cluster')['Score'].describe().unstack()"
   ]
  },
  {
   "cell_type": "code",
   "execution_count": 56,
   "metadata": {
    "_cell_guid": "9bc0ef2b-abe4-3d91-337e-ddae9aaef2dc",
    "_uuid": "c113c96fa68cc9eb1008c2b2434cb7f46a779690"
   },
   "outputs": [
    {
     "ename": "ValueError",
     "evalue": "No axis named count for object type <class 'pandas.core.series.Series'>",
     "output_type": "error",
     "traceback": [
      "\u001b[0;31m---------------------------------------------------------------------------\u001b[0m",
      "\u001b[0;31mValueError\u001b[0m                                Traceback (most recent call last)",
      "\u001b[0;32m<ipython-input-56-2c646d9f2f65>\u001b[0m in \u001b[0;36m<module>\u001b[0;34m()\u001b[0m\n\u001b[0;32m----> 1\u001b[0;31m \u001b[0mstats\u001b[0m\u001b[0;34m.\u001b[0m\u001b[0msort_values\u001b[0m\u001b[0;34m(\u001b[0m\u001b[0;34m'count'\u001b[0m\u001b[0;34m,\u001b[0m \u001b[0mascending\u001b[0m\u001b[0;34m=\u001b[0m\u001b[0;32mFalse\u001b[0m\u001b[0;34m)\u001b[0m\u001b[0;34m.\u001b[0m\u001b[0mhead\u001b[0m\u001b[0;34m(\u001b[0m\u001b[0;36m10\u001b[0m\u001b[0;34m)\u001b[0m\u001b[0;34m\u001b[0m\u001b[0m\n\u001b[0m",
      "\u001b[0;32m~/.virtualenvs/cca-project/lib/python3.6/site-packages/pandas/core/series.py\u001b[0m in \u001b[0;36msort_values\u001b[0;34m(self, axis, ascending, inplace, kind, na_position)\u001b[0m\n\u001b[1;32m   1877\u001b[0m \u001b[0;34m\u001b[0m\u001b[0m\n\u001b[1;32m   1878\u001b[0m         \u001b[0minplace\u001b[0m \u001b[0;34m=\u001b[0m \u001b[0mvalidate_bool_kwarg\u001b[0m\u001b[0;34m(\u001b[0m\u001b[0minplace\u001b[0m\u001b[0;34m,\u001b[0m \u001b[0;34m'inplace'\u001b[0m\u001b[0;34m)\u001b[0m\u001b[0;34m\u001b[0m\u001b[0m\n\u001b[0;32m-> 1879\u001b[0;31m         \u001b[0maxis\u001b[0m \u001b[0;34m=\u001b[0m \u001b[0mself\u001b[0m\u001b[0;34m.\u001b[0m\u001b[0m_get_axis_number\u001b[0m\u001b[0;34m(\u001b[0m\u001b[0maxis\u001b[0m\u001b[0;34m)\u001b[0m\u001b[0;34m\u001b[0m\u001b[0m\n\u001b[0m\u001b[1;32m   1880\u001b[0m \u001b[0;34m\u001b[0m\u001b[0m\n\u001b[1;32m   1881\u001b[0m         \u001b[0;31m# GH 5856/5853\u001b[0m\u001b[0;34m\u001b[0m\u001b[0;34m\u001b[0m\u001b[0m\n",
      "\u001b[0;32m~/.virtualenvs/cca-project/lib/python3.6/site-packages/pandas/core/generic.py\u001b[0m in \u001b[0;36m_get_axis_number\u001b[0;34m(self, axis)\u001b[0m\n\u001b[1;32m    355\u001b[0m                 \u001b[0;32mpass\u001b[0m\u001b[0;34m\u001b[0m\u001b[0m\n\u001b[1;32m    356\u001b[0m         raise ValueError('No axis named {0} for object type {1}'\n\u001b[0;32m--> 357\u001b[0;31m                          .format(axis, type(self)))\n\u001b[0m\u001b[1;32m    358\u001b[0m \u001b[0;34m\u001b[0m\u001b[0m\n\u001b[1;32m    359\u001b[0m     \u001b[0;32mdef\u001b[0m \u001b[0m_get_axis_name\u001b[0m\u001b[0;34m(\u001b[0m\u001b[0mself\u001b[0m\u001b[0;34m,\u001b[0m \u001b[0maxis\u001b[0m\u001b[0;34m)\u001b[0m\u001b[0;34m:\u001b[0m\u001b[0;34m\u001b[0m\u001b[0m\n",
      "\u001b[0;31mValueError\u001b[0m: No axis named count for object type <class 'pandas.core.series.Series'>"
     ]
    }
   ],
   "source": [
    "stats.sort_values('count', ascending=False).head(10)"
   ]
  },
  {
   "cell_type": "code",
   "execution_count": null,
   "metadata": {
    "_cell_guid": "e4f202ad-aa79-914b-98fb-e8b2719ba0c0",
    "_uuid": "738cec1c38b12772c32779d7ae0e17c9225370ee"
   },
   "outputs": [],
   "source": [
    "plt.figure(figsize=(12, 8))\n",
    "plt.hlines([0], xmin=0, xmax=np.max(stats['count']) + 5, alpha=0.5)\n",
    "plt.vlines([1], ymin=0, ymax=np.max(stats['mean']) + 50, alpha=0.5)\n",
    "plt.scatter(stats['count'], stats['mean'], alpha=0.3)\n",
    "plt.title(\"cluster mean score vs cluster size\")\n",
    "plt.xlabel(\"cluster size\")\n",
    "plt.ylabel(\"mean score\")\n",
    "plt.show()"
   ]
  },
  {
   "cell_type": "markdown",
   "metadata": {
    "_cell_guid": "5c762587-d933-2be2-5c81-7943347d9e27",
    "_uuid": "09f0d5000b9d8e66dc733a54a19b3db270756796"
   },
   "source": [
    "### Check if clusters make sense"
   ]
  },
  {
   "cell_type": "code",
   "execution_count": null,
   "metadata": {
    "_cell_guid": "e8c6f75e-1337-1d87-337f-cb2ec17e69b7",
    "_uuid": "e886a1dad0fc933ab87f55c41e2c7c364bd33118"
   },
   "outputs": [],
   "source": [
    "bc.loc[bc['Cluster'] == cnts.index[0]][['Score', 'Title', 'Body']]"
   ]
  },
  {
   "cell_type": "code",
   "execution_count": null,
   "metadata": {
    "_cell_guid": "3a868a0e-88e8-33d5-ba7c-336516a87364",
    "_uuid": "53df2b73d71949e826cb215ff0407b878de40df8"
   },
   "outputs": [],
   "source": [
    "bc.loc[bc['Cluster'] == cnts.index[1]][['Score', 'Title', 'Body']]"
   ]
  },
  {
   "cell_type": "code",
   "execution_count": null,
   "metadata": {
    "_cell_guid": "b4cdab38-6cd8-d4bc-ca30-63de7f74e29f",
    "_uuid": "790757bbec7fc6db4d97c2fba27df01fee04743c"
   },
   "outputs": [],
   "source": [
    "bc.loc[bc['Cluster'] == cnts.index[2]][['Score', 'Title', 'Body']]"
   ]
  },
  {
   "cell_type": "markdown",
   "metadata": {
    "_cell_guid": "5187ea92-68d2-f747-e9c1-bd16953f4c4e",
    "_uuid": "9b60e46295e09645ea1824f394bd42dd61c8409c"
   },
   "source": [
    "We can improve our clusters by increasing sample size, using entire dataset to calculate tf-idf, adjusting cluster splitting criterion, using non-exclusive clustering techniques etc.\n",
    "\n",
    "Next steps:\n",
    "\n",
    " 1. Use clusters and most significant words in questions to generate question tags automatically\n",
    " 2. Use an autoencoder to perform semantical hashing for better estimates of question relatedness"
   ]
  }
 ],
 "metadata": {
  "_change_revision": 0,
  "_is_fork": false,
  "kernelspec": {
   "display_name": "Python 3",
   "language": "python",
   "name": "python3"
  },
  "language_info": {
   "codemirror_mode": {
    "name": "ipython",
    "version": 3
   },
   "file_extension": ".py",
   "mimetype": "text/x-python",
   "name": "python",
   "nbconvert_exporter": "python",
   "pygments_lexer": "ipython3",
   "version": "3.6.4"
  }
 },
 "nbformat": 4,
 "nbformat_minor": 1
}
