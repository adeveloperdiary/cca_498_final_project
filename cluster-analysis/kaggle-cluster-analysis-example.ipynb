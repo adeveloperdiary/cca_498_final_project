{
 "cells": [
  {
   "cell_type": "markdown",
   "metadata": {
    "_cell_guid": "527f8013-12fd-1810-0fb3-b9786b824131",
    "_uuid": "2792814b9c0532dad4f09085f4ccd65ff3745a7a"
   },
   "source": [
    "Use LSA to identify related questions"
   ]
  },
  {
   "cell_type": "code",
   "execution_count": 1,
   "metadata": {
    "_cell_guid": "7475d44f-5f80-f377-a244-f893f525f36e",
    "_uuid": "24e5b69cde4fb7bb219e4c3b563fb6f86d569704"
   },
   "outputs": [],
   "source": [
    "import numpy as np\n",
    "import pandas as pd\n",
    "import matplotlib.pyplot as plt\n",
    "%matplotlib inline\n",
    "import nltk\n",
    "from multiprocessing import Pool\n",
    "from nltk.tokenize import word_tokenize\n",
    "from nltk.corpus import stopwords\n",
    "from nltk.stem import WordNetLemmatizer\n",
    "from sklearn.feature_extraction.text import TfidfVectorizer, CountVectorizer\n",
    "import re\n",
    "from itertools import chain\n",
    "from collections import Counter\n",
    "import pickle\n",
    "import scipy.io as scio\n",
    "from sklearn.decomposition import TruncatedSVD\n",
    "import scipy.spatial.distance as distance\n",
    "import scipy.cluster.hierarchy as hierarchy\n",
    "from scipy.stats import pearsonr"
   ]
  },
  {
   "cell_type": "markdown",
   "metadata": {
    "_cell_guid": "98803c67-0c76-723c-2b88-1671625f3564",
    "_uuid": "1303bbda6e24f2fa53eacdf8e52bf59835becb0e"
   },
   "source": []
  },
  {
   "cell_type": "code",
   "execution_count": 2,
   "metadata": {
    "_cell_guid": "bc53c232-7d90-b512-68e2-b252020d0c39",
    "_uuid": "c294eafbaa37ef73563aeb5b957e0fa819d3359f"
   },
   "outputs": [],
   "source": [
    "dat = pd.read_csv(\"../raw_data/raw/Questions.csv\", encoding='latin1')\n",
    "dat['Title'].fillna(\"None\", inplace=True)\n",
    "dat['Score'].fillna(0, inplace=True)"
   ]
  },
  {
   "cell_type": "markdown",
   "metadata": {
    "_cell_guid": "8efb7f69-23ae-129f-dbf0-82d01e8fc915",
    "_uuid": "9496e062b37aba5db14778843ec9f761214d4f43"
   },
   "source": []
  },
  {
   "cell_type": "code",
   "execution_count": 3,
   "metadata": {
    "_cell_guid": "3d94a6c6-e705-2b34-2bc3-170a9913f433",
    "_uuid": "3c739094714b7a96b683df0d473dccd56467c4fc"
   },
   "outputs": [
    {
     "data": {
      "text/html": [
       "<div>\n",
       "<style scoped>\n",
       "    .dataframe tbody tr th:only-of-type {\n",
       "        vertical-align: middle;\n",
       "    }\n",
       "\n",
       "    .dataframe tbody tr th {\n",
       "        vertical-align: top;\n",
       "    }\n",
       "\n",
       "    .dataframe thead th {\n",
       "        text-align: right;\n",
       "    }\n",
       "</style>\n",
       "<table border=\"1\" class=\"dataframe\">\n",
       "  <thead>\n",
       "    <tr style=\"text-align: right;\">\n",
       "      <th></th>\n",
       "      <th>Id</th>\n",
       "      <th>OwnerUserId</th>\n",
       "      <th>CreationDate</th>\n",
       "      <th>Score</th>\n",
       "      <th>Title</th>\n",
       "      <th>Body</th>\n",
       "    </tr>\n",
       "  </thead>\n",
       "  <tbody>\n",
       "    <tr>\n",
       "      <th>0</th>\n",
       "      <td>469</td>\n",
       "      <td>147.0</td>\n",
       "      <td>2008-08-02T15:11:16Z</td>\n",
       "      <td>21</td>\n",
       "      <td>How can I find the full path to a font from it...</td>\n",
       "      <td>&lt;p&gt;I am using the Photoshop's javascript API t...</td>\n",
       "    </tr>\n",
       "    <tr>\n",
       "      <th>1</th>\n",
       "      <td>502</td>\n",
       "      <td>147.0</td>\n",
       "      <td>2008-08-02T17:01:58Z</td>\n",
       "      <td>27</td>\n",
       "      <td>Get a preview JPEG of a PDF on Windows?</td>\n",
       "      <td>&lt;p&gt;I have a cross-platform (Python) applicatio...</td>\n",
       "    </tr>\n",
       "    <tr>\n",
       "      <th>2</th>\n",
       "      <td>535</td>\n",
       "      <td>154.0</td>\n",
       "      <td>2008-08-02T18:43:54Z</td>\n",
       "      <td>40</td>\n",
       "      <td>Continuous Integration System for a Python Cod...</td>\n",
       "      <td>&lt;p&gt;I'm starting work on a hobby project with a...</td>\n",
       "    </tr>\n",
       "    <tr>\n",
       "      <th>3</th>\n",
       "      <td>594</td>\n",
       "      <td>116.0</td>\n",
       "      <td>2008-08-03T01:15:08Z</td>\n",
       "      <td>25</td>\n",
       "      <td>cx_Oracle: How do I iterate over a result set?</td>\n",
       "      <td>&lt;p&gt;There are several ways to iterate over a re...</td>\n",
       "    </tr>\n",
       "    <tr>\n",
       "      <th>4</th>\n",
       "      <td>683</td>\n",
       "      <td>199.0</td>\n",
       "      <td>2008-08-03T13:19:16Z</td>\n",
       "      <td>28</td>\n",
       "      <td>Using 'in' to match an attribute of Python obj...</td>\n",
       "      <td>&lt;p&gt;I don't remember whether I was dreaming or ...</td>\n",
       "    </tr>\n",
       "  </tbody>\n",
       "</table>\n",
       "</div>"
      ],
      "text/plain": [
       "    Id  OwnerUserId          CreationDate  Score  \\\n",
       "0  469        147.0  2008-08-02T15:11:16Z     21   \n",
       "1  502        147.0  2008-08-02T17:01:58Z     27   \n",
       "2  535        154.0  2008-08-02T18:43:54Z     40   \n",
       "3  594        116.0  2008-08-03T01:15:08Z     25   \n",
       "4  683        199.0  2008-08-03T13:19:16Z     28   \n",
       "\n",
       "                                               Title  \\\n",
       "0  How can I find the full path to a font from it...   \n",
       "1            Get a preview JPEG of a PDF on Windows?   \n",
       "2  Continuous Integration System for a Python Cod...   \n",
       "3     cx_Oracle: How do I iterate over a result set?   \n",
       "4  Using 'in' to match an attribute of Python obj...   \n",
       "\n",
       "                                                Body  \n",
       "0  <p>I am using the Photoshop's javascript API t...  \n",
       "1  <p>I have a cross-platform (Python) applicatio...  \n",
       "2  <p>I'm starting work on a hobby project with a...  \n",
       "3  <p>There are several ways to iterate over a re...  \n",
       "4  <p>I don't remember whether I was dreaming or ...  "
      ]
     },
     "execution_count": 3,
     "metadata": {},
     "output_type": "execute_result"
    }
   ],
   "source": [
    "dat.head()"
   ]
  },
  {
   "cell_type": "code",
   "execution_count": 4,
   "metadata": {
    "_cell_guid": "44c5675a-af0c-c90b-27e1-cca6724378a4",
    "_uuid": "8a304c2f3664d3d391a277ade3f52ee3d6a53fee"
   },
   "outputs": [
    {
     "data": {
      "text/plain": [
       "(10000, 6)"
      ]
     },
     "execution_count": 4,
     "metadata": {},
     "output_type": "execute_result"
    }
   ],
   "source": [
    "# select a sample - results will improve without sampling in tf-idf caluculations, but due to\n",
    "# Kaggle kernel memory limit we have to make a compromise here.\n",
    "selected_ids = np.random.choice(range(dat.shape[0]), 10000, replace=False)\n",
    "sample = dat.loc[selected_ids, :]\n",
    "sample.shape"
   ]
  },
  {
   "cell_type": "markdown",
   "metadata": {
    "_cell_guid": "3c04453b-3a7d-22b9-0506-eaf3825caae3",
    "_uuid": "d966ae0d6d6719d08a58753fbed288286bdb3387"
   },
   "source": []
  },
  {
   "cell_type": "code",
   "execution_count": 5,
   "metadata": {
    "_cell_guid": "2cd93cf7-f747-2d5e-288e-bfa95015e310",
    "_uuid": "8d0336144952c3c490c5a0e5ad4a601ff363d016"
   },
   "outputs": [],
   "source": [
    "def purify_string(html):\n",
    "    return re.sub('(\\r\\n)+|\\r+|\\n+', \" \", re.sub('<[^<]+?>', '', html))"
   ]
  },
  {
   "cell_type": "code",
   "execution_count": 6,
   "metadata": {
    "_cell_guid": "b8d5dc1d-542d-e727-35c0-02644611bf16",
    "_uuid": "456c8cac5d59d9c7f2eba3d8edfd8a52c28556f6"
   },
   "outputs": [],
   "source": [
    "corpus = sample.loc[:, 'Body'].apply(purify_string)"
   ]
  },
  {
   "cell_type": "code",
   "execution_count": 7,
   "metadata": {
    "_cell_guid": "8d993582-63f1-ebf8-963f-c7f006578fcc",
    "_uuid": "6b3ac8f944031606fe0666d7aba7f9361af86b36"
   },
   "outputs": [],
   "source": [
    "def combine_title_body(tnb):\n",
    "    return tnb[0] + \" \" + tnb[1]"
   ]
  },
  {
   "cell_type": "code",
   "execution_count": 8,
   "metadata": {
    "_cell_guid": "9cb4859e-eed7-c7fd-e29c-edbef8d897ee",
    "_uuid": "c08a49f23da13d97a26969c122fa49a7dd03cf59"
   },
   "outputs": [],
   "source": [
    "p = Pool(8)\n",
    "combined_corpus = p.map(combine_title_body, zip(dat['Title'], corpus))\n",
    "p.close()"
   ]
  },
  {
   "cell_type": "code",
   "execution_count": 9,
   "metadata": {
    "_cell_guid": "bc632662-b7c2-eed4-9e12-aad1c3321c38",
    "_uuid": "81d7310068ff4a8f4ecd354bdcec39572e8ec206"
   },
   "outputs": [
    {
     "data": {
      "text/plain": [
       "['How can I find the full path to a font from its display name on a Mac? I started learning Python to use networkx. I am trying to build a hierarchy rooted at some node (node 0), and I want the colors to change according to distance (in hops) from that node. I have written the following code, but I don\\'t know why the colors are not changing!! can you please point out the problem? import networkx as nx import matplotlib.pyplot as plt import matplotlib.cm as cmx import random # initial values of rings in nodes MAX_RING = 1000 class Node:     count = int(0)     tx_range = 3     def __init__(self, i):         Node.count+= 1         self.id = int(i)         self.ring = int(MAX_RING)         self.x_pos = int()         self.y_pos = int()         self.parent_list = list()         self.nbr_list = list()         self.color = float()     def addNbr(self, nbr):         self.nbr_list.append(nbr) def createNodes(Nodes, pos, labels):     for i in range(num_of_nodes):         Nodes.append(Node(i))         Nodes[i].x_pos = random.randrange(net_width)         Nodes[i].y_pos = random.randrange(net_hieght)         pos[i] = (Nodes[i].x_pos, Nodes[i].y_pos)         labels[i] = i def createEdges(Graph, Nodes, Edges):     for i in range(num_of_nodes):         for j in range(i + 1, num_of_nodes):             dist = ((Nodes[i].x_pos - Nodes[j].x_pos)**2 + (Nodes[i].y_pos - Nodes[j].y_pos)**2) ** 0.5             if dist &lt;= Node.tx_range:                 Graph.add_edge(i, j)                 #Graph.add_edge(j, i)                 Edges.append((i , j))                 Nodes[i].addNbr(Nodes[j])                 Nodes[j].addNbr(Nodes[i])                 print(\"Edge added\") def createRings(G, Nodes, colors, VisEdges):     # Base station is node 0 and has ring 0     # find all nodes in current ring and check their neighbors to create the next ring     # next ring becomes current ring and repeat from previous step     current_ring = 0     current_node = Nodes[0]     current_node.ring = current_ring     # temporary set to travers all nodes initially contains the BS     N = [Nodes[0]]     while len(N) &gt; 0:         node = N.pop(0)         for nbr in node.nbr_list:             # for each node check if it has a neighbor with ring less than MAX_RING             if nbr.ring &gt; node.ring + 1:                 if(nbr.ring != MAX_RING):                     print(\\'CHANGING PARENT\\')                 nbr.ring = node.ring + 1                 nbr.color = nbr.ring                 N.append(nbr)                 VisEdges.append((node.id, nbr.id))     for node in Nodes:         colors.insert(node.id, node.color) def main():     Nodes = list()     Edges = list()     VisEdges = list()     pos = dict()     labels = {}     colors = []     G = nx.Graph()     createNodes(Nodes, pos, labels)     G.add_nodes_from(pos.keys())     createEdges(G, Nodes, Edges)     for n, p in pos.items():         G.node[n][\\'pos\\'] = p     createRings(G, Nodes, colors, VisEdges)     colors[0] = 1     for node in Nodes:         print(\\'Node[\\',node.id,\\'] ring is \\', node.ring, \\'color is\\', colors[node.id])     nx.draw(G,pos, edgelist=VisEdges, nodelist=pos.keys() , node_colors=colors, cmap=cmx.get_cmap(\\'Reds\\'),             vmin=0, vmax=max(colors))     nx.draw_networkx_labels(G,pos,labels,font_size=10)     plt.show() num_of_nodes = 100 net_width = 15 net_hieght = 15 main() ',\n",
       " \"Get a preview JPEG of a PDF on Windows? I have a shapefile for each US state and I would like to add all shapefiles together which I do using Basemap and readshapefile and so on. Now my problem is that Alaska is huge and doesn't fit into the map. I would like to add Alaska extra in the west of Texas (left bottom corner) which is the normal approach to solve this problem. Therefore I manipulated the shapefile of Alaska to move the shape using this code: for t in range(len(shape)):             l = list(shape[t])             l[1] -= 4000000             l[0] += 1000000             tup = tuple(l)             shape[t] = tup Well as I mentioned Alaska is huge so is there any easy way to resize the shapefile? Thanks for your ideas! Edit: Some additional information: I am using the whole thing to visualize the Census 2013 data. My current output looks like this: https://goo.gl/photos/RKMGcmw7ig7MNHv56 Projection: Albers Equal Areas \"]"
      ]
     },
     "execution_count": 9,
     "metadata": {},
     "output_type": "execute_result"
    }
   ],
   "source": [
    "combined_corpus[:2]"
   ]
  },
  {
   "cell_type": "markdown",
   "metadata": {
    "_cell_guid": "23532fbf-508e-be9f-ed49-2d85d08fa7fc",
    "_uuid": "a4c3f0da87ff636921b322a6be32d23e6fdcc13b"
   },
   "source": []
  },
  {
   "cell_type": "code",
   "execution_count": 10,
   "metadata": {
    "_cell_guid": "ecbb0904-c13c-846b-eedb-0db264a1e163",
    "_uuid": "f616a13839a932ddb755adb429a2e6695a26c554"
   },
   "outputs": [],
   "source": [
    "lem = WordNetLemmatizer()\n",
    "def cond_tokenize(t):\n",
    "    if t is None:\n",
    "        return []\n",
    "    else:\n",
    "        return [lem.lemmatize(w.lower()) for w in word_tokenize(t)]\n",
    "\n",
    "p = Pool(8)\n",
    "tokens = list(p.imap(cond_tokenize, combined_corpus))\n",
    "p.close()"
   ]
  },
  {
   "cell_type": "markdown",
   "metadata": {
    "_cell_guid": "bb0ff317-a30b-9492-ad81-4e2050814ba8",
    "_uuid": "c5c8fd32b2d9f01789a7f0119fc4b16a90bf8694"
   },
   "source": []
  },
  {
   "cell_type": "code",
   "execution_count": 11,
   "metadata": {
    "_cell_guid": "a34eccce-f045-bdc5-62fc-8f46f3178837",
    "_uuid": "064185fb8e683c7d0f45259c36add11ab909271e"
   },
   "outputs": [],
   "source": [
    "# stops = stopwords.words('english')\n",
    "pure_tokens = [\" \".join(sent) for sent in tokens]"
   ]
  },
  {
   "cell_type": "markdown",
   "metadata": {
    "_cell_guid": "09442586-b7e0-1932-5a09-38cbfddaaab3",
    "_uuid": "4ac60cc2e93ce99aad25f1666e8d7e35dea20ce8"
   },
   "source": []
  },
  {
   "cell_type": "code",
   "execution_count": 12,
   "metadata": {
    "_cell_guid": "2c958ef8-b773-a294-a93c-7270a3aad586",
    "_uuid": "cf288bdf77208a6b2258f14ed202f872d90632f5"
   },
   "outputs": [],
   "source": [
    "vectorizer = TfidfVectorizer(min_df=1, max_features=2000, stop_words='english', ngram_range=[1, 1], sublinear_tf=True)\n",
    "tfidf = vectorizer.fit_transform(pure_tokens)"
   ]
  },
  {
   "cell_type": "markdown",
   "metadata": {
    "_cell_guid": "0c68e869-4b3e-54a0-c4da-894733d0e623",
    "_uuid": "9d77d2673c2df1dbd470491cd49239d75761e779"
   },
   "source": []
  },
  {
   "cell_type": "code",
   "execution_count": 13,
   "metadata": {
    "_cell_guid": "44bc1be1-05c9-dd10-171d-a9ceb56cf2d6",
    "_uuid": "4fec50e0b1714e3c52e701ba94a934c381a2839d"
   },
   "outputs": [
    {
     "data": {
      "text/html": [
       "<div>\n",
       "<style scoped>\n",
       "    .dataframe tbody tr th:only-of-type {\n",
       "        vertical-align: middle;\n",
       "    }\n",
       "\n",
       "    .dataframe tbody tr th {\n",
       "        vertical-align: top;\n",
       "    }\n",
       "\n",
       "    .dataframe thead th {\n",
       "        text-align: right;\n",
       "    }\n",
       "</style>\n",
       "<table border=\"1\" class=\"dataframe\">\n",
       "  <thead>\n",
       "    <tr style=\"text-align: right;\">\n",
       "      <th></th>\n",
       "      <th>id</th>\n",
       "      <th>word</th>\n",
       "      <th>idf</th>\n",
       "    </tr>\n",
       "  </thead>\n",
       "  <tbody>\n",
       "    <tr>\n",
       "      <th>6</th>\n",
       "      <td>1421</td>\n",
       "      <td>python</td>\n",
       "      <td>1.282198</td>\n",
       "    </tr>\n",
       "    <tr>\n",
       "      <th>82</th>\n",
       "      <td>1887</td>\n",
       "      <td>using</td>\n",
       "      <td>1.924927</td>\n",
       "    </tr>\n",
       "    <tr>\n",
       "      <th>18</th>\n",
       "      <td>412</td>\n",
       "      <td>code</td>\n",
       "      <td>1.952795</td>\n",
       "    </tr>\n",
       "    <tr>\n",
       "      <th>80</th>\n",
       "      <td>1049</td>\n",
       "      <td>like</td>\n",
       "      <td>2.018977</td>\n",
       "    </tr>\n",
       "    <tr>\n",
       "      <th>141</th>\n",
       "      <td>761</td>\n",
       "      <td>file</td>\n",
       "      <td>2.030400</td>\n",
       "    </tr>\n",
       "    <tr>\n",
       "      <th>23</th>\n",
       "      <td>932</td>\n",
       "      <td>import</td>\n",
       "      <td>2.169993</td>\n",
       "    </tr>\n",
       "    <tr>\n",
       "      <th>49</th>\n",
       "      <td>1371</td>\n",
       "      <td>print</td>\n",
       "      <td>2.253263</td>\n",
       "    </tr>\n",
       "    <tr>\n",
       "      <th>11</th>\n",
       "      <td>1930</td>\n",
       "      <td>want</td>\n",
       "      <td>2.262408</td>\n",
       "    </tr>\n",
       "    <tr>\n",
       "      <th>96</th>\n",
       "      <td>1933</td>\n",
       "      <td>way</td>\n",
       "      <td>2.269501</td>\n",
       "    </tr>\n",
       "    <tr>\n",
       "      <th>35</th>\n",
       "      <td>550</td>\n",
       "      <td>def</td>\n",
       "      <td>2.298750</td>\n",
       "    </tr>\n",
       "  </tbody>\n",
       "</table>\n",
       "</div>"
      ],
      "text/plain": [
       "       id    word       idf\n",
       "6    1421  python  1.282198\n",
       "82   1887   using  1.924927\n",
       "18    412    code  1.952795\n",
       "80   1049    like  2.018977\n",
       "141   761    file  2.030400\n",
       "23    932  import  2.169993\n",
       "49   1371   print  2.253263\n",
       "11   1930    want  2.262408\n",
       "96   1933     way  2.269501\n",
       "35    550     def  2.298750"
      ]
     },
     "execution_count": 13,
     "metadata": {},
     "output_type": "execute_result"
    }
   ],
   "source": [
    "idfs = pd.DataFrame([[v, k] for k, v in vectorizer.vocabulary_.items()], columns=['id', 'word']).sort_values('id')\n",
    "idfs['idf'] = vectorizer.idf_\n",
    "idfs.sort_values('idf').head(10)"
   ]
  },
  {
   "cell_type": "markdown",
   "metadata": {
    "_cell_guid": "2ef01b61-878b-ad4b-e73a-898be872398f",
    "_uuid": "f20253c80be5d678159badde061e9dbba9d81430"
   },
   "source": [
    "### Compress using SVD"
   ]
  },
  {
   "cell_type": "code",
   "execution_count": 68,
   "metadata": {
    "_cell_guid": "e4891e6b-f2a9-5e26-cd26-11fbdeda2efb",
    "_uuid": "f8e1fd47df6ca093775fecd2c69e887c33c3e4e0"
   },
   "outputs": [],
   "source": [
    "tsvd = TruncatedSVD(n_components=500)\n",
    "transformed = tsvd.fit_transform(tfidf)"
   ]
  },
  {
   "cell_type": "code",
   "execution_count": 44,
   "metadata": {
    "_cell_guid": "1ed499c0-49a1-70b2-42bc-a725b211e41e",
    "_uuid": "00250ea77efad463f03492054b98e5cac7680d26"
   },
   "outputs": [
    {
     "data": {
      "text/plain": [
       "0.25148281688005686"
      ]
     },
     "execution_count": 44,
     "metadata": {},
     "output_type": "execute_result"
    }
   ],
   "source": [
    "np.sum(tsvd.explained_variance_ratio_)"
   ]
  },
  {
   "cell_type": "code",
   "execution_count": 45,
   "metadata": {
    "_cell_guid": "2c447624-1c1a-c23a-298d-95c51afcf2c9",
    "_uuid": "626d97277ef9372c5ab60f1f6dd542847c04715c"
   },
   "outputs": [
    {
     "data": {
      "text/plain": [
       "(10000, 100)"
      ]
     },
     "execution_count": 45,
     "metadata": {},
     "output_type": "execute_result"
    }
   ],
   "source": [
    "transformed.shape"
   ]
  },
  {
   "cell_type": "markdown",
   "metadata": {
    "_cell_guid": "e7973e1a-fecb-4e0e-9b39-c74cd50d6aeb",
    "_uuid": "a9cb4278547b304c452fbae8f5820001923959a8"
   },
   "source": []
  },
  {
   "cell_type": "code",
   "execution_count": 46,
   "metadata": {
    "_cell_guid": "c1b4fa41-d954-b6ce-1066-710bbd4bf358",
    "_uuid": "a8a3a14ea24352d65c62f1e21798749b1186b074"
   },
   "outputs": [],
   "source": [
    "# calculate pairwise cosine distance\n",
    "D = distance.pdist(transformed, 'cosine')"
   ]
  },
  {
   "cell_type": "code",
   "execution_count": 47,
   "metadata": {
    "_cell_guid": "80f03f54-ed8c-b6d1-1995-62814b56cba9",
    "_uuid": "932d0edfef636c7538e739a21c121fcf280ed01b"
   },
   "outputs": [],
   "source": [
    "# hierarchical clustering - tree calculation\n",
    "L = hierarchy.linkage(D)"
   ]
  },
  {
   "cell_type": "code",
   "execution_count": 48,
   "metadata": {
    "_cell_guid": "e3a593e8-4a4e-3cc5-610c-b21009173774",
    "_uuid": "46ca592bf3e035386f96ae084f2bae245cc85b73"
   },
   "outputs": [
    {
     "data": {
      "text/plain": [
       "0.8439343692922444"
      ]
     },
     "execution_count": 48,
     "metadata": {},
     "output_type": "execute_result"
    }
   ],
   "source": [
    "# mean distance between clusters\n",
    "np.mean(D)"
   ]
  },
  {
   "cell_type": "code",
   "execution_count": 60,
   "metadata": {
    "_cell_guid": "def97dcc-d535-95d9-90ca-18b6776de25d",
    "_uuid": "72f4816ca1d0ad0272bc6d5f9bad86c6c17ac3c3"
   },
   "outputs": [],
   "source": [
    "# split clusters by criterion. Here 0.71 is used as the inconsistency criterion. Adjust the\n",
    "# number to change cluster sizes\n",
    "cls = hierarchy.fcluster(L, 0.7, criterion='inconsistent')"
   ]
  },
  {
   "cell_type": "code",
   "execution_count": 61,
   "metadata": {
    "_cell_guid": "3ece1c02-6629-83b6-22c8-854b76a66f87",
    "_uuid": "efce61fdc36a7639fe7df620249e82729140b01e"
   },
   "outputs": [
    {
     "data": {
      "text/plain": [
       "Cluster\n",
       "911     4\n",
       "3621    4\n",
       "824     4\n",
       "1555    4\n",
       "731     4\n",
       "dtype: int64"
      ]
     },
     "execution_count": 61,
     "metadata": {},
     "output_type": "execute_result"
    }
   ],
   "source": [
    "df_cls = pd.DataFrame({'Pos': selected_ids, 'Cluster': cls})\n",
    "cnts = df_cls.groupby('Cluster').size().sort_values(ascending=False)\n",
    "cnts.sort_values(ascending=False).head()"
   ]
  },
  {
   "cell_type": "code",
   "execution_count": 62,
   "metadata": {
    "_cell_guid": "f63a37cb-f753-8127-734d-edb0570d464d",
    "_uuid": "abfdeb7cad4a19720cf539242ed97f757d203746"
   },
   "outputs": [
    {
     "data": {
      "text/html": [
       "<div>\n",
       "<style scoped>\n",
       "    .dataframe tbody tr th:only-of-type {\n",
       "        vertical-align: middle;\n",
       "    }\n",
       "\n",
       "    .dataframe tbody tr th {\n",
       "        vertical-align: top;\n",
       "    }\n",
       "\n",
       "    .dataframe thead th {\n",
       "        text-align: right;\n",
       "    }\n",
       "</style>\n",
       "<table border=\"1\" class=\"dataframe\">\n",
       "  <thead>\n",
       "    <tr style=\"text-align: right;\">\n",
       "      <th></th>\n",
       "      <th>Id</th>\n",
       "      <th>OwnerUserId</th>\n",
       "      <th>CreationDate</th>\n",
       "      <th>Score</th>\n",
       "      <th>Title</th>\n",
       "      <th>Body</th>\n",
       "      <th>Cluster</th>\n",
       "    </tr>\n",
       "    <tr>\n",
       "      <th>Pos</th>\n",
       "      <th></th>\n",
       "      <th></th>\n",
       "      <th></th>\n",
       "      <th></th>\n",
       "      <th></th>\n",
       "      <th></th>\n",
       "      <th></th>\n",
       "    </tr>\n",
       "  </thead>\n",
       "  <tbody>\n",
       "    <tr>\n",
       "      <th>522594</th>\n",
       "      <td>36580641</td>\n",
       "      <td>6194832.0</td>\n",
       "      <td>2016-04-12T17:52:58Z</td>\n",
       "      <td>2</td>\n",
       "      <td>Python networkx: node are not taking color list</td>\n",
       "      <td>&lt;p&gt;I started learning Python to use networkx. ...</td>\n",
       "      <td>5286</td>\n",
       "    </tr>\n",
       "    <tr>\n",
       "      <th>420761</th>\n",
       "      <td>31859171</td>\n",
       "      <td>2501747.0</td>\n",
       "      <td>2015-08-06T14:59:04Z</td>\n",
       "      <td>0</td>\n",
       "      <td>Resize shapefile</td>\n",
       "      <td>&lt;p&gt;I have a shapefile for each US state and I ...</td>\n",
       "      <td>8534</td>\n",
       "    </tr>\n",
       "    <tr>\n",
       "      <th>301699</th>\n",
       "      <td>25206316</td>\n",
       "      <td>3911452.0</td>\n",
       "      <td>2014-08-08T14:54:52Z</td>\n",
       "      <td>0</td>\n",
       "      <td>Variable area threshold for identifying object...</td>\n",
       "      <td>&lt;p&gt;I have an array which contains information ...</td>\n",
       "      <td>3584</td>\n",
       "    </tr>\n",
       "    <tr>\n",
       "      <th>262799</th>\n",
       "      <td>22781227</td>\n",
       "      <td>3224522.0</td>\n",
       "      <td>2014-04-01T09:01:50Z</td>\n",
       "      <td>0</td>\n",
       "      <td>Finding full lengths</td>\n",
       "      <td>&lt;p&gt;I have an input file like this&lt;/p&gt;\\n\\n&lt;pre&gt;...</td>\n",
       "      <td>1272</td>\n",
       "    </tr>\n",
       "    <tr>\n",
       "      <th>63432</th>\n",
       "      <td>6866707</td>\n",
       "      <td>868432.0</td>\n",
       "      <td>2011-07-28T22:50:10Z</td>\n",
       "      <td>0</td>\n",
       "      <td>Tkinter Class \"must be str not tuple\" TypeErro...</td>\n",
       "      <td>&lt;p&gt;I'm getting a problem with Tkinter for pyth...</td>\n",
       "      <td>3748</td>\n",
       "    </tr>\n",
       "  </tbody>\n",
       "</table>\n",
       "</div>"
      ],
      "text/plain": [
       "              Id  OwnerUserId          CreationDate  Score  \\\n",
       "Pos                                                          \n",
       "522594  36580641    6194832.0  2016-04-12T17:52:58Z      2   \n",
       "420761  31859171    2501747.0  2015-08-06T14:59:04Z      0   \n",
       "301699  25206316    3911452.0  2014-08-08T14:54:52Z      0   \n",
       "262799  22781227    3224522.0  2014-04-01T09:01:50Z      0   \n",
       "63432    6866707     868432.0  2011-07-28T22:50:10Z      0   \n",
       "\n",
       "                                                    Title  \\\n",
       "Pos                                                         \n",
       "522594    Python networkx: node are not taking color list   \n",
       "420761                                   Resize shapefile   \n",
       "301699  Variable area threshold for identifying object...   \n",
       "262799                               Finding full lengths   \n",
       "63432   Tkinter Class \"must be str not tuple\" TypeErro...   \n",
       "\n",
       "                                                     Body  Cluster  \n",
       "Pos                                                                 \n",
       "522594  <p>I started learning Python to use networkx. ...     5286  \n",
       "420761  <p>I have a shapefile for each US state and I ...     8534  \n",
       "301699  <p>I have an array which contains information ...     3584  \n",
       "262799  <p>I have an input file like this</p>\\n\\n<pre>...     1272  \n",
       "63432   <p>I'm getting a problem with Tkinter for pyth...     3748  "
      ]
     },
     "execution_count": 62,
     "metadata": {},
     "output_type": "execute_result"
    }
   ],
   "source": [
    "# add clusters to question data\n",
    "bc = pd.concat([sample, df_cls.set_index('Pos')], axis=1)\n",
    "bc.head()"
   ]
  },
  {
   "cell_type": "code",
   "execution_count": 63,
   "metadata": {
    "_cell_guid": "777e9ddf-648c-6e5b-7cc3-46607489ea84",
    "_uuid": "501e0ed1c19ebc25421f9a598ac5aebe5b9ddd55"
   },
   "outputs": [],
   "source": [
    "# calculate cluster stats\n",
    "stats = bc.groupby('Cluster')['Score'].describe().unstack()"
   ]
  },
  {
   "cell_type": "code",
   "execution_count": 64,
   "metadata": {
    "_cell_guid": "e4f202ad-aa79-914b-98fb-e8b2719ba0c0",
    "_uuid": "848fee1d8dc01c20e112a54fdeaca2dfd9756b87"
   },
   "outputs": [
    {
     "data": {
      "image/png": "[encoded data removed]",
      "text/plain": [
       "<Figure size 864x576 with 1 Axes>"
      ]
     },
     "metadata": {},
     "output_type": "display_data"
    }
   ],
   "source": [
    "plt.figure(figsize=(12, 8))\n",
    "plt.hlines([0], xmin=0, xmax=np.max(stats['count']) + 5, alpha=0.5)\n",
    "plt.vlines([1], ymin=0, ymax=np.max(stats['mean']) + 50, alpha=0.5)\n",
    "plt.scatter(stats['count'], stats['mean'], alpha=0.3)\n",
    "plt.title(\"cluster mean score vs cluster size\")\n",
    "plt.xlabel(\"cluster size\")\n",
    "plt.ylabel(\"mean score\")\n",
    "plt.show()"
   ]
  },
  {
   "cell_type": "markdown",
   "metadata": {
    "_cell_guid": "5c762587-d933-2be2-5c81-7943347d9e27",
    "_uuid": "c16de9e87bbc7ba626dfa39431a7140ee4163794"
   },
   "source": [
    "### Check if clusters make sense"
   ]
  },
  {
   "cell_type": "code",
   "execution_count": 65,
   "metadata": {
    "_cell_guid": "e8c6f75e-1337-1d87-337f-cb2ec17e69b7",
    "_uuid": "01fac034902986b0684899bc943c44eacb8ab6d7"
   },
   "outputs": [
    {
     "data": {
      "text/html": [
       "<div>\n",
       "<style scoped>\n",
       "    .dataframe tbody tr th:only-of-type {\n",
       "        vertical-align: middle;\n",
       "    }\n",
       "\n",
       "    .dataframe tbody tr th {\n",
       "        vertical-align: top;\n",
       "    }\n",
       "\n",
       "    .dataframe thead th {\n",
       "        text-align: right;\n",
       "    }\n",
       "</style>\n",
       "<table border=\"1\" class=\"dataframe\">\n",
       "  <thead>\n",
       "    <tr style=\"text-align: right;\">\n",
       "      <th></th>\n",
       "      <th>Score</th>\n",
       "      <th>Title</th>\n",
       "      <th>Body</th>\n",
       "    </tr>\n",
       "    <tr>\n",
       "      <th>Pos</th>\n",
       "      <th></th>\n",
       "      <th></th>\n",
       "      <th></th>\n",
       "    </tr>\n",
       "  </thead>\n",
       "  <tbody>\n",
       "    <tr>\n",
       "      <th>516378</th>\n",
       "      <td>0</td>\n",
       "      <td>Is it possible to query records from a nested ...</td>\n",
       "      <td>&lt;p&gt;I am trying to use blaze for querying data ...</td>\n",
       "    </tr>\n",
       "    <tr>\n",
       "      <th>348561</th>\n",
       "      <td>0</td>\n",
       "      <td>Select Specific Fields From JSON File - Python</td>\n",
       "      <td>&lt;p&gt;Im trying to compare two json files. One is...</td>\n",
       "    </tr>\n",
       "    <tr>\n",
       "      <th>563983</th>\n",
       "      <td>0</td>\n",
       "      <td>File Open Fails When W+ Argument Used</td>\n",
       "      <td>&lt;p&gt;I have...&lt;/p&gt;\\n\\n&lt;pre&gt;&lt;code&gt;datadir = os.pa...</td>\n",
       "    </tr>\n",
       "    <tr>\n",
       "      <th>273868</th>\n",
       "      <td>0</td>\n",
       "      <td>with Python, how can I save a json dumps as a ...</td>\n",
       "      <td>&lt;p&gt;Given the following example data :&lt;/p&gt;\\n\\n&lt;...</td>\n",
       "    </tr>\n",
       "  </tbody>\n",
       "</table>\n",
       "</div>"
      ],
      "text/plain": [
       "        Score                                              Title  \\\n",
       "Pos                                                                \n",
       "516378      0  Is it possible to query records from a nested ...   \n",
       "348561      0     Select Specific Fields From JSON File - Python   \n",
       "563983      0              File Open Fails When W+ Argument Used   \n",
       "273868      0  with Python, how can I save a json dumps as a ...   \n",
       "\n",
       "                                                     Body  \n",
       "Pos                                                        \n",
       "516378  <p>I am trying to use blaze for querying data ...  \n",
       "348561  <p>Im trying to compare two json files. One is...  \n",
       "563983  <p>I have...</p>\\n\\n<pre><code>datadir = os.pa...  \n",
       "273868  <p>Given the following example data :</p>\\n\\n<...  "
      ]
     },
     "execution_count": 65,
     "metadata": {},
     "output_type": "execute_result"
    }
   ],
   "source": [
    "bc.loc[bc['Cluster'] == cnts.index[0]][['Score', 'Title', 'Body']]"
   ]
  },
  {
   "cell_type": "code",
   "execution_count": 66,
   "metadata": {
    "_cell_guid": "3a868a0e-88e8-33d5-ba7c-336516a87364",
    "_uuid": "c5ced23681ec1c859160e56323d23773364a7687"
   },
   "outputs": [
    {
     "data": {
      "text/html": [
       "<div>\n",
       "<style scoped>\n",
       "    .dataframe tbody tr th:only-of-type {\n",
       "        vertical-align: middle;\n",
       "    }\n",
       "\n",
       "    .dataframe tbody tr th {\n",
       "        vertical-align: top;\n",
       "    }\n",
       "\n",
       "    .dataframe thead th {\n",
       "        text-align: right;\n",
       "    }\n",
       "</style>\n",
       "<table border=\"1\" class=\"dataframe\">\n",
       "  <thead>\n",
       "    <tr style=\"text-align: right;\">\n",
       "      <th></th>\n",
       "      <th>Score</th>\n",
       "      <th>Title</th>\n",
       "      <th>Body</th>\n",
       "    </tr>\n",
       "    <tr>\n",
       "      <th>Pos</th>\n",
       "      <th></th>\n",
       "      <th></th>\n",
       "      <th></th>\n",
       "    </tr>\n",
       "  </thead>\n",
       "  <tbody>\n",
       "    <tr>\n",
       "      <th>584705</th>\n",
       "      <td>1</td>\n",
       "      <td>Overlay two images without losing the intensit...</td>\n",
       "      <td>&lt;p&gt;How can i overlay two images without losing...</td>\n",
       "    </tr>\n",
       "    <tr>\n",
       "      <th>587751</th>\n",
       "      <td>0</td>\n",
       "      <td>Sharp edges after bluring part of image with cv2</td>\n",
       "      <td>&lt;p&gt;I'm using python and opencv to detect skin ...</td>\n",
       "    </tr>\n",
       "    <tr>\n",
       "      <th>533207</th>\n",
       "      <td>1</td>\n",
       "      <td>opencv motion tracker with identification</td>\n",
       "      <td>&lt;p&gt;Currently, the following script works perfe...</td>\n",
       "    </tr>\n",
       "    <tr>\n",
       "      <th>100755</th>\n",
       "      <td>4</td>\n",
       "      <td>Image resize using PIL changes colors drastically</td>\n",
       "      <td>&lt;p&gt;I am using the following code to resize an ...</td>\n",
       "    </tr>\n",
       "  </tbody>\n",
       "</table>\n",
       "</div>"
      ],
      "text/plain": [
       "        Score                                              Title  \\\n",
       "Pos                                                                \n",
       "584705      1  Overlay two images without losing the intensit...   \n",
       "587751      0   Sharp edges after bluring part of image with cv2   \n",
       "533207      1          opencv motion tracker with identification   \n",
       "100755      4  Image resize using PIL changes colors drastically   \n",
       "\n",
       "                                                     Body  \n",
       "Pos                                                        \n",
       "584705  <p>How can i overlay two images without losing...  \n",
       "587751  <p>I'm using python and opencv to detect skin ...  \n",
       "533207  <p>Currently, the following script works perfe...  \n",
       "100755  <p>I am using the following code to resize an ...  "
      ]
     },
     "execution_count": 66,
     "metadata": {},
     "output_type": "execute_result"
    }
   ],
   "source": [
    "bc.loc[bc['Cluster'] == cnts.index[1]][['Score', 'Title', 'Body']]"
   ]
  },
  {
   "cell_type": "code",
   "execution_count": 67,
   "metadata": {
    "_cell_guid": "b4cdab38-6cd8-d4bc-ca30-63de7f74e29f",
    "_uuid": "00f3299f8f6d8e0c4aaea9aaebfc09caaafaca1e"
   },
   "outputs": [
    {
     "data": {
      "text/html": [
       "<div>\n",
       "<style scoped>\n",
       "    .dataframe tbody tr th:only-of-type {\n",
       "        vertical-align: middle;\n",
       "    }\n",
       "\n",
       "    .dataframe tbody tr th {\n",
       "        vertical-align: top;\n",
       "    }\n",
       "\n",
       "    .dataframe thead th {\n",
       "        text-align: right;\n",
       "    }\n",
       "</style>\n",
       "<table border=\"1\" class=\"dataframe\">\n",
       "  <thead>\n",
       "    <tr style=\"text-align: right;\">\n",
       "      <th></th>\n",
       "      <th>Score</th>\n",
       "      <th>Title</th>\n",
       "      <th>Body</th>\n",
       "    </tr>\n",
       "    <tr>\n",
       "      <th>Pos</th>\n",
       "      <th></th>\n",
       "      <th></th>\n",
       "      <th></th>\n",
       "    </tr>\n",
       "  </thead>\n",
       "  <tbody>\n",
       "    <tr>\n",
       "      <th>505893</th>\n",
       "      <td>0</td>\n",
       "      <td>how to get fill rate of each column in databas...</td>\n",
       "      <td>&lt;p&gt;I can get fill rate of only one column at o...</td>\n",
       "    </tr>\n",
       "    <tr>\n",
       "      <th>67789</th>\n",
       "      <td>1</td>\n",
       "      <td>SQLAlchemy Query Dynamic Field</td>\n",
       "      <td>&lt;p&gt;I have a table with many columns --&lt;/p&gt;\\n\\n...</td>\n",
       "    </tr>\n",
       "    <tr>\n",
       "      <th>530449</th>\n",
       "      <td>0</td>\n",
       "      <td>How to automate renaming columns in Pandas</td>\n",
       "      <td>&lt;p&gt;I have a data-frame with multiple columns. ...</td>\n",
       "    </tr>\n",
       "    <tr>\n",
       "      <th>155671</th>\n",
       "      <td>2</td>\n",
       "      <td>Sqlalchemy: use PSQL's `~` operator when strin...</td>\n",
       "      <td>&lt;p&gt;I know that &lt;/p&gt;\\n\\n&lt;pre&gt;&lt;code&gt;WHERE column...</td>\n",
       "    </tr>\n",
       "  </tbody>\n",
       "</table>\n",
       "</div>"
      ],
      "text/plain": [
       "        Score                                              Title  \\\n",
       "Pos                                                                \n",
       "505893      0  how to get fill rate of each column in databas...   \n",
       "67789       1                     SQLAlchemy Query Dynamic Field   \n",
       "530449      0         How to automate renaming columns in Pandas   \n",
       "155671      2  Sqlalchemy: use PSQL's `~` operator when strin...   \n",
       "\n",
       "                                                     Body  \n",
       "Pos                                                        \n",
       "505893  <p>I can get fill rate of only one column at o...  \n",
       "67789   <p>I have a table with many columns --</p>\\n\\n...  \n",
       "530449  <p>I have a data-frame with multiple columns. ...  \n",
       "155671  <p>I know that </p>\\n\\n<pre><code>WHERE column...  "
      ]
     },
     "execution_count": 67,
     "metadata": {},
     "output_type": "execute_result"
    }
   ],
   "source": [
    "bc.loc[bc['Cluster'] == cnts.index[2]][['Score', 'Title', 'Body']]"
   ]
  },
  {
   "cell_type": "markdown",
   "metadata": {
    "_cell_guid": "5187ea92-68d2-f747-e9c1-bd16953f4c4e",
    "_uuid": "2e604a54d534b6731fbe05e0a96165ca218a3f8d"
   },
   "source": [
    "We can improve our clusters by increasing sample size, using entire dataset to calculate tf-idf, adjusting cluster splitting criterion, using non-exclusive clustering techniques etc.\n",
    "\n",
    "Next steps:\n",
    "\n",
    " 1. Use clusters and most significant words in questions to generate question tags automatically\n",
    " 2. Use an autoencoder to perform semantical hashing for better estimates of question relatedness"
   ]
  }
 ],
 "metadata": {
  "_change_revision": 0,
  "_is_fork": false,
  "kernelspec": {
   "display_name": "Python 3",
   "language": "python",
   "name": "python3"
  },
  "language_info": {
   "codemirror_mode": {
    "name": "ipython",
    "version": 3
   },
   "file_extension": ".py",
   "mimetype": "text/x-python",
   "name": "python",
   "nbconvert_exporter": "python",
   "pygments_lexer": "ipython3",
   "version": "3.6.5"
  }
 },
 "nbformat": 4,
 "nbformat_minor": 1
}
