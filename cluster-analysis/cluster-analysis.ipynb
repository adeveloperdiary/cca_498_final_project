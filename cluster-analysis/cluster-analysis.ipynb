{
 "cells": [
  {
   "cell_type": "markdown",
   "metadata": {},
   "source": [
    "### Importing libraries"
   ]
  },
  {
   "cell_type": "code",
   "execution_count": 1,
   "metadata": {},
   "outputs": [],
   "source": [
    "import pandas as pd"
   ]
  },
  {
   "cell_type": "markdown",
   "metadata": {},
   "source": [
    "### Importing data"
   ]
  },
  {
   "cell_type": "code",
   "execution_count": 3,
   "metadata": {},
   "outputs": [],
   "source": [
    "data = pd.read_csv(\"../raw_data/local-dev/Questions.csv\", encoding='latin1')"
   ]
  },
  {
   "cell_type": "code",
   "execution_count": 4,
   "metadata": {},
   "outputs": [
    {
     "data": {
      "text/html": [
       "<div>\n",
       "<style scoped>\n",
       "    .dataframe tbody tr th:only-of-type {\n",
       "        vertical-align: middle;\n",
       "    }\n",
       "\n",
       "    .dataframe tbody tr th {\n",
       "        vertical-align: top;\n",
       "    }\n",
       "\n",
       "    .dataframe thead th {\n",
       "        text-align: right;\n",
       "    }\n",
       "</style>\n",
       "<table border=\"1\" class=\"dataframe\">\n",
       "  <thead>\n",
       "    <tr style=\"text-align: right;\">\n",
       "      <th></th>\n",
       "      <th>Id</th>\n",
       "      <th>OwnerUserId</th>\n",
       "      <th>CreationDate</th>\n",
       "      <th>Score</th>\n",
       "      <th>Title</th>\n",
       "      <th>Body</th>\n",
       "    </tr>\n",
       "  </thead>\n",
       "  <tbody>\n",
       "    <tr>\n",
       "      <th>0</th>\n",
       "      <td>17532666</td>\n",
       "      <td>2556416.0</td>\n",
       "      <td>2013-07-08T17:33:15Z</td>\n",
       "      <td>0</td>\n",
       "      <td>Migrating to Twitter API version 1.1 (?) [dupl...</td>\n",
       "      <td>&lt;p&gt;I am quite new to Twitter API. I have updat...</td>\n",
       "    </tr>\n",
       "    <tr>\n",
       "      <th>1</th>\n",
       "      <td>10540999</td>\n",
       "      <td>161085.0</td>\n",
       "      <td>2012-05-10T19:37:09Z</td>\n",
       "      <td>4</td>\n",
       "      <td>How to configure a Clojure library at runtime?</td>\n",
       "      <td>&lt;p&gt;As a Clojure learning exercise, I am portin...</td>\n",
       "    </tr>\n",
       "    <tr>\n",
       "      <th>2</th>\n",
       "      <td>34126234</td>\n",
       "      <td>3769629.0</td>\n",
       "      <td>2015-12-07T04:02:48Z</td>\n",
       "      <td>0</td>\n",
       "      <td>Handling JSON file with python</td>\n",
       "      <td>&lt;p&gt;I'm developing a plugin for sublime text an...</td>\n",
       "    </tr>\n",
       "    <tr>\n",
       "      <th>3</th>\n",
       "      <td>23721800</td>\n",
       "      <td>2474015.0</td>\n",
       "      <td>2014-05-18T12:19:40Z</td>\n",
       "      <td>0</td>\n",
       "      <td>Getting a MemoryError because list/array is to...</td>\n",
       "      <td>&lt;h2&gt;Problem&lt;/h2&gt;\\n\\n&lt;p&gt;I have to download &lt;cod...</td>\n",
       "    </tr>\n",
       "    <tr>\n",
       "      <th>4</th>\n",
       "      <td>10126239</td>\n",
       "      <td>891306.0</td>\n",
       "      <td>2012-04-12T14:59:27Z</td>\n",
       "      <td>3</td>\n",
       "      <td>Reading output with telnetlib in realtime</td>\n",
       "      <td>&lt;p&gt;I'm using Python's telnetlib to telnet to s...</td>\n",
       "    </tr>\n",
       "  </tbody>\n",
       "</table>\n",
       "</div>"
      ],
      "text/plain": [
       "         Id  OwnerUserId          CreationDate  Score  \\\n",
       "0  17532666    2556416.0  2013-07-08T17:33:15Z      0   \n",
       "1  10540999     161085.0  2012-05-10T19:37:09Z      4   \n",
       "2  34126234    3769629.0  2015-12-07T04:02:48Z      0   \n",
       "3  23721800    2474015.0  2014-05-18T12:19:40Z      0   \n",
       "4  10126239     891306.0  2012-04-12T14:59:27Z      3   \n",
       "\n",
       "                                               Title  \\\n",
       "0  Migrating to Twitter API version 1.1 (?) [dupl...   \n",
       "1     How to configure a Clojure library at runtime?   \n",
       "2                     Handling JSON file with python   \n",
       "3  Getting a MemoryError because list/array is to...   \n",
       "4          Reading output with telnetlib in realtime   \n",
       "\n",
       "                                                Body  \n",
       "0  <p>I am quite new to Twitter API. I have updat...  \n",
       "1  <p>As a Clojure learning exercise, I am portin...  \n",
       "2  <p>I'm developing a plugin for sublime text an...  \n",
       "3  <h2>Problem</h2>\\n\\n<p>I have to download <cod...  \n",
       "4  <p>I'm using Python's telnetlib to telnet to s...  "
      ]
     },
     "execution_count": 4,
     "metadata": {},
     "output_type": "execute_result"
    }
   ],
   "source": [
    "data.head()"
   ]
  }
 ],
 "metadata": {
  "kernelspec": {
   "display_name": "Python 3",
   "language": "python",
   "name": "python3"
  },
  "language_info": {
   "codemirror_mode": {
    "name": "ipython",
    "version": 3
   },
   "file_extension": ".py",
   "mimetype": "text/x-python",
   "name": "python",
   "nbconvert_exporter": "python",
   "pygments_lexer": "ipython3",
   "version": "3.6.4"
  }
 },
 "nbformat": 4,
 "nbformat_minor": 2
}
