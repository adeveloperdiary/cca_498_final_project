{
 "cells": [
  {
   "cell_type": "markdown",
   "metadata": {
    "_cell_guid": "527f8013-12fd-1810-0fb3-b9786b824131",
    "_uuid": "4fa53f2c0384586eee8fad4c5cf55c5c3cb2295b"
   },
   "source": [
    "Use LSA to identify related questions"
   ]
  },
  {
   "cell_type": "code",
   "execution_count": null,
   "metadata": {
    "_cell_guid": "7475d44f-5f80-f377-a244-f893f525f36e",
    "_uuid": "07e2398cb2c22167f77be8bc3652fd7b173273e7",
    "collapsed": true
   },
   "outputs": [],
   "source": [
    "import numpy as np\n",
    "import pandas as pd\n",
    "import matplotlib.pyplot as plt\n",
    "%matplotlib inline\n",
    "import nltk\n",
    "from multiprocessing import Pool\n",
    "from nltk.tokenize import word_tokenize\n",
    "from nltk.corpus import stopwords\n",
    "from nltk.stem import WordNetLemmatizer\n",
    "from sklearn.feature_extraction.text import TfidfVectorizer, CountVectorizer\n",
    "import re\n",
    "from itertools import chain\n",
    "from collections import Counter\n",
    "import pickle\n",
    "import scipy.io as scio\n",
    "from sklearn.decomposition import TruncatedSVD\n",
    "import scipy.spatial.distance as distance\n",
    "import scipy.cluster.hierarchy as hierarchy\n",
    "from scipy.stats import pearsonr"
   ]
  },
  {
   "cell_type": "markdown",
   "metadata": {
    "_cell_guid": "98803c67-0c76-723c-2b88-1671625f3564",
    "_uuid": "5651a50b360ee68c4806a3b16edf58276f5e3f56"
   },
   "source": []
  },
  {
   "cell_type": "code",
   "execution_count": null,
   "metadata": {
    "_cell_guid": "bc53c232-7d90-b512-68e2-b252020d0c39",
    "_uuid": "386c13f52dbcaa96ed75c7092f2f9f583f75311e",
    "collapsed": true
   },
   "outputs": [],
   "source": [
    "dat = pd.read_csv(\"../input/Questions.csv\", encoding='latin1')\n",
    "dat['Title'].fillna(\"None\", inplace=True)\n",
    "dat['Score'].fillna(0, inplace=True)"
   ]
  },
  {
   "cell_type": "markdown",
   "metadata": {
    "_cell_guid": "8efb7f69-23ae-129f-dbf0-82d01e8fc915",
    "_uuid": "ebc2f7353be1197ac2fbcf33cf0118d5061d0418"
   },
   "source": []
  },
  {
   "cell_type": "code",
   "execution_count": null,
   "metadata": {
    "_cell_guid": "3d94a6c6-e705-2b34-2bc3-170a9913f433",
    "_uuid": "720985e8fb922674cc73d76568ebc28b4a37e666",
    "collapsed": true
   },
   "outputs": [],
   "source": [
    "dat.head()"
   ]
  },
  {
   "cell_type": "code",
   "execution_count": null,
   "metadata": {
    "_cell_guid": "44c5675a-af0c-c90b-27e1-cca6724378a4",
    "_uuid": "6ccbeb2b936dd81a4088c4c235e254702a788d1e",
    "collapsed": true
   },
   "outputs": [],
   "source": [
    "# select a sample - results will improve without sampling in tf-idf caluculations, but due to\n",
    "# Kaggle kernel memory limit we have to make a compromise here.\n",
    "selected_ids = np.random.choice(range(dat.shape[0]), 10000, replace=False)\n",
    "sample = dat.loc[selected_ids, :]\n",
    "sample.shape"
   ]
  },
  {
   "cell_type": "markdown",
   "metadata": {
    "_cell_guid": "3c04453b-3a7d-22b9-0506-eaf3825caae3",
    "_uuid": "54e1a822cd33422b03255d31e85fdf25929b31ae"
   },
   "source": []
  },
  {
   "cell_type": "code",
   "execution_count": null,
   "metadata": {
    "_cell_guid": "2cd93cf7-f747-2d5e-288e-bfa95015e310",
    "_uuid": "e6c2b3bcb07c1a621bb39c02a35245057219a442",
    "collapsed": true
   },
   "outputs": [],
   "source": [
    "def purify_string(html):\n",
    "    return re.sub('(\\r\\n)+|\\r+|\\n+', \" \", re.sub('<[^<]+?>', '', html))"
   ]
  },
  {
   "cell_type": "code",
   "execution_count": null,
   "metadata": {
    "_cell_guid": "b8d5dc1d-542d-e727-35c0-02644611bf16",
    "_uuid": "662f96b1cfabea77562782773d3f6f980b020f70",
    "collapsed": true
   },
   "outputs": [],
   "source": [
    "corpus = sample.ix[:, 'Body'].apply(purify_string)"
   ]
  },
  {
   "cell_type": "code",
   "execution_count": null,
   "metadata": {
    "_cell_guid": "8d993582-63f1-ebf8-963f-c7f006578fcc",
    "_uuid": "cc3b25289560a595d97d7d8f33cc1fb60e3cbcdf",
    "collapsed": true
   },
   "outputs": [],
   "source": [
    "def combine_title_body(tnb):\n",
    "    return tnb[0] + \" \" + tnb[1]"
   ]
  },
  {
   "cell_type": "code",
   "execution_count": null,
   "metadata": {
    "_cell_guid": "9cb4859e-eed7-c7fd-e29c-edbef8d897ee",
    "_uuid": "5a19d62f237c3c076cd891df4d9af3ae7be6336a",
    "collapsed": true
   },
   "outputs": [],
   "source": [
    "p = Pool(8)\n",
    "combined_corpus = p.map(combine_title_body, zip(dat['Title'], corpus))\n",
    "p.close()"
   ]
  },
  {
   "cell_type": "code",
   "execution_count": null,
   "metadata": {
    "_cell_guid": "bc632662-b7c2-eed4-9e12-aad1c3321c38",
    "_uuid": "48c9b383ec6f75275eaff19ee048e02e172a772d",
    "collapsed": true
   },
   "outputs": [],
   "source": [
    "combined_corpus[:2]"
   ]
  },
  {
   "cell_type": "markdown",
   "metadata": {
    "_cell_guid": "23532fbf-508e-be9f-ed49-2d85d08fa7fc",
    "_uuid": "91c77bc93faf744a67df0a5a31b7d9831f9ad788"
   },
   "source": []
  },
  {
   "cell_type": "code",
   "execution_count": null,
   "metadata": {
    "_cell_guid": "ecbb0904-c13c-846b-eedb-0db264a1e163",
    "_uuid": "2a2085b81b9db7dd3e9520d426f97097948e7edf",
    "collapsed": true
   },
   "outputs": [],
   "source": [
    "lem = WordNetLemmatizer()\n",
    "def cond_tokenize(t):\n",
    "    if t is None:\n",
    "        return []\n",
    "    else:\n",
    "        return [lem.lemmatize(w.lower()) for w in word_tokenize(t)]\n",
    "\n",
    "p = Pool(8)\n",
    "tokens = list(p.imap(cond_tokenize, combined_corpus))\n",
    "p.close()"
   ]
  },
  {
   "cell_type": "markdown",
   "metadata": {
    "_cell_guid": "bb0ff317-a30b-9492-ad81-4e2050814ba8",
    "_uuid": "85d7cfccf5f466cde3efd8e8c8652bef3c658bf3"
   },
   "source": []
  },
  {
   "cell_type": "code",
   "execution_count": null,
   "metadata": {
    "_cell_guid": "a34eccce-f045-bdc5-62fc-8f46f3178837",
    "_uuid": "98df3feeb6373a945a274297b7f0ffddd564a98f",
    "collapsed": true
   },
   "outputs": [],
   "source": [
    "# stops = stopwords.words('english')\n",
    "pure_tokens = [\" \".join(sent) for sent in tokens]"
   ]
  },
  {
   "cell_type": "markdown",
   "metadata": {
    "_cell_guid": "09442586-b7e0-1932-5a09-38cbfddaaab3",
    "_uuid": "c7756400944e29167364d8223580d807f36006e9"
   },
   "source": []
  },
  {
   "cell_type": "code",
   "execution_count": null,
   "metadata": {
    "_cell_guid": "2c958ef8-b773-a294-a93c-7270a3aad586",
    "_uuid": "e4a10051dc8ec371275bedb3f0354091d14ed697",
    "collapsed": true
   },
   "outputs": [],
   "source": [
    "vectorizer = TfidfVectorizer(min_df=1, max_features=2000, stop_words='english', ngram_range=[1, 1], sublinear_tf=True)\n",
    "tfidf = vectorizer.fit_transform(pure_tokens)"
   ]
  },
  {
   "cell_type": "markdown",
   "metadata": {
    "_cell_guid": "0c68e869-4b3e-54a0-c4da-894733d0e623",
    "_uuid": "afa01390bbe2d5195b52ca7dfd7717e92537b156"
   },
   "source": []
  },
  {
   "cell_type": "code",
   "execution_count": null,
   "metadata": {
    "_cell_guid": "44bc1be1-05c9-dd10-171d-a9ceb56cf2d6",
    "_uuid": "e6ae3bb1ed7387752c65fb8c4d12d8d238269152",
    "collapsed": true
   },
   "outputs": [],
   "source": [
    "idfs = pd.DataFrame([[v, k] for k, v in vectorizer.vocabulary_.items()], columns=['id', 'word']).sort_values('id')\n",
    "idfs['idf'] = vectorizer.idf_\n",
    "idfs.sort_values('idf').head(10)"
   ]
  },
  {
   "cell_type": "markdown",
   "metadata": {
    "_cell_guid": "2ef01b61-878b-ad4b-e73a-898be872398f",
    "_uuid": "ca4d042cfe005eeeaf1940bf3315c85bef0a44fc"
   },
   "source": [
    "### Compress using SVD"
   ]
  },
  {
   "cell_type": "code",
   "execution_count": null,
   "metadata": {
    "_cell_guid": "e4891e6b-f2a9-5e26-cd26-11fbdeda2efb",
    "_uuid": "ed3a550f7f9701ee15b9aff8c634882f291c27c0",
    "collapsed": true
   },
   "outputs": [],
   "source": [
    "tsvd = TruncatedSVD(n_components=500)\n",
    "transformed = tsvd.fit_transform(tfidf)"
   ]
  },
  {
   "cell_type": "code",
   "execution_count": null,
   "metadata": {
    "_cell_guid": "1ed499c0-49a1-70b2-42bc-a725b211e41e",
    "_uuid": "b003efff4bac609789859f253e6010c34ae9f3af",
    "collapsed": true
   },
   "outputs": [],
   "source": [
    "np.sum(tsvd.explained_variance_ratio_)"
   ]
  },
  {
   "cell_type": "code",
   "execution_count": null,
   "metadata": {
    "_cell_guid": "2c447624-1c1a-c23a-298d-95c51afcf2c9",
    "_uuid": "3dcdbc02a12b3dd25e420f71e51c9e7a97d6b17f",
    "collapsed": true
   },
   "outputs": [],
   "source": [
    "transformed.shape"
   ]
  },
  {
   "cell_type": "markdown",
   "metadata": {
    "_cell_guid": "e7973e1a-fecb-4e0e-9b39-c74cd50d6aeb",
    "_uuid": "d8ddde5ff0d36084d00fad57ac404c4461c9eb9f"
   },
   "source": []
  },
  {
   "cell_type": "code",
   "execution_count": null,
   "metadata": {
    "_cell_guid": "c1b4fa41-d954-b6ce-1066-710bbd4bf358",
    "_uuid": "59c525c52b69e7381bf5489442e8d313c654b7b6",
    "collapsed": true
   },
   "outputs": [],
   "source": [
    "# calculate pairwise cosine distance\n",
    "D = distance.pdist(transformed, 'cosine')"
   ]
  },
  {
   "cell_type": "code",
   "execution_count": null,
   "metadata": {
    "_cell_guid": "80f03f54-ed8c-b6d1-1995-62814b56cba9",
    "_uuid": "926cd97d4a372bab37f7035986dd3c436286a94a",
    "collapsed": true
   },
   "outputs": [],
   "source": [
    "# hierarchical clustering - tree calculation\n",
    "L = hierarchy.linkage(D)"
   ]
  },
  {
   "cell_type": "code",
   "execution_count": null,
   "metadata": {
    "_cell_guid": "e3a593e8-4a4e-3cc5-610c-b21009173774",
    "_uuid": "8717b04c82544271440611ffa6bec1b12014b5c6",
    "collapsed": true
   },
   "outputs": [],
   "source": [
    "# mean distance between clusters\n",
    "np.mean(D)"
   ]
  },
  {
   "cell_type": "code",
   "execution_count": null,
   "metadata": {
    "_cell_guid": "def97dcc-d535-95d9-90ca-18b6776de25d",
    "_uuid": "8cdf6155ba1febf341671eee9042c30a8446fcf7",
    "collapsed": true
   },
   "outputs": [],
   "source": [
    "# split clusters by criterion. Here 0.71 is used as the inconsistency criterion. Adjust the\n",
    "# number to change cluster sizes\n",
    "cls = hierarchy.fcluster(L, 0.71, criterion='inconsistent')"
   ]
  },
  {
   "cell_type": "code",
   "execution_count": null,
   "metadata": {
    "_cell_guid": "3ece1c02-6629-83b6-22c8-854b76a66f87",
    "_uuid": "aad2ba40855db47a6fc25520a250b60527327bbf",
    "collapsed": true
   },
   "outputs": [],
   "source": [
    "df_cls = pd.DataFrame({'Pos': selected_ids, 'Cluster': cls})\n",
    "cnts = df_cls.groupby('Cluster').size().sort_values(ascending=False)\n",
    "cnts.sort_values(ascending=False).head()"
   ]
  },
  {
   "cell_type": "code",
   "execution_count": null,
   "metadata": {
    "_cell_guid": "f63a37cb-f753-8127-734d-edb0570d464d",
    "_uuid": "6a5eb4a65ab03dc284d36a80374f881bd098351b",
    "collapsed": true
   },
   "outputs": [],
   "source": [
    "# add clusters to question data\n",
    "bc = pd.concat([sample, df_cls.set_index('Pos')], axis=1)\n",
    "bc.head()"
   ]
  },
  {
   "cell_type": "code",
   "execution_count": null,
   "metadata": {
    "_cell_guid": "777e9ddf-648c-6e5b-7cc3-46607489ea84",
    "_uuid": "45f11a2011f75298431323275dd23bc05d7ee6ff",
    "collapsed": true
   },
   "outputs": [],
   "source": [
    "# calculate cluster stats\n",
    "stats = bc.groupby('Cluster')['Score'].describe().unstack()"
   ]
  },
  {
   "cell_type": "code",
   "execution_count": null,
   "metadata": {
    "_cell_guid": "9bc0ef2b-abe4-3d91-337e-ddae9aaef2dc",
    "_uuid": "c113c96fa68cc9eb1008c2b2434cb7f46a779690",
    "collapsed": true
   },
   "outputs": [],
   "source": [
    "stats.sort_values('count', ascending=False).head(10)"
   ]
  },
  {
   "cell_type": "code",
   "execution_count": null,
   "metadata": {
    "_cell_guid": "e4f202ad-aa79-914b-98fb-e8b2719ba0c0",
    "_uuid": "738cec1c38b12772c32779d7ae0e17c9225370ee",
    "collapsed": true
   },
   "outputs": [],
   "source": [
    "plt.figure(figsize=(12, 8))\n",
    "plt.hlines([0], xmin=0, xmax=np.max(stats['count']) + 5, alpha=0.5)\n",
    "plt.vlines([1], ymin=0, ymax=np.max(stats['mean']) + 50, alpha=0.5)\n",
    "plt.scatter(stats['count'], stats['mean'], alpha=0.3)\n",
    "plt.title(\"cluster mean score vs cluster size\")\n",
    "plt.xlabel(\"cluster size\")\n",
    "plt.ylabel(\"mean score\")\n",
    "plt.show()"
   ]
  },
  {
   "cell_type": "markdown",
   "metadata": {
    "_cell_guid": "5c762587-d933-2be2-5c81-7943347d9e27",
    "_uuid": "09f0d5000b9d8e66dc733a54a19b3db270756796"
   },
   "source": [
    "### Check if clusters make sense"
   ]
  },
  {
   "cell_type": "code",
   "execution_count": null,
   "metadata": {
    "_cell_guid": "e8c6f75e-1337-1d87-337f-cb2ec17e69b7",
    "_uuid": "e886a1dad0fc933ab87f55c41e2c7c364bd33118",
    "collapsed": true
   },
   "outputs": [],
   "source": [
    "bc.loc[bc['Cluster'] == cnts.index[0]][['Score', 'Title', 'Body']]"
   ]
  },
  {
   "cell_type": "code",
   "execution_count": null,
   "metadata": {
    "_cell_guid": "3a868a0e-88e8-33d5-ba7c-336516a87364",
    "_uuid": "53df2b73d71949e826cb215ff0407b878de40df8",
    "collapsed": true
   },
   "outputs": [],
   "source": [
    "bc.loc[bc['Cluster'] == cnts.index[1]][['Score', 'Title', 'Body']]"
   ]
  },
  {
   "cell_type": "code",
   "execution_count": null,
   "metadata": {
    "_cell_guid": "b4cdab38-6cd8-d4bc-ca30-63de7f74e29f",
    "_uuid": "790757bbec7fc6db4d97c2fba27df01fee04743c",
    "collapsed": true
   },
   "outputs": [],
   "source": [
    "bc.loc[bc['Cluster'] == cnts.index[2]][['Score', 'Title', 'Body']]"
   ]
  },
  {
   "cell_type": "markdown",
   "metadata": {
    "_cell_guid": "5187ea92-68d2-f747-e9c1-bd16953f4c4e",
    "_uuid": "9b60e46295e09645ea1824f394bd42dd61c8409c"
   },
   "source": [
    "We can improve our clusters by increasing sample size, using entire dataset to calculate tf-idf, adjusting cluster splitting criterion, using non-exclusive clustering techniques etc.\n",
    "\n",
    "Next steps:\n",
    "\n",
    " 1. Use clusters and most significant words in questions to generate question tags automatically\n",
    " 2. Use an autoencoder to perform semantical hashing for better estimates of question relatedness"
   ]
  },
  {
   "cell_type": "code",
   "execution_count": null,
   "metadata": {
    "_cell_guid": "d545a2ed-e2c0-5427-d564-dad9a985aefd",
    "_uuid": "da7d402832de77c579e5ebd114d92b696d2c0df8",
    "collapsed": true
   },
   "outputs": [],
   "source": []
  }
 ],
 "metadata": {
  "_change_revision": 0,
  "_is_fork": false,
  "kernelspec": {
   "display_name": "Python 3",
   "language": "python",
   "name": "python3"
  },
  "language_info": {
   "codemirror_mode": {
    "name": "ipython",
    "version": 3
   },
   "file_extension": ".py",
   "mimetype": "text/x-python",
   "name": "python",
   "nbconvert_exporter": "python",
   "pygments_lexer": "ipython3",
   "version": "3.6.4"
  }
 },
 "nbformat": 4,
 "nbformat_minor": 1
}
