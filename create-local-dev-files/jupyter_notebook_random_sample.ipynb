{
 "cells": [
  {
   "cell_type": "code",
   "execution_count": 19,
   "metadata": {},
   "outputs": [],
   "source": [
    "import os\n",
    "import zipfile\n",
    "import pandas as pd\n",
    "pd.set_option('display.max_colwidth', -1)"
   ]
  },
  {
   "cell_type": "code",
   "execution_count": 3,
   "metadata": {
    "collapsed": true
   },
   "outputs": [],
   "source": [
    "root_dir='/Users/adantonison/workspace/repos/cca_498_final_project/raw_data/local-dev/'\n",
    "questions_path= os.path.join(root_dir, 'Questions_New.csv')\n",
    "answers_path= os.path.join(root_dir, 'Answers_New.csv')\n",
    "tags_path= os.path.join(root_dir, 'Tags.csv')"
   ]
  },
  {
   "cell_type": "code",
   "execution_count": 4,
   "metadata": {
    "collapsed": true
   },
   "outputs": [],
   "source": [
    "answers_df = pd.read_csv(answers_path, encoding='latin1')\n",
    "questions_df = pd.read_csv(questions_path, encoding='latin1')\n",
    "tags_df = pd.read_csv(tags_path, encoding='latin1')"
   ]
  },
  {
   "cell_type": "code",
   "execution_count": 24,
   "metadata": {},
   "outputs": [
    {
     "data": {
      "text/html": [
       "<div>\n",
       "<style scoped>\n",
       "    .dataframe tbody tr th:only-of-type {\n",
       "        vertical-align: middle;\n",
       "    }\n",
       "\n",
       "    .dataframe tbody tr th {\n",
       "        vertical-align: top;\n",
       "    }\n",
       "\n",
       "    .dataframe thead th {\n",
       "        text-align: right;\n",
       "    }\n",
       "</style>\n",
       "<table border=\"1\" class=\"dataframe\">\n",
       "  <thead>\n",
       "    <tr style=\"text-align: right;\">\n",
       "      <th></th>\n",
       "      <th>Id</th>\n",
       "      <th>OwnerUserId</th>\n",
       "      <th>CreationDate</th>\n",
       "      <th>Score</th>\n",
       "      <th>Title</th>\n",
       "      <th>Body</th>\n",
       "    </tr>\n",
       "  </thead>\n",
       "  <tbody>\n",
       "    <tr>\n",
       "      <th>1875</th>\n",
       "      <td>28639356</td>\n",
       "      <td>1578356.0</td>\n",
       "      <td>2015-02-20T22:28:45Z</td>\n",
       "      <td>0</td>\n",
       "      <td>You don't have the permission to access the requested resource error is geven when a post request is sent</td>\n",
       "      <td>&lt;p&gt;I am tring to send a 'POST' request and catch it from python backend. I use flask python framework. Actually, I am doing changes to already developed application.&lt;/p&gt;  &lt;p&gt;in the templates I found the code that generate the relavent html. &lt;/p&gt;  &lt;pre&gt;&lt;code&gt;&amp;lt;div class=\"body\"&amp;gt;                     &amp;lt;p&amp;gt;                         Upload files for the customer {{customer.CustomerName}}.                     &amp;lt;/p&amp;gt;                     &amp;lt;p&amp;gt;                      &amp;lt;/p&amp;gt;                      &amp;lt;form method=\"POST\"  action=\"/admin/customers/{{ customer.ID }}/file_uploading/\"&amp;gt;                          &amp;lt;!--   &amp;lt;input type=\"file\" name=\"pdfFiles\"&amp;gt; --&amp;gt;                              &amp;lt;br&amp;gt;&amp;lt;br&amp;gt;                      &amp;lt;!--     &amp;lt;input type=\"submit\" value=\"Upload\" name=\"submit\"&amp;gt; --&amp;gt;                             &amp;lt;button type=\"submit\" class=\"btn btn-transparent\"&amp;gt;Upload&amp;lt;/button&amp;gt;                     &amp;lt;/form&amp;gt;    &amp;lt;/div&amp;gt; &lt;/code&gt;&lt;/pre&gt;  &lt;p&gt;Here, I try to catch the POST request.&lt;/p&gt;  &lt;pre&gt;&lt;code&gt;@app.route('/admin/customers/&amp;lt;cust_id&amp;gt;/&amp;lt;action&amp;gt;/', methods=[ 'GET', 'POST' ]) @login_required def main_admin_customers(cust_id=None, action=None, subaction=None):  if cust_id == None:         c = customers.customer_details()         return render_template('admin_customers_list.html',              customers=c.list_customers())     else:         if cust_id.isdigit():             cust_id = int(cust_id)             c = customers.customer_details(customerid=cust_id)             cust_data = c.retrieve_customer()             if cust_data == None:                 return error_message(message='No such customer.')             else:                 user = request.cookies['username']                   if action == None:                     s = scheduling.schedule(customer_id=cust_id)                     return render_template('admin_customers_view.html')                                 # file uploading                  # if the action is file_upload and required file is there                 # upload it to the file server.                  # file url and relevent information should be store in the database                 # files will be categorise for each customer from their ID.                  elif action == 'file_uploading':                     return redirect(url_for('main_admin_customers',                          cust_id=cust_id))                       # Simple asset creation                  elif action == 'create_asset':                     pass &lt;/code&gt;&lt;/pre&gt;  &lt;p&gt;However, I get the following error&lt;/p&gt;  &lt;pre&gt;&lt;code&gt;Forbidden  You don't have the permission to access the requested resource. It is either read-protected or not readable by the server. &lt;/code&gt;&lt;/pre&gt;  &lt;p&gt;However, when I debug the code, as soon as I submit the form, I get the above error message. It didn't even hit the break points at &lt;code&gt;main_admin_customers&lt;/code&gt;.&lt;/p&gt;  &lt;p&gt;What is the mistake I've done here?&lt;/p&gt;</td>\n",
       "    </tr>\n",
       "  </tbody>\n",
       "</table>\n",
       "</div>"
      ],
      "text/plain": [
       "            Id  OwnerUserId          CreationDate  Score  \\\n",
       "1875  28639356  1578356.0    2015-02-20T22:28:45Z  0       \n",
       "\n",
       "                                                                                                          Title  \\\n",
       "1875  You don't have the permission to access the requested resource error is geven when a post request is sent   \n",
       "\n",
       "                                                                                                                                                                                                                                                                                                                                                                                                                                                                                                                                                                                                                                                                                                                                                                                                                                                                                                                                                                                                                                                                                                                                                                                                                                                                                                                                                                                                                                                                                                                                                                                                                                                                                                                                                                                                                                                                                                                                                                                                                                                                                                                                                                                                                                                                                                                                                                                                                                                                                                                                                                                                                                                                                                                                                                                                                                                                                                                                                                                                                                                                                             Body  \n",
       "1875  <p>I am tring to send a 'POST' request and catch it from python backend. I use flask python framework. Actually, I am doing changes to already developed application.</p>  <p>in the templates I found the code that generate the relavent html. </p>  <pre><code>&lt;div class=\"body\"&gt;                     &lt;p&gt;                         Upload files for the customer {{customer.CustomerName}}.                     &lt;/p&gt;                     &lt;p&gt;                      &lt;/p&gt;                      &lt;form method=\"POST\"  action=\"/admin/customers/{{ customer.ID }}/file_uploading/\"&gt;                          &lt;!--   &lt;input type=\"file\" name=\"pdfFiles\"&gt; --&gt;                              &lt;br&gt;&lt;br&gt;                      &lt;!--     &lt;input type=\"submit\" value=\"Upload\" name=\"submit\"&gt; --&gt;                             &lt;button type=\"submit\" class=\"btn btn-transparent\"&gt;Upload&lt;/button&gt;                     &lt;/form&gt;    &lt;/div&gt; </code></pre>  <p>Here, I try to catch the POST request.</p>  <pre><code>@app.route('/admin/customers/&lt;cust_id&gt;/&lt;action&gt;/', methods=[ 'GET', 'POST' ]) @login_required def main_admin_customers(cust_id=None, action=None, subaction=None):  if cust_id == None:         c = customers.customer_details()         return render_template('admin_customers_list.html',              customers=c.list_customers())     else:         if cust_id.isdigit():             cust_id = int(cust_id)             c = customers.customer_details(customerid=cust_id)             cust_data = c.retrieve_customer()             if cust_data == None:                 return error_message(message='No such customer.')             else:                 user = request.cookies['username']                   if action == None:                     s = scheduling.schedule(customer_id=cust_id)                     return render_template('admin_customers_view.html')                                 # file uploading                  # if the action is file_upload and required file is there                 # upload it to the file server.                  # file url and relevent information should be store in the database                 # files will be categorise for each customer from their ID.                  elif action == 'file_uploading':                     return redirect(url_for('main_admin_customers',                          cust_id=cust_id))                       # Simple asset creation                  elif action == 'create_asset':                     pass </code></pre>  <p>However, I get the following error</p>  <pre><code>Forbidden  You don't have the permission to access the requested resource. It is either read-protected or not readable by the server. </code></pre>  <p>However, when I debug the code, as soon as I submit the form, I get the above error message. It didn't even hit the break points at <code>main_admin_customers</code>.</p>  <p>What is the mistake I've done here?</p>  "
      ]
     },
     "execution_count": 24,
     "metadata": {},
     "output_type": "execute_result"
    }
   ],
   "source": [
    "questions_df[questions_df.Id==28639356]"
   ]
  },
  {
   "cell_type": "code",
   "execution_count": 19,
   "metadata": {},
   "outputs": [
    {
     "data": {
      "text/html": [
       "<div>\n",
       "<style scoped>\n",
       "    .dataframe tbody tr th:only-of-type {\n",
       "        vertical-align: middle;\n",
       "    }\n",
       "\n",
       "    .dataframe tbody tr th {\n",
       "        vertical-align: top;\n",
       "    }\n",
       "\n",
       "    .dataframe thead th {\n",
       "        text-align: right;\n",
       "    }\n",
       "</style>\n",
       "<table border=\"1\" class=\"dataframe\">\n",
       "  <thead>\n",
       "    <tr style=\"text-align: right;\">\n",
       "      <th></th>\n",
       "      <th>Id</th>\n",
       "      <th>OwnerUserId</th>\n",
       "      <th>CreationDate</th>\n",
       "      <th>Score</th>\n",
       "      <th>Title</th>\n",
       "      <th>Body</th>\n",
       "    </tr>\n",
       "  </thead>\n",
       "  <tbody>\n",
       "    <tr>\n",
       "      <th>0</th>\n",
       "      <td>17532666</td>\n",
       "      <td>2556416.0</td>\n",
       "      <td>2013-07-08T17:33:15Z</td>\n",
       "      <td>0</td>\n",
       "      <td>Migrating to Twitter API version 1.1 (?) [dupl...</td>\n",
       "      <td>&lt;p&gt;I am quite new to Twitter API. I have updat...</td>\n",
       "    </tr>\n",
       "    <tr>\n",
       "      <th>1</th>\n",
       "      <td>10540999</td>\n",
       "      <td>161085.0</td>\n",
       "      <td>2012-05-10T19:37:09Z</td>\n",
       "      <td>4</td>\n",
       "      <td>How to configure a Clojure library at runtime?</td>\n",
       "      <td>&lt;p&gt;As a Clojure learning exercise, I am portin...</td>\n",
       "    </tr>\n",
       "    <tr>\n",
       "      <th>2</th>\n",
       "      <td>34126234</td>\n",
       "      <td>3769629.0</td>\n",
       "      <td>2015-12-07T04:02:48Z</td>\n",
       "      <td>0</td>\n",
       "      <td>Handling JSON file with python</td>\n",
       "      <td>&lt;p&gt;I'm developing a plugin for sublime text an...</td>\n",
       "    </tr>\n",
       "    <tr>\n",
       "      <th>3</th>\n",
       "      <td>23721800</td>\n",
       "      <td>2474015.0</td>\n",
       "      <td>2014-05-18T12:19:40Z</td>\n",
       "      <td>0</td>\n",
       "      <td>Getting a MemoryError because list/array is to...</td>\n",
       "      <td>&lt;h2&gt;Problem&lt;/h2&gt;  &lt;p&gt;I have to download &lt;code&gt;...</td>\n",
       "    </tr>\n",
       "    <tr>\n",
       "      <th>4</th>\n",
       "      <td>10126239</td>\n",
       "      <td>891306.0</td>\n",
       "      <td>2012-04-12T14:59:27Z</td>\n",
       "      <td>3</td>\n",
       "      <td>Reading output with telnetlib in realtime</td>\n",
       "      <td>&lt;p&gt;I'm using Python's telnetlib to telnet to s...</td>\n",
       "    </tr>\n",
       "  </tbody>\n",
       "</table>\n",
       "</div>"
      ],
      "text/plain": [
       "         Id  OwnerUserId          CreationDate  Score  \\\n",
       "0  17532666    2556416.0  2013-07-08T17:33:15Z      0   \n",
       "1  10540999     161085.0  2012-05-10T19:37:09Z      4   \n",
       "2  34126234    3769629.0  2015-12-07T04:02:48Z      0   \n",
       "3  23721800    2474015.0  2014-05-18T12:19:40Z      0   \n",
       "4  10126239     891306.0  2012-04-12T14:59:27Z      3   \n",
       "\n",
       "                                               Title  \\\n",
       "0  Migrating to Twitter API version 1.1 (?) [dupl...   \n",
       "1     How to configure a Clojure library at runtime?   \n",
       "2                     Handling JSON file with python   \n",
       "3  Getting a MemoryError because list/array is to...   \n",
       "4          Reading output with telnetlib in realtime   \n",
       "\n",
       "                                                Body  \n",
       "0  <p>I am quite new to Twitter API. I have updat...  \n",
       "1  <p>As a Clojure learning exercise, I am portin...  \n",
       "2  <p>I'm developing a plugin for sublime text an...  \n",
       "3  <h2>Problem</h2>  <p>I have to download <code>...  \n",
       "4  <p>I'm using Python's telnetlib to telnet to s...  "
      ]
     },
     "execution_count": 19,
     "metadata": {},
     "output_type": "execute_result"
    }
   ],
   "source": [
    "questions_df.head()"
   ]
  },
  {
   "cell_type": "code",
   "execution_count": 8,
   "metadata": {
    "collapsed": true
   },
   "outputs": [
    {
     "data": {
      "text/plain": [
       "10000"
      ]
     },
     "execution_count": 8,
     "metadata": {},
     "output_type": "execute_result"
    }
   ],
   "source": [
    "len(questions_df['Id'])"
   ]
  },
  {
   "cell_type": "code",
   "execution_count": 9,
   "metadata": {
    "collapsed": true
   },
   "outputs": [
    {
     "data": {
      "text/plain": [
       "10000"
      ]
     },
     "execution_count": 9,
     "metadata": {},
     "output_type": "execute_result"
    }
   ],
   "source": [
    "len(questions_df['Id'].unique())"
   ]
  },
  {
   "cell_type": "code",
   "execution_count": 10,
   "metadata": {
    "collapsed": true
   },
   "outputs": [
    {
     "data": {
      "text/plain": [
       "16222"
      ]
     },
     "execution_count": 10,
     "metadata": {},
     "output_type": "execute_result"
    }
   ],
   "source": [
    "len(answers_df['Id'])"
   ]
  },
  {
   "cell_type": "code",
   "execution_count": 11,
   "metadata": {
    "collapsed": true
   },
   "outputs": [
    {
     "data": {
      "text/plain": [
       "16222"
      ]
     },
     "execution_count": 11,
     "metadata": {},
     "output_type": "execute_result"
    }
   ],
   "source": [
    "len(answers_df['Id'].unique())"
   ]
  },
  {
   "cell_type": "code",
   "execution_count": 27,
   "metadata": {
    "collapsed": true
   },
   "outputs": [
    {
     "data": {
      "text/plain": [
       "1885078"
      ]
     },
     "execution_count": 27,
     "metadata": {},
     "output_type": "execute_result"
    }
   ],
   "source": [
    "len(tags_df['Id'])"
   ]
  },
  {
   "cell_type": "code",
   "execution_count": 28,
   "metadata": {
    "collapsed": true
   },
   "outputs": [
    {
     "data": {
      "text/plain": [
       "607283"
      ]
     },
     "execution_count": 28,
     "metadata": {},
     "output_type": "execute_result"
    }
   ],
   "source": [
    "len(tags_df['Id'].unique())"
   ]
  },
  {
   "cell_type": "markdown",
   "metadata": {},
   "source": [
    "### Questions Sample"
   ]
  },
  {
   "cell_type": "code",
   "execution_count": 31,
   "metadata": {
    "collapsed": true
   },
   "outputs": [],
   "source": [
    "sampled_questions_df = questions_df.sample(n=10000, random_state=50)"
   ]
  },
  {
   "cell_type": "code",
   "execution_count": 85,
   "metadata": {
    "collapsed": true
   },
   "outputs": [
    {
     "data": {
      "text/html": [
       "<div>\n",
       "<style scoped>\n",
       "    .dataframe tbody tr th:only-of-type {\n",
       "        vertical-align: middle;\n",
       "    }\n",
       "\n",
       "    .dataframe tbody tr th {\n",
       "        vertical-align: top;\n",
       "    }\n",
       "\n",
       "    .dataframe thead th {\n",
       "        text-align: right;\n",
       "    }\n",
       "</style>\n",
       "<table border=\"1\" class=\"dataframe\">\n",
       "  <thead>\n",
       "    <tr style=\"text-align: right;\">\n",
       "      <th></th>\n",
       "      <th>Id</th>\n",
       "      <th>OwnerUserId</th>\n",
       "      <th>CreationDate</th>\n",
       "      <th>Score</th>\n",
       "      <th>Title</th>\n",
       "      <th>Body</th>\n",
       "    </tr>\n",
       "  </thead>\n",
       "  <tbody>\n",
       "    <tr>\n",
       "      <th>186334</th>\n",
       "      <td>17532666</td>\n",
       "      <td>2556416.0</td>\n",
       "      <td>2013-07-08T17:33:15Z</td>\n",
       "      <td>0</td>\n",
       "      <td>Migrating to Twitter API version 1.1 (?) [dupl...</td>\n",
       "      <td>&lt;p&gt;I am quite new to Twitter API. I have updat...</td>\n",
       "    </tr>\n",
       "    <tr>\n",
       "      <th>101260</th>\n",
       "      <td>10540999</td>\n",
       "      <td>161085.0</td>\n",
       "      <td>2012-05-10T19:37:09Z</td>\n",
       "      <td>4</td>\n",
       "      <td>How to configure a Clojure library at runtime?</td>\n",
       "      <td>&lt;p&gt;As a Clojure learning exercise, I am portin...</td>\n",
       "    </tr>\n",
       "    <tr>\n",
       "      <th>467850</th>\n",
       "      <td>34126234</td>\n",
       "      <td>3769629.0</td>\n",
       "      <td>2015-12-07T04:02:48Z</td>\n",
       "      <td>0</td>\n",
       "      <td>Handling JSON file with python</td>\n",
       "      <td>&lt;p&gt;I'm developing a plugin for sublime text an...</td>\n",
       "    </tr>\n",
       "    <tr>\n",
       "      <th>277845</th>\n",
       "      <td>23721800</td>\n",
       "      <td>2474015.0</td>\n",
       "      <td>2014-05-18T12:19:40Z</td>\n",
       "      <td>0</td>\n",
       "      <td>Getting a MemoryError because list/array is to...</td>\n",
       "      <td>&lt;h2&gt;Problem&lt;/h2&gt;\\n\\n&lt;p&gt;I have to download &lt;cod...</td>\n",
       "    </tr>\n",
       "    <tr>\n",
       "      <th>96773</th>\n",
       "      <td>10126239</td>\n",
       "      <td>891306.0</td>\n",
       "      <td>2012-04-12T14:59:27Z</td>\n",
       "      <td>3</td>\n",
       "      <td>Reading output with telnetlib in realtime</td>\n",
       "      <td>&lt;p&gt;I'm using Python's telnetlib to telnet to s...</td>\n",
       "    </tr>\n",
       "  </tbody>\n",
       "</table>\n",
       "</div>"
      ],
      "text/plain": [
       "              Id  OwnerUserId          CreationDate  Score  \\\n",
       "186334  17532666    2556416.0  2013-07-08T17:33:15Z      0   \n",
       "101260  10540999     161085.0  2012-05-10T19:37:09Z      4   \n",
       "467850  34126234    3769629.0  2015-12-07T04:02:48Z      0   \n",
       "277845  23721800    2474015.0  2014-05-18T12:19:40Z      0   \n",
       "96773   10126239     891306.0  2012-04-12T14:59:27Z      3   \n",
       "\n",
       "                                                    Title  \\\n",
       "186334  Migrating to Twitter API version 1.1 (?) [dupl...   \n",
       "101260     How to configure a Clojure library at runtime?   \n",
       "467850                     Handling JSON file with python   \n",
       "277845  Getting a MemoryError because list/array is to...   \n",
       "96773           Reading output with telnetlib in realtime   \n",
       "\n",
       "                                                     Body  \n",
       "186334  <p>I am quite new to Twitter API. I have updat...  \n",
       "101260  <p>As a Clojure learning exercise, I am portin...  \n",
       "467850  <p>I'm developing a plugin for sublime text an...  \n",
       "277845  <h2>Problem</h2>\\n\\n<p>I have to download <cod...  \n",
       "96773   <p>I'm using Python's telnetlib to telnet to s...  "
      ]
     },
     "execution_count": 85,
     "metadata": {},
     "output_type": "execute_result"
    }
   ],
   "source": [
    "sampled_questions_df.head()"
   ]
  },
  {
   "cell_type": "markdown",
   "metadata": {},
   "source": [
    "### Answers associated with questions sample"
   ]
  },
  {
   "cell_type": "code",
   "execution_count": 49,
   "metadata": {
    "collapsed": true
   },
   "outputs": [],
   "source": [
    "sampled_answers_df_stg = pd.merge(sampled_questions_df, answers_df, left_on='Id', right_on='ParentId', how='inner')"
   ]
  },
  {
   "cell_type": "code",
   "execution_count": 41,
   "metadata": {
    "collapsed": true
   },
   "outputs": [
    {
     "data": {
      "text/html": [
       "<div>\n",
       "<style scoped>\n",
       "    .dataframe tbody tr th:only-of-type {\n",
       "        vertical-align: middle;\n",
       "    }\n",
       "\n",
       "    .dataframe tbody tr th {\n",
       "        vertical-align: top;\n",
       "    }\n",
       "\n",
       "    .dataframe thead th {\n",
       "        text-align: right;\n",
       "    }\n",
       "</style>\n",
       "<table border=\"1\" class=\"dataframe\">\n",
       "  <thead>\n",
       "    <tr style=\"text-align: right;\">\n",
       "      <th></th>\n",
       "      <th>Id</th>\n",
       "      <th>OwnerUserId</th>\n",
       "      <th>CreationDate</th>\n",
       "      <th>ParentId</th>\n",
       "      <th>Score</th>\n",
       "      <th>Body</th>\n",
       "    </tr>\n",
       "  </thead>\n",
       "  <tbody>\n",
       "    <tr>\n",
       "      <th>0</th>\n",
       "      <td>497</td>\n",
       "      <td>50.0</td>\n",
       "      <td>2008-08-02T16:56:53Z</td>\n",
       "      <td>469</td>\n",
       "      <td>4</td>\n",
       "      <td>&lt;p&gt;open up a terminal (Applications-&amp;gt;Utilit...</td>\n",
       "    </tr>\n",
       "    <tr>\n",
       "      <th>1</th>\n",
       "      <td>518</td>\n",
       "      <td>153.0</td>\n",
       "      <td>2008-08-02T17:42:28Z</td>\n",
       "      <td>469</td>\n",
       "      <td>2</td>\n",
       "      <td>&lt;p&gt;I haven't been able to find anything that d...</td>\n",
       "    </tr>\n",
       "    <tr>\n",
       "      <th>2</th>\n",
       "      <td>536</td>\n",
       "      <td>161.0</td>\n",
       "      <td>2008-08-02T18:49:07Z</td>\n",
       "      <td>502</td>\n",
       "      <td>9</td>\n",
       "      <td>&lt;p&gt;You can use ImageMagick's convert utility f...</td>\n",
       "    </tr>\n",
       "    <tr>\n",
       "      <th>3</th>\n",
       "      <td>538</td>\n",
       "      <td>156.0</td>\n",
       "      <td>2008-08-02T18:56:56Z</td>\n",
       "      <td>535</td>\n",
       "      <td>23</td>\n",
       "      <td>&lt;p&gt;One possibility is Hudson.  It's written in...</td>\n",
       "    </tr>\n",
       "    <tr>\n",
       "      <th>4</th>\n",
       "      <td>541</td>\n",
       "      <td>157.0</td>\n",
       "      <td>2008-08-02T19:06:40Z</td>\n",
       "      <td>535</td>\n",
       "      <td>20</td>\n",
       "      <td>&lt;p&gt;We run &lt;a href=\"http://buildbot.net/trac\"&gt;B...</td>\n",
       "    </tr>\n",
       "  </tbody>\n",
       "</table>\n",
       "</div>"
      ],
      "text/plain": [
       "    Id  OwnerUserId          CreationDate  ParentId  Score  \\\n",
       "0  497         50.0  2008-08-02T16:56:53Z       469      4   \n",
       "1  518        153.0  2008-08-02T17:42:28Z       469      2   \n",
       "2  536        161.0  2008-08-02T18:49:07Z       502      9   \n",
       "3  538        156.0  2008-08-02T18:56:56Z       535     23   \n",
       "4  541        157.0  2008-08-02T19:06:40Z       535     20   \n",
       "\n",
       "                                                Body  \n",
       "0  <p>open up a terminal (Applications-&gt;Utilit...  \n",
       "1  <p>I haven't been able to find anything that d...  \n",
       "2  <p>You can use ImageMagick's convert utility f...  \n",
       "3  <p>One possibility is Hudson.  It's written in...  \n",
       "4  <p>We run <a href=\"http://buildbot.net/trac\">B...  "
      ]
     },
     "execution_count": 41,
     "metadata": {},
     "output_type": "execute_result"
    }
   ],
   "source": [
    "answers_df.head()"
   ]
  },
  {
   "cell_type": "code",
   "execution_count": 61,
   "metadata": {
    "collapsed": true
   },
   "outputs": [],
   "source": [
    "sampled_answers_df = sampled_answers_df_stg.iloc[:,6:12]"
   ]
  },
  {
   "cell_type": "code",
   "execution_count": 64,
   "metadata": {
    "collapsed": true
   },
   "outputs": [
    {
     "data": {
      "text/html": [
       "<div>\n",
       "<style scoped>\n",
       "    .dataframe tbody tr th:only-of-type {\n",
       "        vertical-align: middle;\n",
       "    }\n",
       "\n",
       "    .dataframe tbody tr th {\n",
       "        vertical-align: top;\n",
       "    }\n",
       "\n",
       "    .dataframe thead th {\n",
       "        text-align: right;\n",
       "    }\n",
       "</style>\n",
       "<table border=\"1\" class=\"dataframe\">\n",
       "  <thead>\n",
       "    <tr style=\"text-align: right;\">\n",
       "      <th></th>\n",
       "      <th>Id_y</th>\n",
       "      <th>OwnerUserId_y</th>\n",
       "      <th>CreationDate_y</th>\n",
       "      <th>ParentId</th>\n",
       "      <th>Score_y</th>\n",
       "      <th>Body_y</th>\n",
       "    </tr>\n",
       "  </thead>\n",
       "  <tbody>\n",
       "    <tr>\n",
       "      <th>0</th>\n",
       "      <td>17532939</td>\n",
       "      <td>819544.0</td>\n",
       "      <td>2013-07-08T17:51:10Z</td>\n",
       "      <td>17532666</td>\n",
       "      <td>0</td>\n",
       "      <td>&lt;p&gt;According to &lt;a href=\"https://groups.google...</td>\n",
       "    </tr>\n",
       "    <tr>\n",
       "      <th>1</th>\n",
       "      <td>17534909</td>\n",
       "      <td>2497657.0</td>\n",
       "      <td>2013-07-08T19:56:01Z</td>\n",
       "      <td>17532666</td>\n",
       "      <td>0</td>\n",
       "      <td>&lt;p&gt;You are using basic authentication with use...</td>\n",
       "    </tr>\n",
       "    <tr>\n",
       "      <th>2</th>\n",
       "      <td>10541546</td>\n",
       "      <td>90801.0</td>\n",
       "      <td>2012-05-10T20:22:23Z</td>\n",
       "      <td>10540999</td>\n",
       "      <td>6</td>\n",
       "      <td>&lt;p&gt;&lt;a href=\"http://clojure.org/protocols\"&gt;Prot...</td>\n",
       "    </tr>\n",
       "    <tr>\n",
       "      <th>3</th>\n",
       "      <td>34126295</td>\n",
       "      <td>5385159.0</td>\n",
       "      <td>2015-12-07T04:09:47Z</td>\n",
       "      <td>34126234</td>\n",
       "      <td>1</td>\n",
       "      <td>&lt;p&gt;Iterating through a JSON object using a for...</td>\n",
       "    </tr>\n",
       "    <tr>\n",
       "      <th>4</th>\n",
       "      <td>34126299</td>\n",
       "      <td>642070.0</td>\n",
       "      <td>2015-12-07T04:10:36Z</td>\n",
       "      <td>34126234</td>\n",
       "      <td>0</td>\n",
       "      <td>&lt;p&gt;Try &lt;code&gt;print(type(datas))&lt;/code&gt;, you'll...</td>\n",
       "    </tr>\n",
       "  </tbody>\n",
       "</table>\n",
       "</div>"
      ],
      "text/plain": [
       "       Id_y  OwnerUserId_y        CreationDate_y  ParentId  Score_y  \\\n",
       "0  17532939       819544.0  2013-07-08T17:51:10Z  17532666        0   \n",
       "1  17534909      2497657.0  2013-07-08T19:56:01Z  17532666        0   \n",
       "2  10541546        90801.0  2012-05-10T20:22:23Z  10540999        6   \n",
       "3  34126295      5385159.0  2015-12-07T04:09:47Z  34126234        1   \n",
       "4  34126299       642070.0  2015-12-07T04:10:36Z  34126234        0   \n",
       "\n",
       "                                              Body_y  \n",
       "0  <p>According to <a href=\"https://groups.google...  \n",
       "1  <p>You are using basic authentication with use...  \n",
       "2  <p><a href=\"http://clojure.org/protocols\">Prot...  \n",
       "3  <p>Iterating through a JSON object using a for...  \n",
       "4  <p>Try <code>print(type(datas))</code>, you'll...  "
      ]
     },
     "execution_count": 64,
     "metadata": {},
     "output_type": "execute_result"
    }
   ],
   "source": [
    "sampled_answers_df.head()"
   ]
  },
  {
   "cell_type": "markdown",
   "metadata": {},
   "source": [
    "### Here I am processing the Tags down to just the sample questions "
   ]
  },
  {
   "cell_type": "code",
   "execution_count": 82,
   "metadata": {
    "collapsed": true
   },
   "outputs": [],
   "source": [
    "sample_tags_df_stg = pd.merge(tags_df, sampled_questions_df, left_on='Id', right_on='Id', how='inner')"
   ]
  },
  {
   "cell_type": "code",
   "execution_count": 83,
   "metadata": {
    "collapsed": true
   },
   "outputs": [],
   "source": [
    "sample_tags_df = sample_tags_stg.iloc[:,0:2]"
   ]
  },
  {
   "cell_type": "code",
   "execution_count": 84,
   "metadata": {
    "collapsed": true
   },
   "outputs": [
    {
     "data": {
      "text/html": [
       "<div>\n",
       "<style scoped>\n",
       "    .dataframe tbody tr th:only-of-type {\n",
       "        vertical-align: middle;\n",
       "    }\n",
       "\n",
       "    .dataframe tbody tr th {\n",
       "        vertical-align: top;\n",
       "    }\n",
       "\n",
       "    .dataframe thead th {\n",
       "        text-align: right;\n",
       "    }\n",
       "</style>\n",
       "<table border=\"1\" class=\"dataframe\">\n",
       "  <thead>\n",
       "    <tr style=\"text-align: right;\">\n",
       "      <th></th>\n",
       "      <th>Id</th>\n",
       "      <th>Tag</th>\n",
       "    </tr>\n",
       "  </thead>\n",
       "  <tbody>\n",
       "    <tr>\n",
       "      <th>0</th>\n",
       "      <td>19339</td>\n",
       "      <td>python</td>\n",
       "    </tr>\n",
       "    <tr>\n",
       "      <th>1</th>\n",
       "      <td>19339</td>\n",
       "      <td>list</td>\n",
       "    </tr>\n",
       "    <tr>\n",
       "      <th>2</th>\n",
       "      <td>19339</td>\n",
       "      <td>matrix</td>\n",
       "    </tr>\n",
       "    <tr>\n",
       "      <th>3</th>\n",
       "      <td>19339</td>\n",
       "      <td>unzip</td>\n",
       "    </tr>\n",
       "    <tr>\n",
       "      <th>4</th>\n",
       "      <td>19339</td>\n",
       "      <td>transpose</td>\n",
       "    </tr>\n",
       "  </tbody>\n",
       "</table>\n",
       "</div>"
      ],
      "text/plain": [
       "      Id        Tag\n",
       "0  19339     python\n",
       "1  19339       list\n",
       "2  19339     matrix\n",
       "3  19339      unzip\n",
       "4  19339  transpose"
      ]
     },
     "execution_count": 84,
     "metadata": {},
     "output_type": "execute_result"
    }
   ],
   "source": [
    "sample_tags_df.head()"
   ]
  },
  {
   "cell_type": "code",
   "execution_count": null,
   "metadata": {
    "collapsed": true
   },
   "outputs": [],
   "source": []
  }
 ],
 "metadata": {
  "kernelspec": {
   "display_name": "Python 3",
   "language": "python",
   "name": "python3"
  },
  "language_info": {
   "codemirror_mode": {
    "name": "ipython",
    "version": 3
   },
   "file_extension": ".py",
   "mimetype": "text/x-python",
   "name": "python",
   "nbconvert_exporter": "python",
   "pygments_lexer": "ipython3",
   "version": "3.6.5"
  }
 },
 "nbformat": 4,
 "nbformat_minor": 2
}
